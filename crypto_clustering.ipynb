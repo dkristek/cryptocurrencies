{
 "cells": [
  {
   "cell_type": "markdown",
   "metadata": {},
   "source": [
    "# Clustering Crypto"
   ]
  },
  {
   "cell_type": "code",
   "execution_count": 48,
   "metadata": {},
   "outputs": [],
   "source": [
    "# Initial imports\n",
    "import pandas as pd\n",
    "import hvplot.pandas\n",
    "from path import Path\n",
    "import plotly.express as px\n",
    "from sklearn.preprocessing import StandardScaler, MinMaxScaler, LabelEncoder\n",
    "from sklearn.decomposition import PCA\n",
    "from sklearn.cluster import KMeans\n"
   ]
  },
  {
   "cell_type": "markdown",
   "metadata": {},
   "source": [
    "### Deliverable 1: Preprocessing the Data for PCA"
   ]
  },
  {
   "cell_type": "code",
   "execution_count": 38,
   "metadata": {},
   "outputs": [
    {
     "data": {
      "text/html": [
       "<div>\n",
       "<style scoped>\n",
       "    .dataframe tbody tr th:only-of-type {\n",
       "        vertical-align: middle;\n",
       "    }\n",
       "\n",
       "    .dataframe tbody tr th {\n",
       "        vertical-align: top;\n",
       "    }\n",
       "\n",
       "    .dataframe thead th {\n",
       "        text-align: right;\n",
       "    }\n",
       "</style>\n",
       "<table border=\"1\" class=\"dataframe\">\n",
       "  <thead>\n",
       "    <tr style=\"text-align: right;\">\n",
       "      <th></th>\n",
       "      <th>Unnamed: 0</th>\n",
       "      <th>CoinName</th>\n",
       "      <th>Algorithm</th>\n",
       "      <th>IsTrading</th>\n",
       "      <th>ProofType</th>\n",
       "      <th>TotalCoinsMined</th>\n",
       "      <th>TotalCoinSupply</th>\n",
       "    </tr>\n",
       "  </thead>\n",
       "  <tbody>\n",
       "    <tr>\n",
       "      <th>0</th>\n",
       "      <td>42</td>\n",
       "      <td>42 Coin</td>\n",
       "      <td>Scrypt</td>\n",
       "      <td>True</td>\n",
       "      <td>PoW/PoS</td>\n",
       "      <td>4.199995e+01</td>\n",
       "      <td>42</td>\n",
       "    </tr>\n",
       "    <tr>\n",
       "      <th>1</th>\n",
       "      <td>365</td>\n",
       "      <td>365Coin</td>\n",
       "      <td>X11</td>\n",
       "      <td>True</td>\n",
       "      <td>PoW/PoS</td>\n",
       "      <td>NaN</td>\n",
       "      <td>2300000000</td>\n",
       "    </tr>\n",
       "    <tr>\n",
       "      <th>2</th>\n",
       "      <td>404</td>\n",
       "      <td>404Coin</td>\n",
       "      <td>Scrypt</td>\n",
       "      <td>True</td>\n",
       "      <td>PoW/PoS</td>\n",
       "      <td>1.055185e+09</td>\n",
       "      <td>532000000</td>\n",
       "    </tr>\n",
       "    <tr>\n",
       "      <th>3</th>\n",
       "      <td>611</td>\n",
       "      <td>SixEleven</td>\n",
       "      <td>SHA-256</td>\n",
       "      <td>True</td>\n",
       "      <td>PoW</td>\n",
       "      <td>NaN</td>\n",
       "      <td>611000</td>\n",
       "    </tr>\n",
       "    <tr>\n",
       "      <th>4</th>\n",
       "      <td>808</td>\n",
       "      <td>808</td>\n",
       "      <td>SHA-256</td>\n",
       "      <td>True</td>\n",
       "      <td>PoW/PoS</td>\n",
       "      <td>0.000000e+00</td>\n",
       "      <td>0</td>\n",
       "    </tr>\n",
       "    <tr>\n",
       "      <th>5</th>\n",
       "      <td>1337</td>\n",
       "      <td>EliteCoin</td>\n",
       "      <td>X13</td>\n",
       "      <td>True</td>\n",
       "      <td>PoW/PoS</td>\n",
       "      <td>2.927942e+10</td>\n",
       "      <td>314159265359</td>\n",
       "    </tr>\n",
       "    <tr>\n",
       "      <th>6</th>\n",
       "      <td>2015</td>\n",
       "      <td>2015 coin</td>\n",
       "      <td>X11</td>\n",
       "      <td>True</td>\n",
       "      <td>PoW/PoS</td>\n",
       "      <td>NaN</td>\n",
       "      <td>0</td>\n",
       "    </tr>\n",
       "    <tr>\n",
       "      <th>7</th>\n",
       "      <td>BTC</td>\n",
       "      <td>Bitcoin</td>\n",
       "      <td>SHA-256</td>\n",
       "      <td>True</td>\n",
       "      <td>PoW</td>\n",
       "      <td>1.792718e+07</td>\n",
       "      <td>21000000</td>\n",
       "    </tr>\n",
       "    <tr>\n",
       "      <th>8</th>\n",
       "      <td>ETH</td>\n",
       "      <td>Ethereum</td>\n",
       "      <td>Ethash</td>\n",
       "      <td>True</td>\n",
       "      <td>PoW</td>\n",
       "      <td>1.076842e+08</td>\n",
       "      <td>0</td>\n",
       "    </tr>\n",
       "    <tr>\n",
       "      <th>9</th>\n",
       "      <td>LTC</td>\n",
       "      <td>Litecoin</td>\n",
       "      <td>Scrypt</td>\n",
       "      <td>True</td>\n",
       "      <td>PoW</td>\n",
       "      <td>6.303924e+07</td>\n",
       "      <td>84000000</td>\n",
       "    </tr>\n",
       "  </tbody>\n",
       "</table>\n",
       "</div>"
      ],
      "text/plain": [
       "  Unnamed: 0   CoinName Algorithm  IsTrading ProofType  TotalCoinsMined  \\\n",
       "0         42    42 Coin    Scrypt       True   PoW/PoS     4.199995e+01   \n",
       "1        365    365Coin       X11       True   PoW/PoS              NaN   \n",
       "2        404    404Coin    Scrypt       True   PoW/PoS     1.055185e+09   \n",
       "3        611  SixEleven   SHA-256       True       PoW              NaN   \n",
       "4        808        808   SHA-256       True   PoW/PoS     0.000000e+00   \n",
       "5       1337  EliteCoin       X13       True   PoW/PoS     2.927942e+10   \n",
       "6       2015  2015 coin       X11       True   PoW/PoS              NaN   \n",
       "7        BTC    Bitcoin   SHA-256       True       PoW     1.792718e+07   \n",
       "8        ETH   Ethereum    Ethash       True       PoW     1.076842e+08   \n",
       "9        LTC   Litecoin    Scrypt       True       PoW     6.303924e+07   \n",
       "\n",
       "  TotalCoinSupply  \n",
       "0              42  \n",
       "1      2300000000  \n",
       "2       532000000  \n",
       "3          611000  \n",
       "4               0  \n",
       "5    314159265359  \n",
       "6               0  \n",
       "7        21000000  \n",
       "8               0  \n",
       "9        84000000  "
      ]
     },
     "execution_count": 38,
     "metadata": {},
     "output_type": "execute_result"
    }
   ],
   "source": [
    "# Load the crypto_data.csv dataset.\n",
    "crypto_df = pd.read_csv('crypto_data.csv')\n",
    "crypto_df.head(10)"
   ]
  },
  {
   "cell_type": "code",
   "execution_count": 39,
   "metadata": {},
   "outputs": [],
   "source": [
    "# Keep all the cryptocurrencies that are being traded.\n",
    "crypto_df = crypto_df[crypto_df[\"IsTrading\"]== True]\n",
    "crypto_df = crypto_df.set_index(\"Unnamed: 0\")\n",
    "crypto_df.index.name = None"
   ]
  },
  {
   "cell_type": "code",
   "execution_count": 40,
   "metadata": {},
   "outputs": [
    {
     "data": {
      "text/html": [
       "<div>\n",
       "<style scoped>\n",
       "    .dataframe tbody tr th:only-of-type {\n",
       "        vertical-align: middle;\n",
       "    }\n",
       "\n",
       "    .dataframe tbody tr th {\n",
       "        vertical-align: top;\n",
       "    }\n",
       "\n",
       "    .dataframe thead th {\n",
       "        text-align: right;\n",
       "    }\n",
       "</style>\n",
       "<table border=\"1\" class=\"dataframe\">\n",
       "  <thead>\n",
       "    <tr style=\"text-align: right;\">\n",
       "      <th></th>\n",
       "      <th>CoinName</th>\n",
       "      <th>Algorithm</th>\n",
       "      <th>IsTrading</th>\n",
       "      <th>ProofType</th>\n",
       "      <th>TotalCoinsMined</th>\n",
       "      <th>TotalCoinSupply</th>\n",
       "    </tr>\n",
       "  </thead>\n",
       "  <tbody>\n",
       "    <tr>\n",
       "      <th>42</th>\n",
       "      <td>42 Coin</td>\n",
       "      <td>Scrypt</td>\n",
       "      <td>True</td>\n",
       "      <td>PoW/PoS</td>\n",
       "      <td>4.199995e+01</td>\n",
       "      <td>42</td>\n",
       "    </tr>\n",
       "    <tr>\n",
       "      <th>365</th>\n",
       "      <td>365Coin</td>\n",
       "      <td>X11</td>\n",
       "      <td>True</td>\n",
       "      <td>PoW/PoS</td>\n",
       "      <td>NaN</td>\n",
       "      <td>2300000000</td>\n",
       "    </tr>\n",
       "    <tr>\n",
       "      <th>404</th>\n",
       "      <td>404Coin</td>\n",
       "      <td>Scrypt</td>\n",
       "      <td>True</td>\n",
       "      <td>PoW/PoS</td>\n",
       "      <td>1.055185e+09</td>\n",
       "      <td>532000000</td>\n",
       "    </tr>\n",
       "    <tr>\n",
       "      <th>611</th>\n",
       "      <td>SixEleven</td>\n",
       "      <td>SHA-256</td>\n",
       "      <td>True</td>\n",
       "      <td>PoW</td>\n",
       "      <td>NaN</td>\n",
       "      <td>611000</td>\n",
       "    </tr>\n",
       "    <tr>\n",
       "      <th>808</th>\n",
       "      <td>808</td>\n",
       "      <td>SHA-256</td>\n",
       "      <td>True</td>\n",
       "      <td>PoW/PoS</td>\n",
       "      <td>0.000000e+00</td>\n",
       "      <td>0</td>\n",
       "    </tr>\n",
       "    <tr>\n",
       "      <th>1337</th>\n",
       "      <td>EliteCoin</td>\n",
       "      <td>X13</td>\n",
       "      <td>True</td>\n",
       "      <td>PoW/PoS</td>\n",
       "      <td>2.927942e+10</td>\n",
       "      <td>314159265359</td>\n",
       "    </tr>\n",
       "    <tr>\n",
       "      <th>2015</th>\n",
       "      <td>2015 coin</td>\n",
       "      <td>X11</td>\n",
       "      <td>True</td>\n",
       "      <td>PoW/PoS</td>\n",
       "      <td>NaN</td>\n",
       "      <td>0</td>\n",
       "    </tr>\n",
       "    <tr>\n",
       "      <th>BTC</th>\n",
       "      <td>Bitcoin</td>\n",
       "      <td>SHA-256</td>\n",
       "      <td>True</td>\n",
       "      <td>PoW</td>\n",
       "      <td>1.792718e+07</td>\n",
       "      <td>21000000</td>\n",
       "    </tr>\n",
       "    <tr>\n",
       "      <th>ETH</th>\n",
       "      <td>Ethereum</td>\n",
       "      <td>Ethash</td>\n",
       "      <td>True</td>\n",
       "      <td>PoW</td>\n",
       "      <td>1.076842e+08</td>\n",
       "      <td>0</td>\n",
       "    </tr>\n",
       "    <tr>\n",
       "      <th>LTC</th>\n",
       "      <td>Litecoin</td>\n",
       "      <td>Scrypt</td>\n",
       "      <td>True</td>\n",
       "      <td>PoW</td>\n",
       "      <td>6.303924e+07</td>\n",
       "      <td>84000000</td>\n",
       "    </tr>\n",
       "  </tbody>\n",
       "</table>\n",
       "</div>"
      ],
      "text/plain": [
       "       CoinName Algorithm  IsTrading ProofType  TotalCoinsMined  \\\n",
       "42      42 Coin    Scrypt       True   PoW/PoS     4.199995e+01   \n",
       "365     365Coin       X11       True   PoW/PoS              NaN   \n",
       "404     404Coin    Scrypt       True   PoW/PoS     1.055185e+09   \n",
       "611   SixEleven   SHA-256       True       PoW              NaN   \n",
       "808         808   SHA-256       True   PoW/PoS     0.000000e+00   \n",
       "1337  EliteCoin       X13       True   PoW/PoS     2.927942e+10   \n",
       "2015  2015 coin       X11       True   PoW/PoS              NaN   \n",
       "BTC     Bitcoin   SHA-256       True       PoW     1.792718e+07   \n",
       "ETH    Ethereum    Ethash       True       PoW     1.076842e+08   \n",
       "LTC    Litecoin    Scrypt       True       PoW     6.303924e+07   \n",
       "\n",
       "     TotalCoinSupply  \n",
       "42                42  \n",
       "365       2300000000  \n",
       "404        532000000  \n",
       "611           611000  \n",
       "808                0  \n",
       "1337    314159265359  \n",
       "2015               0  \n",
       "BTC         21000000  \n",
       "ETH                0  \n",
       "LTC         84000000  "
      ]
     },
     "execution_count": 40,
     "metadata": {},
     "output_type": "execute_result"
    }
   ],
   "source": [
    "crypto_df.head(10)"
   ]
  },
  {
   "cell_type": "code",
   "execution_count": 41,
   "metadata": {},
   "outputs": [
    {
     "data": {
      "text/html": [
       "<div>\n",
       "<style scoped>\n",
       "    .dataframe tbody tr th:only-of-type {\n",
       "        vertical-align: middle;\n",
       "    }\n",
       "\n",
       "    .dataframe tbody tr th {\n",
       "        vertical-align: top;\n",
       "    }\n",
       "\n",
       "    .dataframe thead th {\n",
       "        text-align: right;\n",
       "    }\n",
       "</style>\n",
       "<table border=\"1\" class=\"dataframe\">\n",
       "  <thead>\n",
       "    <tr style=\"text-align: right;\">\n",
       "      <th></th>\n",
       "      <th>CoinName</th>\n",
       "      <th>Algorithm</th>\n",
       "      <th>IsTrading</th>\n",
       "      <th>ProofType</th>\n",
       "      <th>TotalCoinsMined</th>\n",
       "      <th>TotalCoinSupply</th>\n",
       "    </tr>\n",
       "  </thead>\n",
       "  <tbody>\n",
       "    <tr>\n",
       "      <th>42</th>\n",
       "      <td>42 Coin</td>\n",
       "      <td>Scrypt</td>\n",
       "      <td>True</td>\n",
       "      <td>PoW/PoS</td>\n",
       "      <td>4.199995e+01</td>\n",
       "      <td>42</td>\n",
       "    </tr>\n",
       "    <tr>\n",
       "      <th>365</th>\n",
       "      <td>365Coin</td>\n",
       "      <td>X11</td>\n",
       "      <td>True</td>\n",
       "      <td>PoW/PoS</td>\n",
       "      <td>NaN</td>\n",
       "      <td>2300000000</td>\n",
       "    </tr>\n",
       "    <tr>\n",
       "      <th>404</th>\n",
       "      <td>404Coin</td>\n",
       "      <td>Scrypt</td>\n",
       "      <td>True</td>\n",
       "      <td>PoW/PoS</td>\n",
       "      <td>1.055185e+09</td>\n",
       "      <td>532000000</td>\n",
       "    </tr>\n",
       "    <tr>\n",
       "      <th>611</th>\n",
       "      <td>SixEleven</td>\n",
       "      <td>SHA-256</td>\n",
       "      <td>True</td>\n",
       "      <td>PoW</td>\n",
       "      <td>NaN</td>\n",
       "      <td>611000</td>\n",
       "    </tr>\n",
       "    <tr>\n",
       "      <th>808</th>\n",
       "      <td>808</td>\n",
       "      <td>SHA-256</td>\n",
       "      <td>True</td>\n",
       "      <td>PoW/PoS</td>\n",
       "      <td>0.000000e+00</td>\n",
       "      <td>0</td>\n",
       "    </tr>\n",
       "    <tr>\n",
       "      <th>1337</th>\n",
       "      <td>EliteCoin</td>\n",
       "      <td>X13</td>\n",
       "      <td>True</td>\n",
       "      <td>PoW/PoS</td>\n",
       "      <td>2.927942e+10</td>\n",
       "      <td>314159265359</td>\n",
       "    </tr>\n",
       "    <tr>\n",
       "      <th>2015</th>\n",
       "      <td>2015 coin</td>\n",
       "      <td>X11</td>\n",
       "      <td>True</td>\n",
       "      <td>PoW/PoS</td>\n",
       "      <td>NaN</td>\n",
       "      <td>0</td>\n",
       "    </tr>\n",
       "    <tr>\n",
       "      <th>BTC</th>\n",
       "      <td>Bitcoin</td>\n",
       "      <td>SHA-256</td>\n",
       "      <td>True</td>\n",
       "      <td>PoW</td>\n",
       "      <td>1.792718e+07</td>\n",
       "      <td>21000000</td>\n",
       "    </tr>\n",
       "    <tr>\n",
       "      <th>ETH</th>\n",
       "      <td>Ethereum</td>\n",
       "      <td>Ethash</td>\n",
       "      <td>True</td>\n",
       "      <td>PoW</td>\n",
       "      <td>1.076842e+08</td>\n",
       "      <td>0</td>\n",
       "    </tr>\n",
       "    <tr>\n",
       "      <th>LTC</th>\n",
       "      <td>Litecoin</td>\n",
       "      <td>Scrypt</td>\n",
       "      <td>True</td>\n",
       "      <td>PoW</td>\n",
       "      <td>6.303924e+07</td>\n",
       "      <td>84000000</td>\n",
       "    </tr>\n",
       "  </tbody>\n",
       "</table>\n",
       "</div>"
      ],
      "text/plain": [
       "       CoinName Algorithm  IsTrading ProofType  TotalCoinsMined  \\\n",
       "42      42 Coin    Scrypt       True   PoW/PoS     4.199995e+01   \n",
       "365     365Coin       X11       True   PoW/PoS              NaN   \n",
       "404     404Coin    Scrypt       True   PoW/PoS     1.055185e+09   \n",
       "611   SixEleven   SHA-256       True       PoW              NaN   \n",
       "808         808   SHA-256       True   PoW/PoS     0.000000e+00   \n",
       "1337  EliteCoin       X13       True   PoW/PoS     2.927942e+10   \n",
       "2015  2015 coin       X11       True   PoW/PoS              NaN   \n",
       "BTC     Bitcoin   SHA-256       True       PoW     1.792718e+07   \n",
       "ETH    Ethereum    Ethash       True       PoW     1.076842e+08   \n",
       "LTC    Litecoin    Scrypt       True       PoW     6.303924e+07   \n",
       "\n",
       "     TotalCoinSupply  \n",
       "42                42  \n",
       "365       2300000000  \n",
       "404        532000000  \n",
       "611           611000  \n",
       "808                0  \n",
       "1337    314159265359  \n",
       "2015               0  \n",
       "BTC         21000000  \n",
       "ETH                0  \n",
       "LTC         84000000  "
      ]
     },
     "execution_count": 41,
     "metadata": {},
     "output_type": "execute_result"
    }
   ],
   "source": [
    "# Keep all the cryptocurrencies that have a working algorithm.\n",
    "crypto_df = crypto_df[crypto_df[\"Algorithm\"]!= None]\n",
    "crypto_df.head(10)"
   ]
  },
  {
   "cell_type": "code",
   "execution_count": 42,
   "metadata": {},
   "outputs": [
    {
     "data": {
      "text/html": [
       "<div>\n",
       "<style scoped>\n",
       "    .dataframe tbody tr th:only-of-type {\n",
       "        vertical-align: middle;\n",
       "    }\n",
       "\n",
       "    .dataframe tbody tr th {\n",
       "        vertical-align: top;\n",
       "    }\n",
       "\n",
       "    .dataframe thead th {\n",
       "        text-align: right;\n",
       "    }\n",
       "</style>\n",
       "<table border=\"1\" class=\"dataframe\">\n",
       "  <thead>\n",
       "    <tr style=\"text-align: right;\">\n",
       "      <th></th>\n",
       "      <th>CoinName</th>\n",
       "      <th>Algorithm</th>\n",
       "      <th>ProofType</th>\n",
       "      <th>TotalCoinsMined</th>\n",
       "      <th>TotalCoinSupply</th>\n",
       "    </tr>\n",
       "  </thead>\n",
       "  <tbody>\n",
       "    <tr>\n",
       "      <th>42</th>\n",
       "      <td>42 Coin</td>\n",
       "      <td>Scrypt</td>\n",
       "      <td>PoW/PoS</td>\n",
       "      <td>4.199995e+01</td>\n",
       "      <td>42</td>\n",
       "    </tr>\n",
       "    <tr>\n",
       "      <th>365</th>\n",
       "      <td>365Coin</td>\n",
       "      <td>X11</td>\n",
       "      <td>PoW/PoS</td>\n",
       "      <td>NaN</td>\n",
       "      <td>2300000000</td>\n",
       "    </tr>\n",
       "    <tr>\n",
       "      <th>404</th>\n",
       "      <td>404Coin</td>\n",
       "      <td>Scrypt</td>\n",
       "      <td>PoW/PoS</td>\n",
       "      <td>1.055185e+09</td>\n",
       "      <td>532000000</td>\n",
       "    </tr>\n",
       "    <tr>\n",
       "      <th>611</th>\n",
       "      <td>SixEleven</td>\n",
       "      <td>SHA-256</td>\n",
       "      <td>PoW</td>\n",
       "      <td>NaN</td>\n",
       "      <td>611000</td>\n",
       "    </tr>\n",
       "    <tr>\n",
       "      <th>808</th>\n",
       "      <td>808</td>\n",
       "      <td>SHA-256</td>\n",
       "      <td>PoW/PoS</td>\n",
       "      <td>0.000000e+00</td>\n",
       "      <td>0</td>\n",
       "    </tr>\n",
       "  </tbody>\n",
       "</table>\n",
       "</div>"
      ],
      "text/plain": [
       "      CoinName Algorithm ProofType  TotalCoinsMined TotalCoinSupply\n",
       "42     42 Coin    Scrypt   PoW/PoS     4.199995e+01              42\n",
       "365    365Coin       X11   PoW/PoS              NaN      2300000000\n",
       "404    404Coin    Scrypt   PoW/PoS     1.055185e+09       532000000\n",
       "611  SixEleven   SHA-256       PoW              NaN          611000\n",
       "808        808   SHA-256   PoW/PoS     0.000000e+00               0"
      ]
     },
     "execution_count": 42,
     "metadata": {},
     "output_type": "execute_result"
    }
   ],
   "source": [
    "# Remove the \"IsTrading\" column. \n",
    "crypto_df.drop(['IsTrading'], axis=1, inplace=True)\n",
    "crypto_df.head()"
   ]
  },
  {
   "cell_type": "code",
   "execution_count": 43,
   "metadata": {},
   "outputs": [
    {
     "data": {
      "text/html": [
       "<div>\n",
       "<style scoped>\n",
       "    .dataframe tbody tr th:only-of-type {\n",
       "        vertical-align: middle;\n",
       "    }\n",
       "\n",
       "    .dataframe tbody tr th {\n",
       "        vertical-align: top;\n",
       "    }\n",
       "\n",
       "    .dataframe thead th {\n",
       "        text-align: right;\n",
       "    }\n",
       "</style>\n",
       "<table border=\"1\" class=\"dataframe\">\n",
       "  <thead>\n",
       "    <tr style=\"text-align: right;\">\n",
       "      <th></th>\n",
       "      <th>CoinName</th>\n",
       "      <th>Algorithm</th>\n",
       "      <th>ProofType</th>\n",
       "      <th>TotalCoinsMined</th>\n",
       "      <th>TotalCoinSupply</th>\n",
       "    </tr>\n",
       "  </thead>\n",
       "  <tbody>\n",
       "    <tr>\n",
       "      <th>42</th>\n",
       "      <td>42 Coin</td>\n",
       "      <td>Scrypt</td>\n",
       "      <td>PoW/PoS</td>\n",
       "      <td>4.199995e+01</td>\n",
       "      <td>42</td>\n",
       "    </tr>\n",
       "    <tr>\n",
       "      <th>404</th>\n",
       "      <td>404Coin</td>\n",
       "      <td>Scrypt</td>\n",
       "      <td>PoW/PoS</td>\n",
       "      <td>1.055185e+09</td>\n",
       "      <td>532000000</td>\n",
       "    </tr>\n",
       "    <tr>\n",
       "      <th>808</th>\n",
       "      <td>808</td>\n",
       "      <td>SHA-256</td>\n",
       "      <td>PoW/PoS</td>\n",
       "      <td>0.000000e+00</td>\n",
       "      <td>0</td>\n",
       "    </tr>\n",
       "    <tr>\n",
       "      <th>1337</th>\n",
       "      <td>EliteCoin</td>\n",
       "      <td>X13</td>\n",
       "      <td>PoW/PoS</td>\n",
       "      <td>2.927942e+10</td>\n",
       "      <td>314159265359</td>\n",
       "    </tr>\n",
       "    <tr>\n",
       "      <th>BTC</th>\n",
       "      <td>Bitcoin</td>\n",
       "      <td>SHA-256</td>\n",
       "      <td>PoW</td>\n",
       "      <td>1.792718e+07</td>\n",
       "      <td>21000000</td>\n",
       "    </tr>\n",
       "  </tbody>\n",
       "</table>\n",
       "</div>"
      ],
      "text/plain": [
       "       CoinName Algorithm ProofType  TotalCoinsMined TotalCoinSupply\n",
       "42      42 Coin    Scrypt   PoW/PoS     4.199995e+01              42\n",
       "404     404Coin    Scrypt   PoW/PoS     1.055185e+09       532000000\n",
       "808         808   SHA-256   PoW/PoS     0.000000e+00               0\n",
       "1337  EliteCoin       X13   PoW/PoS     2.927942e+10    314159265359\n",
       "BTC     Bitcoin   SHA-256       PoW     1.792718e+07        21000000"
      ]
     },
     "execution_count": 43,
     "metadata": {},
     "output_type": "execute_result"
    }
   ],
   "source": [
    "# Remove rows that have at least 1 null value.\n",
    "crypto_df.dropna(inplace=True)\n",
    "crypto_df.head()"
   ]
  },
  {
   "cell_type": "code",
   "execution_count": 44,
   "metadata": {},
   "outputs": [
    {
     "data": {
      "text/html": [
       "<div>\n",
       "<style scoped>\n",
       "    .dataframe tbody tr th:only-of-type {\n",
       "        vertical-align: middle;\n",
       "    }\n",
       "\n",
       "    .dataframe tbody tr th {\n",
       "        vertical-align: top;\n",
       "    }\n",
       "\n",
       "    .dataframe thead th {\n",
       "        text-align: right;\n",
       "    }\n",
       "</style>\n",
       "<table border=\"1\" class=\"dataframe\">\n",
       "  <thead>\n",
       "    <tr style=\"text-align: right;\">\n",
       "      <th></th>\n",
       "      <th>CoinName</th>\n",
       "      <th>Algorithm</th>\n",
       "      <th>ProofType</th>\n",
       "      <th>TotalCoinsMined</th>\n",
       "      <th>TotalCoinSupply</th>\n",
       "    </tr>\n",
       "  </thead>\n",
       "  <tbody>\n",
       "    <tr>\n",
       "      <th>42</th>\n",
       "      <td>42 Coin</td>\n",
       "      <td>Scrypt</td>\n",
       "      <td>PoW/PoS</td>\n",
       "      <td>4.199995e+01</td>\n",
       "      <td>42</td>\n",
       "    </tr>\n",
       "    <tr>\n",
       "      <th>404</th>\n",
       "      <td>404Coin</td>\n",
       "      <td>Scrypt</td>\n",
       "      <td>PoW/PoS</td>\n",
       "      <td>1.055185e+09</td>\n",
       "      <td>532000000</td>\n",
       "    </tr>\n",
       "    <tr>\n",
       "      <th>1337</th>\n",
       "      <td>EliteCoin</td>\n",
       "      <td>X13</td>\n",
       "      <td>PoW/PoS</td>\n",
       "      <td>2.927942e+10</td>\n",
       "      <td>314159265359</td>\n",
       "    </tr>\n",
       "    <tr>\n",
       "      <th>BTC</th>\n",
       "      <td>Bitcoin</td>\n",
       "      <td>SHA-256</td>\n",
       "      <td>PoW</td>\n",
       "      <td>1.792718e+07</td>\n",
       "      <td>21000000</td>\n",
       "    </tr>\n",
       "    <tr>\n",
       "      <th>ETH</th>\n",
       "      <td>Ethereum</td>\n",
       "      <td>Ethash</td>\n",
       "      <td>PoW</td>\n",
       "      <td>1.076842e+08</td>\n",
       "      <td>0</td>\n",
       "    </tr>\n",
       "    <tr>\n",
       "      <th>LTC</th>\n",
       "      <td>Litecoin</td>\n",
       "      <td>Scrypt</td>\n",
       "      <td>PoW</td>\n",
       "      <td>6.303924e+07</td>\n",
       "      <td>84000000</td>\n",
       "    </tr>\n",
       "    <tr>\n",
       "      <th>DASH</th>\n",
       "      <td>Dash</td>\n",
       "      <td>X11</td>\n",
       "      <td>PoW/PoS</td>\n",
       "      <td>9.031294e+06</td>\n",
       "      <td>22000000</td>\n",
       "    </tr>\n",
       "    <tr>\n",
       "      <th>XMR</th>\n",
       "      <td>Monero</td>\n",
       "      <td>CryptoNight-V7</td>\n",
       "      <td>PoW</td>\n",
       "      <td>1.720114e+07</td>\n",
       "      <td>0</td>\n",
       "    </tr>\n",
       "    <tr>\n",
       "      <th>ETC</th>\n",
       "      <td>Ethereum Classic</td>\n",
       "      <td>Ethash</td>\n",
       "      <td>PoW</td>\n",
       "      <td>1.133597e+08</td>\n",
       "      <td>210000000</td>\n",
       "    </tr>\n",
       "    <tr>\n",
       "      <th>ZEC</th>\n",
       "      <td>ZCash</td>\n",
       "      <td>Equihash</td>\n",
       "      <td>PoW</td>\n",
       "      <td>7.383056e+06</td>\n",
       "      <td>21000000</td>\n",
       "    </tr>\n",
       "  </tbody>\n",
       "</table>\n",
       "</div>"
      ],
      "text/plain": [
       "              CoinName       Algorithm ProofType  TotalCoinsMined  \\\n",
       "42             42 Coin          Scrypt   PoW/PoS     4.199995e+01   \n",
       "404            404Coin          Scrypt   PoW/PoS     1.055185e+09   \n",
       "1337         EliteCoin             X13   PoW/PoS     2.927942e+10   \n",
       "BTC            Bitcoin         SHA-256       PoW     1.792718e+07   \n",
       "ETH           Ethereum          Ethash       PoW     1.076842e+08   \n",
       "LTC           Litecoin          Scrypt       PoW     6.303924e+07   \n",
       "DASH              Dash             X11   PoW/PoS     9.031294e+06   \n",
       "XMR             Monero  CryptoNight-V7       PoW     1.720114e+07   \n",
       "ETC   Ethereum Classic          Ethash       PoW     1.133597e+08   \n",
       "ZEC              ZCash        Equihash       PoW     7.383056e+06   \n",
       "\n",
       "     TotalCoinSupply  \n",
       "42                42  \n",
       "404        532000000  \n",
       "1337    314159265359  \n",
       "BTC         21000000  \n",
       "ETH                0  \n",
       "LTC         84000000  \n",
       "DASH        22000000  \n",
       "XMR                0  \n",
       "ETC        210000000  \n",
       "ZEC         21000000  "
      ]
     },
     "execution_count": 44,
     "metadata": {},
     "output_type": "execute_result"
    }
   ],
   "source": [
    "# Keep the rows where coins are mined.\n",
    "crypto_df = crypto_df[crypto_df[\"TotalCoinsMined\"]> 0]\n",
    "crypto_df.head(10)"
   ]
  },
  {
   "cell_type": "code",
   "execution_count": 45,
   "metadata": {},
   "outputs": [
    {
     "data": {
      "text/plain": [
       "42               42 Coin\n",
       "404              404Coin\n",
       "1337           EliteCoin\n",
       "BTC              Bitcoin\n",
       "ETH             Ethereum\n",
       "LTC             Litecoin\n",
       "DASH                Dash\n",
       "XMR               Monero\n",
       "ETC     Ethereum Classic\n",
       "ZEC                ZCash\n",
       "Name: CoinName, dtype: object"
      ]
     },
     "execution_count": 45,
     "metadata": {},
     "output_type": "execute_result"
    }
   ],
   "source": [
    "# Create a new DataFrame that holds only the cryptocurrencies names.\n",
    "names_df = crypto_df[\"CoinName\"]\n",
    "names_df.head(10)"
   ]
  },
  {
   "cell_type": "code",
   "execution_count": 46,
   "metadata": {},
   "outputs": [],
   "source": [
    "# Drop the 'CoinName' column since it's not going to be used on the clustering algorithm.\n",
    "crypto_df.drop([\"CoinName\"], axis=1, inplace=True)"
   ]
  },
  {
   "cell_type": "code",
   "execution_count": 70,
   "metadata": {},
   "outputs": [
    {
     "data": {
      "text/html": [
       "<div>\n",
       "<style scoped>\n",
       "    .dataframe tbody tr th:only-of-type {\n",
       "        vertical-align: middle;\n",
       "    }\n",
       "\n",
       "    .dataframe tbody tr th {\n",
       "        vertical-align: top;\n",
       "    }\n",
       "\n",
       "    .dataframe thead th {\n",
       "        text-align: right;\n",
       "    }\n",
       "</style>\n",
       "<table border=\"1\" class=\"dataframe\">\n",
       "  <thead>\n",
       "    <tr style=\"text-align: right;\">\n",
       "      <th></th>\n",
       "      <th>Algorithm</th>\n",
       "      <th>ProofType</th>\n",
       "      <th>TotalCoinsMined</th>\n",
       "      <th>TotalCoinSupply</th>\n",
       "    </tr>\n",
       "  </thead>\n",
       "  <tbody>\n",
       "    <tr>\n",
       "      <th>42</th>\n",
       "      <td>Scrypt</td>\n",
       "      <td>PoW/PoS</td>\n",
       "      <td>4.199995e+01</td>\n",
       "      <td>42</td>\n",
       "    </tr>\n",
       "    <tr>\n",
       "      <th>404</th>\n",
       "      <td>Scrypt</td>\n",
       "      <td>PoW/PoS</td>\n",
       "      <td>1.055185e+09</td>\n",
       "      <td>532000000</td>\n",
       "    </tr>\n",
       "    <tr>\n",
       "      <th>1337</th>\n",
       "      <td>X13</td>\n",
       "      <td>PoW/PoS</td>\n",
       "      <td>2.927942e+10</td>\n",
       "      <td>314159265359</td>\n",
       "    </tr>\n",
       "    <tr>\n",
       "      <th>BTC</th>\n",
       "      <td>SHA-256</td>\n",
       "      <td>PoW</td>\n",
       "      <td>1.792718e+07</td>\n",
       "      <td>21000000</td>\n",
       "    </tr>\n",
       "    <tr>\n",
       "      <th>ETH</th>\n",
       "      <td>Ethash</td>\n",
       "      <td>PoW</td>\n",
       "      <td>1.076842e+08</td>\n",
       "      <td>0</td>\n",
       "    </tr>\n",
       "  </tbody>\n",
       "</table>\n",
       "</div>"
      ],
      "text/plain": [
       "     Algorithm ProofType  TotalCoinsMined TotalCoinSupply\n",
       "42      Scrypt   PoW/PoS     4.199995e+01              42\n",
       "404     Scrypt   PoW/PoS     1.055185e+09       532000000\n",
       "1337       X13   PoW/PoS     2.927942e+10    314159265359\n",
       "BTC    SHA-256       PoW     1.792718e+07        21000000\n",
       "ETH     Ethash       PoW     1.076842e+08               0"
      ]
     },
     "execution_count": 70,
     "metadata": {},
     "output_type": "execute_result"
    }
   ],
   "source": [
    "crypto_df.head()"
   ]
  },
  {
   "cell_type": "code",
   "execution_count": 50,
   "metadata": {},
   "outputs": [
    {
     "data": {
      "text/html": [
       "<div>\n",
       "<style scoped>\n",
       "    .dataframe tbody tr th:only-of-type {\n",
       "        vertical-align: middle;\n",
       "    }\n",
       "\n",
       "    .dataframe tbody tr th {\n",
       "        vertical-align: top;\n",
       "    }\n",
       "\n",
       "    .dataframe thead th {\n",
       "        text-align: right;\n",
       "    }\n",
       "</style>\n",
       "<table border=\"1\" class=\"dataframe\">\n",
       "  <thead>\n",
       "    <tr style=\"text-align: right;\">\n",
       "      <th></th>\n",
       "      <th>Algorithm</th>\n",
       "      <th>ProofType</th>\n",
       "      <th>TotalCoinsMined</th>\n",
       "      <th>TotalCoinSupply</th>\n",
       "    </tr>\n",
       "  </thead>\n",
       "  <tbody>\n",
       "    <tr>\n",
       "      <th>42</th>\n",
       "      <td>52</td>\n",
       "      <td>15</td>\n",
       "      <td>4.199995e+01</td>\n",
       "      <td>42</td>\n",
       "    </tr>\n",
       "    <tr>\n",
       "      <th>404</th>\n",
       "      <td>52</td>\n",
       "      <td>15</td>\n",
       "      <td>1.055185e+09</td>\n",
       "      <td>532000000</td>\n",
       "    </tr>\n",
       "    <tr>\n",
       "      <th>1337</th>\n",
       "      <td>66</td>\n",
       "      <td>15</td>\n",
       "      <td>2.927942e+10</td>\n",
       "      <td>314159265359</td>\n",
       "    </tr>\n",
       "    <tr>\n",
       "      <th>BTC</th>\n",
       "      <td>47</td>\n",
       "      <td>12</td>\n",
       "      <td>1.792718e+07</td>\n",
       "      <td>21000000</td>\n",
       "    </tr>\n",
       "    <tr>\n",
       "      <th>ETH</th>\n",
       "      <td>20</td>\n",
       "      <td>12</td>\n",
       "      <td>1.076842e+08</td>\n",
       "      <td>0</td>\n",
       "    </tr>\n",
       "  </tbody>\n",
       "</table>\n",
       "</div>"
      ],
      "text/plain": [
       "      Algorithm  ProofType  TotalCoinsMined TotalCoinSupply\n",
       "42           52         15     4.199995e+01              42\n",
       "404          52         15     1.055185e+09       532000000\n",
       "1337         66         15     2.927942e+10    314159265359\n",
       "BTC          47         12     1.792718e+07        21000000\n",
       "ETH          20         12     1.076842e+08               0"
      ]
     },
     "execution_count": 50,
     "metadata": {},
     "output_type": "execute_result"
    }
   ],
   "source": [
    "# Use get_dummies() to create variables for text features.\n",
    "le = LabelEncoder()\n",
    "X = crypto_df.copy()\n",
    "X['Algorithm'] = le.fit_transform(X['Algorithm']) \n",
    "X['ProofType'] = le.fit_transform(X['ProofType']) \n",
    "X.head()"
   ]
  },
  {
   "cell_type": "code",
   "execution_count": 51,
   "metadata": {},
   "outputs": [
    {
     "name": "stdout",
     "output_type": "stream",
     "text": [
      "[[ 3.76459118e-01  8.91356555e-01 -1.17108170e-01 -1.52870298e-01]\n",
      " [ 3.76459118e-01  8.91356555e-01 -9.39695522e-02 -1.45008997e-01]\n",
      " [ 1.21543803e+00  8.91356555e-01  5.24945609e-01  4.48942416e+00]\n",
      " [ 7.68237937e-02  1.67233875e-03 -1.16715055e-01 -1.52559984e-01]\n",
      " [-1.54120696e+00  1.67233875e-03 -1.14746818e-01 -1.52870298e-01]]\n"
     ]
    }
   ],
   "source": [
    "# Standardize the data with StandardScaler().\n",
    "X_scaled = StandardScaler().fit_transform(X)\n",
    "print(X_scaled[0:5])"
   ]
  },
  {
   "cell_type": "markdown",
   "metadata": {},
   "source": [
    "### Deliverable 2: Reducing Data Dimensions Using PCA"
   ]
  },
  {
   "cell_type": "code",
   "execution_count": 52,
   "metadata": {},
   "outputs": [],
   "source": [
    "# Using PCA to reduce dimension to three principal components.\n",
    "pca = PCA(n_components=3)"
   ]
  },
  {
   "cell_type": "code",
   "execution_count": 63,
   "metadata": {},
   "outputs": [
    {
     "data": {
      "text/html": [
       "<div>\n",
       "<style scoped>\n",
       "    .dataframe tbody tr th:only-of-type {\n",
       "        vertical-align: middle;\n",
       "    }\n",
       "\n",
       "    .dataframe tbody tr th {\n",
       "        vertical-align: top;\n",
       "    }\n",
       "\n",
       "    .dataframe thead th {\n",
       "        text-align: right;\n",
       "    }\n",
       "</style>\n",
       "<table border=\"1\" class=\"dataframe\">\n",
       "  <thead>\n",
       "    <tr style=\"text-align: right;\">\n",
       "      <th></th>\n",
       "      <th>PC 1</th>\n",
       "      <th>PC 2</th>\n",
       "      <th>PC 3</th>\n",
       "    </tr>\n",
       "  </thead>\n",
       "  <tbody>\n",
       "    <tr>\n",
       "      <th>42</th>\n",
       "      <td>-0.417875</td>\n",
       "      <td>0.810296</td>\n",
       "      <td>0.372138</td>\n",
       "    </tr>\n",
       "    <tr>\n",
       "      <th>404</th>\n",
       "      <td>-0.396564</td>\n",
       "      <td>0.815135</td>\n",
       "      <td>0.373256</td>\n",
       "    </tr>\n",
       "    <tr>\n",
       "      <th>1337</th>\n",
       "      <td>3.124076</td>\n",
       "      <td>2.209780</td>\n",
       "      <td>0.504335</td>\n",
       "    </tr>\n",
       "    <tr>\n",
       "      <th>BTC</th>\n",
       "      <td>-0.192083</td>\n",
       "      <td>0.016266</td>\n",
       "      <td>-0.072910</td>\n",
       "    </tr>\n",
       "    <tr>\n",
       "      <th>ETH</th>\n",
       "      <td>-0.044116</td>\n",
       "      <td>-1.167492</td>\n",
       "      <td>1.012525</td>\n",
       "    </tr>\n",
       "  </tbody>\n",
       "</table>\n",
       "</div>"
      ],
      "text/plain": [
       "          PC 1      PC 2      PC 3\n",
       "42   -0.417875  0.810296  0.372138\n",
       "404  -0.396564  0.815135  0.373256\n",
       "1337  3.124076  2.209780  0.504335\n",
       "BTC  -0.192083  0.016266 -0.072910\n",
       "ETH  -0.044116 -1.167492  1.012525"
      ]
     },
     "execution_count": 63,
     "metadata": {},
     "output_type": "execute_result"
    }
   ],
   "source": [
    "# Create a DataFrame with the three principal components.\n",
    "X_pca=pca.fit_transform(X_scaled)\n",
    "pcs_df = pd.DataFrame(\n",
    "   data= X_pca, index=X.index, columns = [\"PC 1\", \"PC 2\",\"PC 3\"]) \n",
    "pcs_df.head()"
   ]
  },
  {
   "cell_type": "markdown",
   "metadata": {},
   "source": [
    "### Deliverable 3: Clustering Crytocurrencies Using K-Means\n",
    "\n",
    "#### Finding the Best Value for `k` Using the Elbow Curve"
   ]
  },
  {
   "cell_type": "code",
   "execution_count": 64,
   "metadata": {},
   "outputs": [
    {
     "name": "stderr",
     "output_type": "stream",
     "text": [
      "C:\\Users\\djkri\\anaconda3\\envs\\mlenv\\lib\\site-packages\\sklearn\\cluster\\_kmeans.py:1037: UserWarning: KMeans is known to have a memory leak on Windows with MKL, when there are less chunks than available threads. You can avoid it by setting the environment variable OMP_NUM_THREADS=3.\n",
      "  \"KMeans is known to have a memory leak on Windows \"\n"
     ]
    }
   ],
   "source": [
    "# Create an elbow curve to find the best value for K.\n",
    "inertia = []\n",
    "k = list(range(1, 11))\n",
    "for i in k:\n",
    "    km = KMeans(n_clusters=i, random_state=0)\n",
    "    km.fit(pcs_df)\n",
    "    inertia.append(km.inertia_)\n"
   ]
  },
  {
   "cell_type": "code",
   "execution_count": 65,
   "metadata": {},
   "outputs": [
    {
     "data": {},
     "metadata": {},
     "output_type": "display_data"
    },
    {
     "data": {
      "application/vnd.holoviews_exec.v0+json": "",
      "text/html": [
       "<div id='1120'>\n",
       "\n",
       "\n",
       "\n",
       "\n",
       "\n",
       "  <div class=\"bk-root\" id=\"7f4c487c-d4dd-404a-b662-3eb2e7111dd8\" data-root-id=\"1120\"></div>\n",
       "</div>\n",
       "<script type=\"application/javascript\">(function(root) {\n",
       "  function embed_document(root) {\n",
       "    var docs_json = {\"15b282cd-3d9c-40e0-aab3-95acc83cd3fd\":{\"defs\":[{\"extends\":null,\"module\":null,\"name\":\"ReactiveHTML1\",\"overrides\":[],\"properties\":[]},{\"extends\":null,\"module\":null,\"name\":\"FlexBox1\",\"overrides\":[],\"properties\":[{\"default\":\"flex-start\",\"kind\":null,\"name\":\"align_content\"},{\"default\":\"flex-start\",\"kind\":null,\"name\":\"align_items\"},{\"default\":\"row\",\"kind\":null,\"name\":\"flex_direction\"},{\"default\":\"wrap\",\"kind\":null,\"name\":\"flex_wrap\"},{\"default\":\"flex-start\",\"kind\":null,\"name\":\"justify_content\"}]},{\"extends\":null,\"module\":null,\"name\":\"GridStack1\",\"overrides\":[],\"properties\":[{\"default\":\"warn\",\"kind\":null,\"name\":\"mode\"},{\"default\":null,\"kind\":null,\"name\":\"ncols\"},{\"default\":null,\"kind\":null,\"name\":\"nrows\"},{\"default\":true,\"kind\":null,\"name\":\"allow_resize\"},{\"default\":true,\"kind\":null,\"name\":\"allow_drag\"},{\"default\":[],\"kind\":null,\"name\":\"state\"}]},{\"extends\":null,\"module\":null,\"name\":\"click1\",\"overrides\":[],\"properties\":[{\"default\":\"\",\"kind\":null,\"name\":\"terminal_output\"},{\"default\":\"\",\"kind\":null,\"name\":\"debug_name\"},{\"default\":0,\"kind\":null,\"name\":\"clears\"}]},{\"extends\":null,\"module\":null,\"name\":\"TemplateActions1\",\"overrides\":[],\"properties\":[{\"default\":0,\"kind\":null,\"name\":\"open_modal\"},{\"default\":0,\"kind\":null,\"name\":\"close_modal\"}]},{\"extends\":null,\"module\":null,\"name\":\"MaterialTemplateActions1\",\"overrides\":[],\"properties\":[{\"default\":0,\"kind\":null,\"name\":\"open_modal\"},{\"default\":0,\"kind\":null,\"name\":\"close_modal\"}]}],\"roots\":{\"references\":[{\"attributes\":{\"tools\":[{\"id\":\"1124\"},{\"id\":\"1142\"},{\"id\":\"1143\"},{\"id\":\"1144\"},{\"id\":\"1145\"},{\"id\":\"1146\"}]},\"id\":\"1148\",\"type\":\"Toolbar\"},{\"attributes\":{},\"id\":\"1139\",\"type\":\"BasicTicker\"},{\"attributes\":{\"coordinates\":null,\"group\":null,\"text\":\"Elbow Curve\",\"text_color\":\"black\",\"text_font_size\":\"12pt\"},\"id\":\"1126\",\"type\":\"Title\"},{\"attributes\":{},\"id\":\"1179\",\"type\":\"UnionRenderers\"},{\"attributes\":{\"axis\":{\"id\":\"1134\"},\"coordinates\":null,\"grid_line_color\":null,\"group\":null,\"ticker\":null},\"id\":\"1137\",\"type\":\"Grid\"},{\"attributes\":{\"bottom_units\":\"screen\",\"coordinates\":null,\"fill_alpha\":0.5,\"fill_color\":\"lightgrey\",\"group\":null,\"left_units\":\"screen\",\"level\":\"overlay\",\"line_alpha\":1.0,\"line_color\":\"black\",\"line_dash\":[4,4],\"line_width\":2,\"right_units\":\"screen\",\"syncable\":false,\"top_units\":\"screen\"},\"id\":\"1147\",\"type\":\"BoxAnnotation\"},{\"attributes\":{},\"id\":\"1132\",\"type\":\"LinearScale\"},{\"attributes\":{\"axis_label\":\"inertia\",\"coordinates\":null,\"formatter\":{\"id\":\"1171\"},\"group\":null,\"major_label_policy\":{\"id\":\"1172\"},\"ticker\":{\"id\":\"1139\"}},\"id\":\"1138\",\"type\":\"LinearAxis\"},{\"attributes\":{\"axis_label\":\"k\",\"coordinates\":null,\"formatter\":{\"id\":\"1166\"},\"group\":null,\"major_label_policy\":{\"id\":\"1167\"},\"ticker\":{\"id\":\"1164\"}},\"id\":\"1134\",\"type\":\"LinearAxis\"},{\"attributes\":{},\"id\":\"1172\",\"type\":\"AllLabels\"},{\"attributes\":{\"end\":2152.504340790279,\"reset_end\":2152.504340790279,\"reset_start\":-2.090991577128733,\"start\":-2.090991577128733,\"tags\":[[[\"inertia\",\"inertia\",null]]]},\"id\":\"1123\",\"type\":\"Range1d\"},{\"attributes\":{\"ticks\":[1,2,3,4,5,6,7,8,9,10]},\"id\":\"1164\",\"type\":\"FixedTicker\"},{\"attributes\":{\"children\":[{\"id\":\"1121\"},{\"id\":\"1125\"},{\"id\":\"1191\"}],\"margin\":[0,0,0,0],\"name\":\"Row01805\",\"tags\":[\"embedded\"]},\"id\":\"1120\",\"type\":\"Row\"},{\"attributes\":{\"axis\":{\"id\":\"1138\"},\"coordinates\":null,\"dimension\":1,\"grid_line_color\":null,\"group\":null,\"ticker\":null},\"id\":\"1141\",\"type\":\"Grid\"},{\"attributes\":{\"margin\":[5,5,5,5],\"name\":\"HSpacer01809\",\"sizing_mode\":\"stretch_width\"},\"id\":\"1121\",\"type\":\"Spacer\"},{\"attributes\":{\"below\":[{\"id\":\"1134\"}],\"center\":[{\"id\":\"1137\"},{\"id\":\"1141\"}],\"height\":300,\"left\":[{\"id\":\"1138\"}],\"margin\":[5,5,5,5],\"min_border_bottom\":10,\"min_border_left\":10,\"min_border_right\":10,\"min_border_top\":10,\"renderers\":[{\"id\":\"1161\"}],\"sizing_mode\":\"fixed\",\"title\":{\"id\":\"1126\"},\"toolbar\":{\"id\":\"1148\"},\"width\":700,\"x_range\":{\"id\":\"1122\"},\"x_scale\":{\"id\":\"1130\"},\"y_range\":{\"id\":\"1123\"},\"y_scale\":{\"id\":\"1132\"}},\"id\":\"1125\",\"subtype\":\"Figure\",\"type\":\"Plot\"},{\"attributes\":{},\"id\":\"1167\",\"type\":\"AllLabels\"},{\"attributes\":{\"line_color\":\"#30a2da\",\"line_width\":2,\"x\":{\"field\":\"k\"},\"y\":{\"field\":\"inertia\"}},\"id\":\"1158\",\"type\":\"Line\"},{\"attributes\":{\"end\":10.0,\"reset_end\":10.0,\"reset_start\":1.0,\"start\":1.0,\"tags\":[[[\"k\",\"k\",null]]]},\"id\":\"1122\",\"type\":\"Range1d\"},{\"attributes\":{\"line_alpha\":0.2,\"line_color\":\"#30a2da\",\"line_width\":2,\"x\":{\"field\":\"k\"},\"y\":{\"field\":\"inertia\"}},\"id\":\"1160\",\"type\":\"Line\"},{\"attributes\":{},\"id\":\"1166\",\"type\":\"BasicTickFormatter\"},{\"attributes\":{\"source\":{\"id\":\"1155\"}},\"id\":\"1162\",\"type\":\"CDSView\"},{\"attributes\":{\"line_color\":\"#30a2da\",\"line_width\":2,\"x\":{\"field\":\"k\"},\"y\":{\"field\":\"inertia\"}},\"id\":\"1163\",\"type\":\"Line\"},{\"attributes\":{\"margin\":[5,5,5,5],\"name\":\"HSpacer01810\",\"sizing_mode\":\"stretch_width\"},\"id\":\"1191\",\"type\":\"Spacer\"},{\"attributes\":{},\"id\":\"1171\",\"type\":\"BasicTickFormatter\"},{\"attributes\":{},\"id\":\"1142\",\"type\":\"SaveTool\"},{\"attributes\":{\"line_alpha\":0.1,\"line_color\":\"#30a2da\",\"line_width\":2,\"x\":{\"field\":\"k\"},\"y\":{\"field\":\"inertia\"}},\"id\":\"1159\",\"type\":\"Line\"},{\"attributes\":{\"callback\":null,\"renderers\":[{\"id\":\"1161\"}],\"tags\":[\"hv_created\"],\"tooltips\":[[\"k\",\"@{k}\"],[\"inertia\",\"@{inertia}\"]]},\"id\":\"1124\",\"type\":\"HoverTool\"},{\"attributes\":{},\"id\":\"1143\",\"type\":\"PanTool\"},{\"attributes\":{},\"id\":\"1146\",\"type\":\"ResetTool\"},{\"attributes\":{},\"id\":\"1156\",\"type\":\"Selection\"},{\"attributes\":{\"coordinates\":null,\"data_source\":{\"id\":\"1155\"},\"glyph\":{\"id\":\"1158\"},\"group\":null,\"hover_glyph\":null,\"muted_glyph\":{\"id\":\"1160\"},\"nonselection_glyph\":{\"id\":\"1159\"},\"selection_glyph\":{\"id\":\"1163\"},\"view\":{\"id\":\"1162\"}},\"id\":\"1161\",\"type\":\"GlyphRenderer\"},{\"attributes\":{\"data\":{\"inertia\":{\"__ndarray__\":\"EJmtpNHTnkCqz3hxN3GUQOsrEfSl0IpAqjfxKHrpgUCyIzP6YmN6QFcGaioVx3VA6bk7HJR0ckAYTRDzda9uQNxR6+RGb2lAYEG0Aq0uZkA=\",\"dtype\":\"float64\",\"order\":\"little\",\"shape\":[10]},\"k\":[1,2,3,4,5,6,7,8,9,10]},\"selected\":{\"id\":\"1156\"},\"selection_policy\":{\"id\":\"1179\"}},\"id\":\"1155\",\"type\":\"ColumnDataSource\"},{\"attributes\":{},\"id\":\"1144\",\"type\":\"WheelZoomTool\"},{\"attributes\":{\"overlay\":{\"id\":\"1147\"}},\"id\":\"1145\",\"type\":\"BoxZoomTool\"},{\"attributes\":{},\"id\":\"1130\",\"type\":\"LinearScale\"}],\"root_ids\":[\"1120\"]},\"title\":\"Bokeh Application\",\"version\":\"2.4.2\"}};\n",
       "    var render_items = [{\"docid\":\"15b282cd-3d9c-40e0-aab3-95acc83cd3fd\",\"root_ids\":[\"1120\"],\"roots\":{\"1120\":\"7f4c487c-d4dd-404a-b662-3eb2e7111dd8\"}}];\n",
       "    root.Bokeh.embed.embed_items_notebook(docs_json, render_items);\n",
       "  }\n",
       "  if (root.Bokeh !== undefined && root.Bokeh.Panel !== undefined) {\n",
       "    embed_document(root);\n",
       "  } else {\n",
       "    var attempts = 0;\n",
       "    var timer = setInterval(function(root) {\n",
       "      if (root.Bokeh !== undefined && root.Bokeh.Panel !== undefined) {\n",
       "        clearInterval(timer);\n",
       "        embed_document(root);\n",
       "      } else if (document.readyState == \"complete\") {\n",
       "        attempts++;\n",
       "        if (attempts > 200) {\n",
       "          clearInterval(timer);\n",
       "          console.log(\"Bokeh: ERROR: Unable to run BokehJS code because BokehJS library is missing\");\n",
       "        }\n",
       "      }\n",
       "    }, 25, root)\n",
       "  }\n",
       "})(window);</script>"
      ],
      "text/plain": [
       ":Curve   [k]   (inertia)"
      ]
     },
     "execution_count": 65,
     "metadata": {
      "application/vnd.holoviews_exec.v0+json": {
       "id": "1120"
      }
     },
     "output_type": "execute_result"
    }
   ],
   "source": [
    "# Define a DataFrame to plot the Elbow Curve using hvPlot\n",
    "elbow_data = {\"k\": k, \"inertia\": inertia}\n",
    "df_elbow = pd.DataFrame(elbow_data)\n",
    "df_elbow.hvplot.line(x=\"k\", y=\"inertia\", title=\"Elbow Curve\", xticks=k)"
   ]
  },
  {
   "cell_type": "markdown",
   "metadata": {},
   "source": [
    "Running K-Means with `k=4` as it seems to be an elbow point"
   ]
  },
  {
   "cell_type": "code",
   "execution_count": 66,
   "metadata": {},
   "outputs": [
    {
     "name": "stdout",
     "output_type": "stream",
     "text": [
      "[0 0 0 0 3 0 0 3 3 3 2 3 0 2 0 0 0 0 0 0 3 0 0 0 0 0 0 3 0 0 0 0 0 0 2 3 3\n",
      " 0 0 0 0 0 2 0 0 3 0 0 0 0 2 0 0 0 0 0 0 0 0 3 2 0 0 2 0 0 0 0 0 0 0 0 0 0\n",
      " 0 0 2 0 0 2 0 2 0 0 0 0 0 0 0 0 0 3 0 0 2 0 0 0 3 3 2 3 0 0 3 0 2 0 0 0 2\n",
      " 0 0 0 0 0 2 3 0 0 0 0 3 0 0 0 0 0 0 3 0 0 0 2 0 0 2 3 0 3 0 0 0 0 3 0 3 0\n",
      " 0 0 0 0 0 0 2 0 3 0 0 0 2 0 2 2 0 0 0 0 0 0 0 0 2 0 0 0 2 0 2 3 0 0 3 0 0\n",
      " 0 0 3 0 0 2 0 0 0 0 2 0 0 3 2 2 0 2 0 3 3 2 0 0 0 0 0 2 0 0 0 2 0 0 0 0 0\n",
      " 0 0 3 0 2 0 0 2 0 0 3 3 0 0 0 0 0 0 3 2 0 0 2 0 3 0 0 3 2 3 0 3 0 0 2 0 3\n",
      " 2 0 0 0 0 2 0 0 2 0 2 0 0 2 0 2 3 3 3 3 3 3 0 0 0 0 0 0 0 0 0 0 3 0 0 0 3\n",
      " 2 0 0 0 0 2 0 0 2 0 0 0 0 0 0 0 3 2 2 0 3 0 0 0 3 2 3 0 0 0 0 3 0 0 0 2 0\n",
      " 2 0 3 3 3 0 2 0 0 3 0 3 3 3 2 2 0 3 0 0 0 0 3 0 3 2 3 0 0 0 2 0 0 3 2 3 0\n",
      " 3 0 0 3 0 3 3 2 2 0 0 0 0 3 2 0 0 2 2 3 3 0 3 0 0 0 3 2 3 2 2 0 2 0 0 2 3\n",
      " 2 0 3 3 2 0 2 3 3 3 3 0 2 3 0 3 0 2 2 2 2 3 0 3 0 0 2 0 2 3 2 0 0 3 3 0 3\n",
      " 2 0 2 2 0 3 2 0 0 0 0 2 3 2 3 0 0 2 3 0 3 3 3 3 0 0 3 0 3 2 0 0 2 0 0 0 0\n",
      " 0 0 0 0 2 0 0 0 3 0 3 0 2 0 0 0 0 0 0 0 0 0 0 3 0 0 2 0 0 0 0 2 2 0 0 3 0\n",
      " 3 2 3 2 2 2 2 1 2 2 0 3 3 2]\n"
     ]
    }
   ],
   "source": [
    "# Initialize the K-Means model.\n",
    "model = KMeans(n_clusters=4, random_state=5)\n",
    "\n",
    "\n",
    "# Fit the model\n",
    "model.fit(pcs_df)\n",
    "\n",
    "# Predict clusters\n",
    "predictions = model.predict(pcs_df)\n",
    "print(predictions)"
   ]
  },
  {
   "cell_type": "code",
   "execution_count": 73,
   "metadata": {},
   "outputs": [
    {
     "name": "stdout",
     "output_type": "stream",
     "text": [
      "(532, 9)\n"
     ]
    },
    {
     "data": {
      "text/html": [
       "<div>\n",
       "<style scoped>\n",
       "    .dataframe tbody tr th:only-of-type {\n",
       "        vertical-align: middle;\n",
       "    }\n",
       "\n",
       "    .dataframe tbody tr th {\n",
       "        vertical-align: top;\n",
       "    }\n",
       "\n",
       "    .dataframe thead th {\n",
       "        text-align: right;\n",
       "    }\n",
       "</style>\n",
       "<table border=\"1\" class=\"dataframe\">\n",
       "  <thead>\n",
       "    <tr style=\"text-align: right;\">\n",
       "      <th></th>\n",
       "      <th>Algorithm</th>\n",
       "      <th>ProofType</th>\n",
       "      <th>TotalCoinsMined</th>\n",
       "      <th>TotalCoinSupply</th>\n",
       "      <th>PC 1</th>\n",
       "      <th>PC 2</th>\n",
       "      <th>PC 3</th>\n",
       "      <th>CoinName</th>\n",
       "      <th>Class</th>\n",
       "    </tr>\n",
       "  </thead>\n",
       "  <tbody>\n",
       "    <tr>\n",
       "      <th>42</th>\n",
       "      <td>Scrypt</td>\n",
       "      <td>PoW/PoS</td>\n",
       "      <td>4.199995e+01</td>\n",
       "      <td>42</td>\n",
       "      <td>-0.417875</td>\n",
       "      <td>0.810296</td>\n",
       "      <td>0.372138</td>\n",
       "      <td>42 Coin</td>\n",
       "      <td>0</td>\n",
       "    </tr>\n",
       "    <tr>\n",
       "      <th>404</th>\n",
       "      <td>Scrypt</td>\n",
       "      <td>PoW/PoS</td>\n",
       "      <td>1.055185e+09</td>\n",
       "      <td>532000000</td>\n",
       "      <td>-0.396564</td>\n",
       "      <td>0.815135</td>\n",
       "      <td>0.373256</td>\n",
       "      <td>404Coin</td>\n",
       "      <td>0</td>\n",
       "    </tr>\n",
       "    <tr>\n",
       "      <th>1337</th>\n",
       "      <td>X13</td>\n",
       "      <td>PoW/PoS</td>\n",
       "      <td>2.927942e+10</td>\n",
       "      <td>314159265359</td>\n",
       "      <td>3.124076</td>\n",
       "      <td>2.209780</td>\n",
       "      <td>0.504335</td>\n",
       "      <td>EliteCoin</td>\n",
       "      <td>0</td>\n",
       "    </tr>\n",
       "    <tr>\n",
       "      <th>BTC</th>\n",
       "      <td>SHA-256</td>\n",
       "      <td>PoW</td>\n",
       "      <td>1.792718e+07</td>\n",
       "      <td>21000000</td>\n",
       "      <td>-0.192083</td>\n",
       "      <td>0.016266</td>\n",
       "      <td>-0.072910</td>\n",
       "      <td>Bitcoin</td>\n",
       "      <td>0</td>\n",
       "    </tr>\n",
       "    <tr>\n",
       "      <th>ETH</th>\n",
       "      <td>Ethash</td>\n",
       "      <td>PoW</td>\n",
       "      <td>1.076842e+08</td>\n",
       "      <td>0</td>\n",
       "      <td>-0.044116</td>\n",
       "      <td>-1.167492</td>\n",
       "      <td>1.012525</td>\n",
       "      <td>Ethereum</td>\n",
       "      <td>3</td>\n",
       "    </tr>\n",
       "    <tr>\n",
       "      <th>LTC</th>\n",
       "      <td>Scrypt</td>\n",
       "      <td>PoW</td>\n",
       "      <td>6.303924e+07</td>\n",
       "      <td>84000000</td>\n",
       "      <td>-0.217954</td>\n",
       "      <td>0.235824</td>\n",
       "      <td>-0.273789</td>\n",
       "      <td>Litecoin</td>\n",
       "      <td>0</td>\n",
       "    </tr>\n",
       "    <tr>\n",
       "      <th>DASH</th>\n",
       "      <td>X11</td>\n",
       "      <td>PoW/PoS</td>\n",
       "      <td>9.031294e+06</td>\n",
       "      <td>22000000</td>\n",
       "      <td>-0.482771</td>\n",
       "      <td>1.336609</td>\n",
       "      <td>-0.110253</td>\n",
       "      <td>Dash</td>\n",
       "      <td>0</td>\n",
       "    </tr>\n",
       "    <tr>\n",
       "      <th>XMR</th>\n",
       "      <td>CryptoNight-V7</td>\n",
       "      <td>PoW</td>\n",
       "      <td>1.720114e+07</td>\n",
       "      <td>0</td>\n",
       "      <td>-0.001979</td>\n",
       "      <td>-1.518631</td>\n",
       "      <td>1.334156</td>\n",
       "      <td>Monero</td>\n",
       "      <td>3</td>\n",
       "    </tr>\n",
       "    <tr>\n",
       "      <th>ETC</th>\n",
       "      <td>Ethash</td>\n",
       "      <td>PoW</td>\n",
       "      <td>1.133597e+08</td>\n",
       "      <td>210000000</td>\n",
       "      <td>-0.041907</td>\n",
       "      <td>-1.167016</td>\n",
       "      <td>1.012991</td>\n",
       "      <td>Ethereum Classic</td>\n",
       "      <td>3</td>\n",
       "    </tr>\n",
       "    <tr>\n",
       "      <th>ZEC</th>\n",
       "      <td>Equihash</td>\n",
       "      <td>PoW</td>\n",
       "      <td>7.383056e+06</td>\n",
       "      <td>21000000</td>\n",
       "      <td>-0.034542</td>\n",
       "      <td>-1.255502</td>\n",
       "      <td>1.092984</td>\n",
       "      <td>ZCash</td>\n",
       "      <td>3</td>\n",
       "    </tr>\n",
       "  </tbody>\n",
       "</table>\n",
       "</div>"
      ],
      "text/plain": [
       "           Algorithm ProofType  TotalCoinsMined TotalCoinSupply      PC 1  \\\n",
       "42            Scrypt   PoW/PoS     4.199995e+01              42 -0.417875   \n",
       "404           Scrypt   PoW/PoS     1.055185e+09       532000000 -0.396564   \n",
       "1337             X13   PoW/PoS     2.927942e+10    314159265359  3.124076   \n",
       "BTC          SHA-256       PoW     1.792718e+07        21000000 -0.192083   \n",
       "ETH           Ethash       PoW     1.076842e+08               0 -0.044116   \n",
       "LTC           Scrypt       PoW     6.303924e+07        84000000 -0.217954   \n",
       "DASH             X11   PoW/PoS     9.031294e+06        22000000 -0.482771   \n",
       "XMR   CryptoNight-V7       PoW     1.720114e+07               0 -0.001979   \n",
       "ETC           Ethash       PoW     1.133597e+08       210000000 -0.041907   \n",
       "ZEC         Equihash       PoW     7.383056e+06        21000000 -0.034542   \n",
       "\n",
       "          PC 2      PC 3          CoinName  Class  \n",
       "42    0.810296  0.372138           42 Coin      0  \n",
       "404   0.815135  0.373256           404Coin      0  \n",
       "1337  2.209780  0.504335         EliteCoin      0  \n",
       "BTC   0.016266 -0.072910           Bitcoin      0  \n",
       "ETH  -1.167492  1.012525          Ethereum      3  \n",
       "LTC   0.235824 -0.273789          Litecoin      0  \n",
       "DASH  1.336609 -0.110253              Dash      0  \n",
       "XMR  -1.518631  1.334156            Monero      3  \n",
       "ETC  -1.167016  1.012991  Ethereum Classic      3  \n",
       "ZEC  -1.255502  1.092984             ZCash      3  "
      ]
     },
     "execution_count": 73,
     "metadata": {},
     "output_type": "execute_result"
    }
   ],
   "source": [
    "# Create a new DataFrame including predicted clusters and cryptocurrencies features.\n",
    "# Concatentate the crypto_df and pcs_df DataFrames on the same columns.\n",
    "clustered_df = pd.concat([crypto_df, pcs_df], axis=1)\n",
    "\n",
    "#adding names back in\n",
    "clustered_df['CoinName'] = names_df \n",
    "\n",
    "#adding cluster predictions to df\n",
    "clustered_df['Class'] = predictions\n",
    "\n",
    "print(clustered_df.shape)\n",
    "clustered_df.head(10)"
   ]
  },
  {
   "cell_type": "markdown",
   "metadata": {},
   "source": [
    "### Deliverable 4: Visualizing Cryptocurrencies Results\n",
    "\n",
    "#### 3D-Scatter with Clusters"
   ]
  },
  {
   "cell_type": "code",
   "execution_count": 80,
   "metadata": {},
   "outputs": [
    {
     "data": {
      "application/vnd.plotly.v1+json": {
       "config": {
        "plotlyServerURL": "https://plot.ly"
       },
       "data": [
        {
         "customdata": [
          [
           "Scrypt"
          ],
          [
           "Scrypt"
          ],
          [
           "X13"
          ],
          [
           "SHA-256"
          ],
          [
           "Scrypt"
          ],
          [
           "X11"
          ],
          [
           "SHA-256"
          ],
          [
           "Scrypt"
          ],
          [
           "X15"
          ],
          [
           "X11"
          ],
          [
           "Scrypt"
          ],
          [
           "Scrypt"
          ],
          [
           "Scrypt"
          ],
          [
           "Scrypt"
          ],
          [
           "SHA-256"
          ],
          [
           "Scrypt"
          ],
          [
           "Scrypt"
          ],
          [
           "Scrypt"
          ],
          [
           "Quark"
          ],
          [
           "Scrypt"
          ],
          [
           "Scrypt"
          ],
          [
           "Scrypt"
          ],
          [
           "Scrypt"
          ],
          [
           "Scrypt"
          ],
          [
           "X11"
          ],
          [
           "SHA-256"
          ],
          [
           "Scrypt"
          ],
          [
           "Scrypt"
          ],
          [
           "Scrypt"
          ],
          [
           "Scrypt"
          ],
          [
           "Scrypt"
          ],
          [
           "Scrypt"
          ],
          [
           "Scrypt"
          ],
          [
           "Scrypt"
          ],
          [
           "Scrypt"
          ],
          [
           "Scrypt"
          ],
          [
           "Scrypt"
          ],
          [
           "X11"
          ],
          [
           "SHA-256"
          ],
          [
           "Scrypt"
          ],
          [
           "Scrypt"
          ],
          [
           "Scrypt"
          ],
          [
           "SHA3"
          ],
          [
           "Scrypt"
          ],
          [
           "Scrypt"
          ],
          [
           "SHA-256"
          ],
          [
           "X13"
          ],
          [
           "Scrypt"
          ],
          [
           "SHA-256"
          ],
          [
           "Scrypt"
          ],
          [
           "X13"
          ],
          [
           "NeoScrypt"
          ],
          [
           "Scrypt"
          ],
          [
           "Scrypt"
          ],
          [
           "Scrypt"
          ],
          [
           "Scrypt"
          ],
          [
           "Scrypt"
          ],
          [
           "Scrypt"
          ],
          [
           "X11"
          ],
          [
           "SHA-256"
          ],
          [
           "SHA-256"
          ],
          [
           "X11"
          ],
          [
           "SHA-256"
          ],
          [
           "SHA-256"
          ],
          [
           "SHA-256"
          ],
          [
           "X11"
          ],
          [
           "Scrypt"
          ],
          [
           "Scrypt"
          ],
          [
           "Scrypt"
          ],
          [
           "Scrypt"
          ],
          [
           "Scrypt"
          ],
          [
           "X11"
          ],
          [
           "SHA-256"
          ],
          [
           "X13"
          ],
          [
           "Scrypt"
          ],
          [
           "Scrypt"
          ],
          [
           "SHA-256"
          ],
          [
           "Scrypt"
          ],
          [
           "Scrypt"
          ],
          [
           "X13"
          ],
          [
           "Scrypt"
          ],
          [
           "Scrypt"
          ],
          [
           "Scrypt"
          ],
          [
           "X13"
          ],
          [
           "Scrypt"
          ],
          [
           "Stanford Folding"
          ],
          [
           "QuBit"
          ],
          [
           "Scrypt"
          ],
          [
           "Scrypt"
          ],
          [
           "Scrypt"
          ],
          [
           "Scrypt"
          ],
          [
           "SHA-256"
          ],
          [
           "Scrypt"
          ],
          [
           "X11"
          ],
          [
           "SHA3"
          ],
          [
           "X11"
          ],
          [
           "SHA-256"
          ],
          [
           "QUAIT"
          ],
          [
           "X11"
          ],
          [
           "Scrypt"
          ],
          [
           "Scrypt"
          ],
          [
           "X13"
          ],
          [
           "SHA-256"
          ],
          [
           "X15"
          ],
          [
           "X11"
          ],
          [
           "SHA-256"
          ],
          [
           "Scrypt"
          ],
          [
           "SHA-256"
          ],
          [
           "X11"
          ],
          [
           "Scrypt"
          ],
          [
           "SHA-256"
          ],
          [
           "SHA-256"
          ],
          [
           "NIST5"
          ],
          [
           "Scrypt"
          ],
          [
           "X11"
          ],
          [
           "Scrypt"
          ],
          [
           "X11GOST"
          ],
          [
           "X11"
          ],
          [
           "SHA-256"
          ],
          [
           "Scrypt"
          ],
          [
           "X11"
          ],
          [
           "X11"
          ],
          [
           "SHA-256"
          ],
          [
           "SHA-256"
          ],
          [
           "NIST5"
          ],
          [
           "X11"
          ],
          [
           "Scrypt"
          ],
          [
           "Scrypt"
          ],
          [
           "Scrypt"
          ],
          [
           "Scrypt"
          ],
          [
           "X11"
          ],
          [
           "X11"
          ],
          [
           "Scrypt"
          ],
          [
           "SHA-256"
          ],
          [
           "SHA-256"
          ],
          [
           "X11"
          ],
          [
           "Scrypt"
          ],
          [
           "Scrypt"
          ],
          [
           "Scrypt"
          ],
          [
           "SHA-256"
          ],
          [
           "Scrypt"
          ],
          [
           "Scrypt"
          ],
          [
           "SHA-256D"
          ],
          [
           "Scrypt"
          ],
          [
           "X11"
          ],
          [
           "X14"
          ],
          [
           "SHA-256D"
          ],
          [
           "X11"
          ],
          [
           "Scrypt"
          ],
          [
           "X11"
          ],
          [
           "X13"
          ],
          [
           "X11"
          ],
          [
           "Scrypt"
          ],
          [
           "Scrypt"
          ],
          [
           "X11"
          ],
          [
           "X11"
          ],
          [
           "SHA-256"
          ],
          [
           "Scrypt"
          ],
          [
           "X11"
          ],
          [
           "Scrypt"
          ],
          [
           "Scrypt"
          ],
          [
           "X11"
          ],
          [
           "Scrypt"
          ],
          [
           "Scrypt"
          ],
          [
           "Scrypt"
          ],
          [
           "QuBit"
          ],
          [
           "Scrypt"
          ],
          [
           "Scrypt"
          ],
          [
           "SHA-256"
          ],
          [
           "X11"
          ],
          [
           "Scrypt"
          ],
          [
           "X11"
          ],
          [
           "Scrypt"
          ],
          [
           "Scrypt"
          ],
          [
           "Scrypt"
          ],
          [
           "X11"
          ],
          [
           "Scrypt"
          ],
          [
           "Scrypt"
          ],
          [
           "X11"
          ],
          [
           "X11"
          ],
          [
           "Scrypt"
          ],
          [
           "X11"
          ],
          [
           "X11"
          ],
          [
           "Scrypt"
          ],
          [
           "Scrypt"
          ],
          [
           "Scrypt"
          ],
          [
           "X11"
          ],
          [
           "Scrypt"
          ],
          [
           "SHA-256"
          ],
          [
           "Scrypt"
          ],
          [
           "X15"
          ],
          [
           "Scrypt"
          ],
          [
           "NIST5"
          ],
          [
           "X11"
          ],
          [
           "NIST5"
          ],
          [
           "Skein"
          ],
          [
           "Scrypt"
          ],
          [
           "X13"
          ],
          [
           "Scrypt"
          ],
          [
           "X11"
          ],
          [
           "X11"
          ],
          [
           "Scrypt"
          ],
          [
           "X13"
          ],
          [
           "Time Travel"
          ],
          [
           "Scrypt"
          ],
          [
           "X11"
          ],
          [
           "Skein"
          ],
          [
           "SHA-256"
          ],
          [
           "X11"
          ],
          [
           "VeChainThor Authority"
          ],
          [
           "Scrypt"
          ],
          [
           "Scrypt"
          ],
          [
           "Scrypt"
          ],
          [
           "Scrypt"
          ],
          [
           "Scrypt"
          ],
          [
           "Scrypt"
          ],
          [
           "Scrypt"
          ],
          [
           "Scrypt"
          ],
          [
           "X11"
          ],
          [
           "NeoScrypt"
          ],
          [
           "X11"
          ],
          [
           "Scrypt"
          ],
          [
           "Scrypt"
          ],
          [
           "SHA-256"
          ],
          [
           "NIST5"
          ],
          [
           "PHI1612"
          ],
          [
           "Scrypt"
          ],
          [
           "Quark"
          ],
          [
           "Scrypt"
          ],
          [
           "Scrypt"
          ],
          [
           "X11"
          ],
          [
           "X11"
          ],
          [
           "NIST5"
          ],
          [
           "X13"
          ],
          [
           "Scrypt"
          ],
          [
           "X11"
          ],
          [
           "Scrypt"
          ],
          [
           "Scrypt"
          ],
          [
           "Scrypt"
          ],
          [
           "X11"
          ],
          [
           "X11"
          ],
          [
           "Scrypt"
          ],
          [
           "Scrypt"
          ],
          [
           "Scrypt"
          ],
          [
           "X11"
          ],
          [
           "SHA-256"
          ],
          [
           "Scrypt"
          ],
          [
           "SkunkHash"
          ],
          [
           "Scrypt"
          ],
          [
           "Scrypt"
          ],
          [
           "SHA-256 + Hive"
          ],
          [
           "Scrypt"
          ],
          [
           "Scrypt"
          ],
          [
           "X11"
          ],
          [
           "X11"
          ],
          [
           "XEVAN"
          ],
          [
           "Scrypt"
          ],
          [
           "NIST5"
          ],
          [
           "Scrypt"
          ],
          [
           "Scrypt"
          ],
          [
           "Scrypt"
          ],
          [
           "X11"
          ],
          [
           "Quark"
          ],
          [
           "Scrypt"
          ],
          [
           "Tribus"
          ],
          [
           "Scrypt"
          ],
          [
           "SHA-256D"
          ],
          [
           "Scrypt"
          ],
          [
           "X16R"
          ],
          [
           "X11"
          ],
          [
           "X16R"
          ],
          [
           "Quark"
          ],
          [
           "Scrypt"
          ],
          [
           "Scrypt"
          ],
          [
           "XEVAN"
          ],
          [
           "X11"
          ],
          [
           "SHA-256"
          ],
          [
           "X11"
          ],
          [
           "Scrypt"
          ],
          [
           "SHA-512"
          ],
          [
           "X16R"
          ],
          [
           "SHA-256"
          ],
          [
           "XEVAN"
          ],
          [
           "Quark"
          ],
          [
           "Scrypt"
          ],
          [
           "Scrypt"
          ],
          [
           "Quark"
          ],
          [
           "Scrypt"
          ],
          [
           "QuBit"
          ],
          [
           "Scrypt"
          ],
          [
           "XEVAN"
          ],
          [
           "SHA-256D"
          ],
          [
           "X11"
          ],
          [
           "SHA-256"
          ],
          [
           "X13"
          ],
          [
           "SHA-256"
          ],
          [
           "X11"
          ],
          [
           "Scrypt"
          ],
          [
           "Scrypt"
          ],
          [
           "X11"
          ],
          [
           "Scrypt"
          ],
          [
           "Scrypt"
          ],
          [
           "Scrypt"
          ],
          [
           "X11"
          ],
          [
           "Scrypt"
          ],
          [
           "Scrypt"
          ],
          [
           "SHA-256"
          ],
          [
           "X11"
          ],
          [
           "SHA-256"
          ],
          [
           "Scrypt"
          ],
          [
           "Scrypt"
          ],
          [
           "Scrypt"
          ],
          [
           "X11"
          ],
          [
           "Scrypt"
          ],
          [
           "Scrypt"
          ],
          [
           "Scrypt"
          ],
          [
           "X11"
          ],
          [
           "SHA-256"
          ],
          [
           "Scrypt"
          ],
          [
           "NeoScrypt"
          ],
          [
           "X13"
          ],
          [
           "Scrypt"
          ]
         ],
         "hovertemplate": "<b>%{hovertext}</b><br><br>Class=%{marker.color}<br>PC 1=%{x}<br>PC 2=%{y}<br>PC 3=%{z}<br>Algorithm=%{customdata[0]}<extra></extra>",
         "hovertext": [
          "42 Coin",
          "404Coin",
          "EliteCoin",
          "Bitcoin",
          "Litecoin",
          "Dash",
          "BitcoinDark",
          "ProsperCoin",
          "KoboCoin",
          "Spreadcoin",
          "Argentum",
          "Aurora Coin",
          "BlueCoin",
          "MoonCoin",
          "ZetaCoin",
          "SexCoin",
          "Quatloo",
          "EnergyCoin",
          "QuarkCoin",
          "Digitalcoin ",
          "BitBar",
          "Catcoin",
          "CryptoBullion",
          "CannaCoin",
          "CryptCoin",
          "DevCoin",
          "EarthCoin",
          "E-Gulden",
          "Einsteinium",
          "Emerald",
          "FlutterCoin",
          "Franko",
          "GrandCoin",
          "GlobalCoin",
          "GoldCoin",
          "HoboNickels",
          "Infinite Coin",
          "IOCoin",
          "IXcoin",
          "KrugerCoin",
          "LuckyCoin",
          "Litebar ",
          "MaxCoin",
          "MegaCoin",
          "MinCoin",
          "MazaCoin",
          "NavCoin",
          "NobleCoin",
          "Namecoin",
          "NyanCoin",
          "OpalCoin",
          "Orbitcoin",
          "PotCoin",
          "PhoenixCoin",
          "Reddcoin",
          "RonPaulCoin",
          "StableCoin",
          "SmartCoin",
          "SyncCoin",
          "SysCoin",
          "TigerCoin",
          "TorCoin",
          "TerraCoin",
          "UnbreakableCoin",
          "Unobtanium",
          "UroCoin",
          "UnitaryStatus Dollar",
          "UltraCoin",
          "ViaCoin",
          "VeriCoin",
          "WorldCoin",
          "X11 Coin",
          "JouleCoin",
          "StealthCoin",
          "ZCC Coin",
          "MonaCoin",
          "Neutron",
          "Gulden",
          "PesetaCoin",
          "Kore",
          "Wild Beast Coin",
          "Flo",
          "8BIT Coin",
          "Sativa Coin",
          "ArtByte",
          "Folding Coin",
          "CypherPunkCoin",
          "OmniCron",
          "Vtorrent",
          "GreenCoin",
          "MasterCoin",
          "SoonCoin",
          "1Credit",
          "IslaCoin",
          "Nexus",
          "MarsCoin ",
          "Anarchists Prime",
          "Droidz",
          "BowsCoin",
          "Song Coin",
          "BitZeny",
          "Paycon",
          "Emercoin",
          "EverGreenCoin",
          "MindCoin",
          "I0coin",
          "Revolution VR",
          "EDRCoin",
          "Hitcoin",
          "Gamecredits",
          "DubaiCoin",
          "CarpeDiemCoin",
          "PWR Coin",
          "BillaryCoin",
          "Adzcoin",
          "YoCoin",
          "SibCoin",
          "EuropeCoin",
          "SwingCoin",
          "Francs",
          "BolivarCoin",
          "Ratecoin",
          "Revenu",
          "Clockcoin",
          "VIP Tokens",
          "BitSend",
          "Omni",
          "PutinCoin",
          "iBankCoin",
          "Frankywillcoin",
          "PizzaCoin",
          "GoldBlocks",
          "CarterCoin",
          "BitTokens",
          "ZayedCoin",
          "MustangCoin",
          "ZoneCoin",
          "RootCoin",
          "DopeCoin",
          "DollarCoin",
          "Swiscoin",
          "Shilling",
          "BuzzCoin",
          "PesoBit",
          "Halloween Coin",
          "GanjaCoin V2",
          "LanaCoin",
          "InsaneCoin",
          "KiloCoin",
          "ArtexCoin",
          "EmberCoin",
          "XenixCoin",
          "PLNCoin",
          "AquariusCoin",
          "Kurrent",
          "Eternity",
          "Eurocoin",
          "BitcoinFast",
          "Stakenet",
          "BitConnect Coin",
          "MoneyCoin",
          "Enigma",
          "Russiacoin",
          "GameUnits",
          "GAKHcoin",
          "LiteCreed",
          "OsmiumCoin",
          "Klingon Empire Darsek",
          "Internet of People",
          "KushCoin",
          "Printerium",
          "PacCoin",
          "Impeach",
          "FirstCoin",
          "BeaverCoin",
          "VaultCoin",
          "OpenChat",
          "Canada eCoin",
          "VirtacoinPlus",
          "Impact",
          "EB3coin",
          "HappyCoin",
          "Condensate",
          "Independent Money System",
          "ArgusCoin",
          "LomoCoin",
          "GoldReserve",
          "BenjiRolls",
          "ILCoin",
          "Degas Coin",
          "HTML5 Coin",
          "EquiTrader",
          "Denarius",
          "DigitalPrice",
          "Virta Unique Coin",
          "Bitcoin Planet",
          "Unify",
          "BritCoin",
          "SocialCoin",
          "ArcticCoin",
          "DAS",
          "Linda",
          "DeepOnion",
          "Bitcore",
          "gCn Coin",
          "Onix",
          "Cream",
          "Bitcoin Cash",
          "Monoeci",
          "Vechain",
          "Sojourn Coin",
          "NewYorkCoin",
          "FrazCoin",
          "Kronecoin",
          "AdCoin",
          "Linx",
          "CoinonatX",
          "Ethereum Dark",
          "Regalcoin",
          "TrezarCoin",
          "Elements",
          "TerraNovaCoin",
          "WomenCoin",
          "Theresa May Coin",
          "NamoCoin",
          "LUXCoin",
          "Xios",
          "Bitcloud 2.0",
          "eBoost",
          "BlackholeCoin",
          "Pura",
          "Magnet",
          "Electra",
          "Bitcoin Diamond",
          "Cash & Back Coin",
          "AC3",
          "GermanCoin",
          "LiteCoin Ultra",
          "PopularCoin",
          "PhantomX",
          "Sucre",
          "IrishCoin",
          "Trollcoin",
          "Litecoin Plus",
          "Pioneer Coin",
          "UnitedBitcoin",
          "My Big Coin",
          "MUNcoin",
          "Unified Society USDEX",
          "ShareChain",
          "LitecoinCash",
          "BitFlip",
          "LottoCoin",
          "Crypto Improvement Fund",
          "Pushi",
          "Ellerium",
          "Poseidon",
          "Bitspace",
          "Briacoin",
          "Ignition",
          "Abjcoin",
          "FuturoCoin",
          "Carebit",
          "iDealCash",
          "KEYCO",
          "Swisscoin",
          "TheVig",
          "EmaratCoin",
          "Motion",
          "Axe",
          "Trivechain",
          "Giant",
          "HexCoin",
          "TPCash",
          "Urals Coin",
          "EUNO",
          "Project Pai",
          "Azart",
          "ThunderStake",
          "Kcash",
          "Xchange",
          "Bitcoin SV",
          "BitMoney",
          "HerbCoin",
          "Block-Logic",
          "Oduwa",
          "Galilel",
          "Credit",
          "SLICE",
          "Nasdacoin",
          "Beetle Coin",
          "Titan Coin",
          "Award",
          "BLAST",
          "Bitcoin Rhodium",
          "GlobalToken",
          "Insane Coin",
          "LiteDoge",
          "SolarCoin",
          "TruckCoin",
          "OrangeCoin",
          "BitstarCoin",
          "HyperCoin",
          "PinkCoin",
          "Crypto Escudo",
          "AudioCoin",
          "IncaKoin",
          "Piggy Coin",
          "Crown Coin",
          "Genstake",
          "SmileyCoin",
          "XiaoMiCoin",
          "CapriCoin",
          " ClubCoin",
          "Bata",
          "Pakcoin",
          "Creditbit ",
          "OKCash",
          "WhiteCoin",
          "FriendshipCoin",
          "Triangles Coin",
          "Gapcoin"
         ],
         "legendgroup": "0",
         "marker": {
          "color": [
           0,
           0,
           0,
           0,
           0,
           0,
           0,
           0,
           0,
           0,
           0,
           0,
           0,
           0,
           0,
           0,
           0,
           0,
           0,
           0,
           0,
           0,
           0,
           0,
           0,
           0,
           0,
           0,
           0,
           0,
           0,
           0,
           0,
           0,
           0,
           0,
           0,
           0,
           0,
           0,
           0,
           0,
           0,
           0,
           0,
           0,
           0,
           0,
           0,
           0,
           0,
           0,
           0,
           0,
           0,
           0,
           0,
           0,
           0,
           0,
           0,
           0,
           0,
           0,
           0,
           0,
           0,
           0,
           0,
           0,
           0,
           0,
           0,
           0,
           0,
           0,
           0,
           0,
           0,
           0,
           0,
           0,
           0,
           0,
           0,
           0,
           0,
           0,
           0,
           0,
           0,
           0,
           0,
           0,
           0,
           0,
           0,
           0,
           0,
           0,
           0,
           0,
           0,
           0,
           0,
           0,
           0,
           0,
           0,
           0,
           0,
           0,
           0,
           0,
           0,
           0,
           0,
           0,
           0,
           0,
           0,
           0,
           0,
           0,
           0,
           0,
           0,
           0,
           0,
           0,
           0,
           0,
           0,
           0,
           0,
           0,
           0,
           0,
           0,
           0,
           0,
           0,
           0,
           0,
           0,
           0,
           0,
           0,
           0,
           0,
           0,
           0,
           0,
           0,
           0,
           0,
           0,
           0,
           0,
           0,
           0,
           0,
           0,
           0,
           0,
           0,
           0,
           0,
           0,
           0,
           0,
           0,
           0,
           0,
           0,
           0,
           0,
           0,
           0,
           0,
           0,
           0,
           0,
           0,
           0,
           0,
           0,
           0,
           0,
           0,
           0,
           0,
           0,
           0,
           0,
           0,
           0,
           0,
           0,
           0,
           0,
           0,
           0,
           0,
           0,
           0,
           0,
           0,
           0,
           0,
           0,
           0,
           0,
           0,
           0,
           0,
           0,
           0,
           0,
           0,
           0,
           0,
           0,
           0,
           0,
           0,
           0,
           0,
           0,
           0,
           0,
           0,
           0,
           0,
           0,
           0,
           0,
           0,
           0,
           0,
           0,
           0,
           0,
           0,
           0,
           0,
           0,
           0,
           0,
           0,
           0,
           0,
           0,
           0,
           0,
           0,
           0,
           0,
           0,
           0,
           0,
           0,
           0,
           0,
           0,
           0,
           0,
           0,
           0,
           0,
           0,
           0,
           0,
           0,
           0,
           0,
           0,
           0,
           0,
           0,
           0,
           0,
           0,
           0,
           0,
           0,
           0,
           0,
           0,
           0,
           0,
           0,
           0,
           0,
           0,
           0,
           0,
           0,
           0,
           0,
           0,
           0,
           0,
           0,
           0,
           0,
           0,
           0,
           0,
           0,
           0,
           0,
           0,
           0,
           0,
           0,
           0,
           0,
           0,
           0,
           0,
           0
          ],
          "coloraxis": "coloraxis",
          "symbol": "circle"
         },
         "mode": "markers",
         "name": "0",
         "scene": "scene",
         "showlegend": true,
         "type": "scatter3d",
         "x": [
          -0.4178746258673079,
          -0.396563831233633,
          3.1240759697955074,
          -0.19208254817717063,
          -0.21795407555531673,
          -0.48277085559300625,
          -0.3904431730842162,
          -0.2194557232665209,
          -0.5009573101629048,
          -0.28463958016337093,
          -0.21892381466177022,
          -0.4174312780703996,
          -0.408280167015926,
          3.662279862436139,
          -0.18827902396168725,
          -0.21528083412977947,
          -0.21863307532770793,
          -0.4160164640337737,
          -0.1807114467482545,
          -0.21876322107361595,
          -0.4178689292724746,
          -0.21943380440959526,
          -0.4178488275196813,
          -0.2195512558315979,
          -0.284752701317254,
          0.30320547245834983,
          0.10605310008576001,
          -0.2192270870261084,
          -0.2134195641009977,
          -0.2191372286746555,
          -0.08070213687288301,
          -0.2196242769993754,
          -0.19204382877187778,
          -0.21805584440298756,
          -0.21839573740368526,
          -0.4153136222466277,
          2.0640955064590227,
          -0.48264070531902287,
          -0.1920348015443129,
          -0.2147851025453946,
          -0.21926111620371158,
          -0.21972479692167177,
          -0.4104979743707977,
          -0.21875445323368134,
          -0.21956638540567328,
          -0.3418604167632691,
          -0.49300759470218625,
          -0.03238716891794496,
          -0.19213072666529454,
          -0.21129435246952433,
          -0.49377661340794926,
          -0.33078121423690043,
          -0.4102663795896604,
          -0.41576716552911747,
          0.024770092523511613,
          -0.21952614873356316,
          -0.21686212056962628,
          -0.2188510671994044,
          -0.4831296022431715,
          -0.17508233815169544,
          -0.19143289350400466,
          -0.4830069155071611,
          -0.19179462872773811,
          -0.19172237909472445,
          -0.19255997387119284,
          -0.28499189318766893,
          -0.3851060596907513,
          -0.4161051634911827,
          -0.2191730394069872,
          -0.15323178721983566,
          -0.21526587515103987,
          -0.48296907533525973,
          -0.19151878042925172,
          -0.4935057717040218,
          -0.4055306109414005,
          -0.2176627201924913,
          -0.3894068881363544,
          -0.1965045149797265,
          -0.21599662476126819,
          -0.4938536125815671,
          -0.21972580500113045,
          -0.21583842359249727,
          -0.4178524635456452,
          -0.493797212061729,
          -0.19767889097738642,
          -0.23141045775764835,
          -0.1815935896138937,
          -0.21956792948129109,
          -0.4174972143555632,
          -0.04904751444571542,
          -0.2197395032526325,
          -0.1921650591653067,
          0.7103170932009989,
          -0.483106774244621,
          -0.6088064991868205,
          -0.2841899869314114,
          -0.19179937748350084,
          -0.37419076612893337,
          -0.28455829100594526,
          -0.2171379919505527,
          -0.21608602653445005,
          -0.4931520633571679,
          -0.3799254031462896,
          -0.5044111371061601,
          -0.28460878009084944,
          -0.1920361887497773,
          -0.21446127739088708,
          -0.3904072242058372,
          -0.048686533366080614,
          -0.21785144773611897,
          -0.3905014483141528,
          0.354323098299305,
          -0.1733883468084813,
          -0.4173141545721906,
          -0.2834797929926463,
          -0.21804356762993482,
          -0.2899447477978686,
          -0.47909045259265365,
          -0.390214572721598,
          -0.2194537155749269,
          -0.2845512189085269,
          -0.48033973393619306,
          -0.38841535982613856,
          -0.3851259755418439,
          -0.32326014394172986,
          -0.48135617662220603,
          -0.21973957963521198,
          -0.3853785647032858,
          -0.4173580962480513,
          -0.41535374971584993,
          -0.2847365804879836,
          -0.48238915313867176,
          -0.4163130058840488,
          -0.3904637529073739,
          -0.1923728314536146,
          -0.4830893718738126,
          -0.4176233421829395,
          -0.41784533594844336,
          -0.21596894446026488,
          -0.19232048229199064,
          -0.5085708944096974,
          -0.2192839433461433,
          0.09623944654194001,
          -0.41736845354007707,
          -0.4639689699462832,
          -0.49692250371390895,
          -0.3093393188311506,
          -0.48254938239514555,
          -0.11569649544554943,
          -0.26751356153347555,
          0.9066352241173469,
          -0.48303249248796204,
          -0.41722696700282214,
          -0.41741304243108474,
          -0.2817785983715108,
          -0.4824314171916092,
          -0.39029537158974936,
          -0.4172353438371642,
          -0.9434937444408611,
          -0.41742425065745564,
          -0.4111320032674427,
          -0.48306678182731994,
          -0.4162923637402204,
          -0.41769076423375967,
          -0.41779103995683353,
          -0.37855580856497306,
          -0.21971418037791451,
          -0.4124580333929703,
          -0.39043460144015524,
          -0.48294961774198386,
          -0.41749393771556387,
          0.7340445434663028,
          -0.4176482393507247,
          -0.48114149779273324,
          -0.21967411349244403,
          -0.2744418560687455,
          -0.3926658548238366,
          -0.2172366067478903,
          -0.4819199351386416,
          -0.4803471467742176,
          -0.17834944924771562,
          -0.48179372648828017,
          -0.4762378331919838,
          -0.41757911653061586,
          -0.4175681573002737,
          -0.4077576111776542,
          -0.4824659755293261,
          -0.21908987222722323,
          -0.1473947968855738,
          -0.41649063047249146,
          1.0188936356475595,
          -0.21882077902560654,
          -0.32526595942736325,
          -0.28346860198497137,
          -0.32326652147902757,
          -0.43307468997212467,
          -0.2192864427161424,
          -0.49338104657877696,
          -0.21891887975910124,
          -0.2840103331362617,
          -0.28477945006326566,
          0.22417085796730912,
          -0.49348348164161954,
          -0.26277736040043326,
          4.264156912675375,
          -0.2720404128834189,
          -0.43246275374668286,
          -0.19208151516348163,
          -0.48284372954937627,
          0.9060555562696878,
          -0.1135983991358237,
          1.9395463479137562,
          -0.21940640591078744,
          -0.2186423848771206,
          -0.21825122994037208,
          -0.21823507677925433,
          -0.4170917907495784,
          -0.4177687500832442,
          -0.48274701730915803,
          -0.3240664564664482,
          -0.2260018389227749,
          -0.41769834702396075,
          0.5665664289713833,
          -0.3882841924531397,
          -0.30483456415215865,
          -0.3410118104523466,
          -0.41762986934113877,
          -0.38276150900837946,
          -0.21723439329264294,
          -0.4174780622774483,
          -0.2788261717251194,
          -0.48109709473434853,
          0.40666140312513877,
          -0.4891112397064167,
          -0.4140759637061715,
          -0.278237197391525,
          0.16175892336513314,
          -0.4162310798797219,
          -0.10935110133605741,
          -0.48194205753731784,
          -0.2847460997254306,
          -0.218421351222145,
          -0.3998520741111549,
          -0.41779637305774975,
          -0.2846495915188265,
          -0.19205717476812348,
          -0.3513895835962063,
          -0.24126621655314162,
          -0.41198321516033304,
          0.0323326014900129,
          -0.2459122058939329,
          -0.21916281341600677,
          0.18513388017106375,
          -0.27676494198085855,
          -0.48284416078738257,
          -0.5151442329907557,
          -0.21948136336559815,
          -0.3247163787206336,
          -0.4178315299836708,
          -0.417806229898153,
          -0.4174221542143984,
          -0.2835189961273391,
          -0.3811152611788425,
          -0.34489263050600666,
          -0.26850239084380956,
          -0.16074515148325647,
          -0.400048056009782,
          -0.4166992967347939,
          -0.3118538389336193,
          -0.28472243264439934,
          -0.5089271996035123,
          -0.3851056712795793,
          -0.219510256496386,
          -0.40768356716317145,
          -0.31529197977196594,
          -0.4821595341724627,
          -0.13962711345163953,
          -0.28468164975067145,
          -0.21989966619492768,
          -0.9101087073406735,
          -0.31104148587673175,
          -0.19208156159384734,
          -0.06910540339288514,
          -0.3841680246593833,
          -0.21800920885893338,
          -0.4174391973977379,
          -0.38477889254630654,
          0.8037602651790129,
          -0.18048358392541541,
          -0.4167151934572986,
          -0.5076985707578643,
          -0.33747911408111825,
          -0.4786508195244457,
          -0.1911289283947168,
          -0.2958470561138365,
          -0.18958954547322165,
          -0.4824673456411693,
          0.16726125013366308,
          0.7728224985196059,
          -0.47946692948041525,
          -0.41579932519674834,
          -0.4170154351773471,
          -0.41772920249016493,
          -0.47148626017344814,
          -0.19786501332784487,
          -0.2969168523582968,
          -0.11788684556419714,
          -0.46555747297172434,
          -0.1917938506139118,
          -0.41681702657423314,
          0.732415892927757,
          -0.4077259423000469,
          -0.4779863995779888,
          -0.4146924939335598,
          -0.2196282821139299,
          -0.21686300978640352,
          -0.8789466012946731,
          -0.3884959915639872,
          -0.41103667796828364,
          -0.33024277113687284,
          -0.4940021252086203,
          -0.4151218119673284
         ],
         "y": [
          0.8102956393790157,
          0.8151352783213031,
          2.2097803705211065,
          0.01626568816444649,
          0.23582418468471328,
          1.3366086693013608,
          0.5910839678621309,
          0.2354872797164474,
          1.5127909817174048,
          0.7617375423991782,
          0.23560327988577878,
          0.8103954030119679,
          0.8125131647424388,
          1.0707053858064983,
          0.017120773686626883,
          0.2364152571549319,
          0.23566466902263208,
          0.8107251082121679,
          -0.02625226805893704,
          0.2356429518092446,
          0.8102968753457673,
          0.23549234572608632,
          0.8103014407069671,
          0.2354664678103107,
          0.7617117198775017,
          0.127354730387191,
          0.3085460343280932,
          0.23554012341179456,
          0.23683741093934313,
          0.2355591172597784,
          -0.14621626572764268,
          0.23544989796493104,
          0.24159706063392689,
          0.23580292203037526,
          0.23572400172890223,
          0.8108681923797398,
          0.7486606459030517,
          1.336638750365567,
          0.01627672363509644,
          0.23652734546608997,
          0.23553241973484695,
          0.23542826019373278,
          0.7668747920142815,
          0.23564597309312443,
          0.23546347757990327,
          0.601925928141847,
          1.4244655395226105,
          0.2763069324911648,
          0.01625455288097563,
          0.2373225988209339,
          1.4242877995889485,
          0.10867020232536945,
          0.8119863380638809,
          0.8107669163427667,
          0.9126021792565782,
          0.23547100258593498,
          0.23604978132864518,
          0.235622158817887,
          1.3365293030345171,
          0.020054992215138918,
          0.016411643286650696,
          1.3365560458631365,
          0.016328845626686975,
          0.016339413517106494,
          0.016158690617286517,
          0.7616593405931108,
          0.8176111538019059,
          0.8106884736740891,
          0.2355522925254706,
          0.043908494947055766,
          0.23641622659421677,
          1.336565517718647,
          0.01639211722414949,
          1.4243503980486842,
          0.8129873194251714,
          0.23588811691402092,
          0.591316058317452,
          0.24052423214120108,
          0.23626330972579057,
          1.4242680670479542,
          0.235427821010512,
          0.2363009043765021,
          0.8103007616663718,
          1.424281425330094,
          0.2403625137237222,
          0.5032241647673685,
          -0.07152595013370602,
          0.23546419016100925,
          0.8103796420956088,
          0.2732629906180329,
          0.23542497904481363,
          0.016246617760244667,
          0.4355418823513907,
          1.3365345793314258,
          1.3417088241569843,
          0.7618393575220309,
          0.016325850730281304,
          0.45951410839383977,
          0.761756169068786,
          0.23599243518847518,
          0.23622915655228252,
          1.4244240822035548,
          0.5933571053166068,
          1.5120449392836457,
          0.7617453064381768,
          0.01627640301635808,
          0.23661113125139732,
          0.5910922765693319,
          1.4326567024341699,
          0.23584790460418903,
          0.5910723543521383,
          0.13906828102969757,
          0.09993868959447588,
          0.8104184024631589,
          0.7619952732960932,
          0.2357898916855739,
          0.8056203836127028,
          1.3374009003389105,
          0.5911338991775981,
          0.23548790508363418,
          0.7617571582589643,
          1.3371620129038553,
          0.5915202628708465,
          0.5922317553848949,
          0.065284955466851,
          1.3369167613018127,
          0.23542496187969658,
          0.8174836356288744,
          0.8104078699598493,
          0.8108621446570956,
          0.761714316446939,
          1.3366923730523905,
          0.8106420493518794,
          0.5910793726757168,
          0.01620041357248,
          1.3365381174507607,
          0.8103503293837131,
          0.8103024090367728,
          0.23626428413056913,
          0.016212367230360215,
          1.2026097024268738,
          0.23552553041514604,
          0.7905648744518152,
          0.8104126287843447,
          1.340715809126701,
          1.4686542166704415,
          0.6988409858350462,
          1.3366585667283775,
          0.25785870282534196,
          0.7656183619264019,
          1.7478217318023423,
          1.336551126060503,
          0.8104391119753216,
          0.8103955469443684,
          0.762365230275633,
          1.3366809913644837,
          0.5911184512522105,
          0.8104380696878271,
          2.678332561112319,
          0.8103952151707771,
          0.8117490560028041,
          1.3365430159131115,
          0.8106381080175918,
          0.8103360371252708,
          0.8103144232686682,
          0.5036029792319476,
          0.23543049383766063,
          0.8114668836395302,
          0.5910861103269739,
          1.3365693930697482,
          0.8103803994110962,
          0.9810509600707256,
          0.8103444244278306,
          1.002543518366467,
          0.23543965014351484,
          0.7639363863797548,
          0.815960694301199,
          0.23598742870438957,
          1.3367927544487441,
          1.3371546527699847,
          0.24434602854108256,
          1.3368219245027033,
          1.3380414985668343,
          0.8103605168422947,
          0.8103618578542227,
          0.8124726025902105,
          1.3366762308108728,
          0.23556949457357598,
          0.026194215484026454,
          0.8105985756837829,
          1.8496035210359405,
          0.23562580335660718,
          0.06483426715296504,
          0.7619952784136024,
          0.06527864130851516,
          0.9420953215085811,
          0.2355266828084653,
          1.4243743850759618,
          0.23560264574807105,
          0.7618765239874032,
          0.7617053923523199,
          0.9506218969969078,
          1.4243525008538471,
          0.5863517132651453,
          1.2395008276802337,
          0.7644752876313926,
          0.9422367556548511,
          0.016265926920387256,
          1.336593841816619,
          2.6329470018590038,
          0.25826295755888434,
          0.7344913839670254,
          0.23549883955961334,
          0.23566509875835098,
          0.23575292327874517,
          0.235756656688302,
          0.8104687877555565,
          0.8103194323727564,
          1.3366133722487579,
          0.1101582279174103,
          0.7750030453507943,
          0.8103338435570743,
          1.0337917444180664,
          0.5915703792433133,
          0.0693644938211285,
          0.19651587083941524,
          0.810348820790155,
          0.5477210323358882,
          0.2359879402906304,
          0.8103849094819202,
          0.7630279284870071,
          1.3369758350756384,
          0.2291629080872751,
          1.4253322060077946,
          0.8111397265529223,
          0.7631317879115117,
          0.9361968992266808,
          0.8106513042593226,
          0.26013197704389723,
          1.3367957083053952,
          0.7617129552658174,
          0.2357194120653437,
          0.8143159086535364,
          0.8103130802629822,
          0.7617347445037304,
          0.016271687165683404,
          0.6187689747090851,
          0.4108856127148416,
          0.8116198649408138,
          0.2920720212689235,
          0.25569000723430774,
          0.23555191326468733,
          0.32603194623418663,
          0.7634801307823801,
          1.3365912425774509,
          1.599778101871527,
          0.23548135363236794,
          0.06495483581261866,
          0.8103051159344928,
          0.810310640756324,
          0.8103953770361014,
          0.7619836310356463,
          0.5481015224043614,
          0.8263372827283634,
          0.6301386427894129,
          0.8680792017742573,
          0.6790707424225425,
          0.810553735664431,
          0.9809955286960144,
          0.7617182317290161,
          1.556101733230687,
          0.5472106729386175,
          0.2354744973681384,
          0.8124897160597834,
          1.025280213640476,
          1.3367454438808577,
          0.028054061499566095,
          0.7617270123482646,
          0.8531486392709708,
          2.2612528699615817,
          0.9811707121426192,
          0.01626591618913969,
          2.519138001646246,
          0.5474195058956787,
          0.23580563378991878,
          0.8103928899633982,
          0.5472839596988128,
          1.0805786771281762,
          -0.07128553318849398,
          0.8105500615244103,
          1.60142799644567,
          0.6927414714296443,
          1.3374967026340283,
          0.01647915659584695,
          0.8493693889687777,
          0.01681816827219974,
          1.3366775275249092,
          0.9398887009749761,
          0.4490043205792654,
          1.3373758407494918,
          0.8107430269228795,
          0.8104854667916206,
          0.8103292504556042,
          1.3391397088792423,
          0.2403194960780192,
          0.8365580300177877,
          0.65405161624033,
          1.3404293344625702,
          0.016329025468736116,
          0.8105376576168043,
          0.44742568578840397,
          0.812576724999598,
          1.3376844708118614,
          0.8110052975250587,
          0.23544997835514783,
          0.2360605468054639,
          2.4863725180163794,
          0.5915206203491613,
          0.8118276629490352,
          0.10878555115144622,
          1.4242356586711242,
          0.8108915506855712
         ],
         "z": [
          0.3721377359146006,
          0.3732558332587574,
          0.5043352582499495,
          -0.07291010078361874,
          -0.2737891740434593,
          -0.11025277404054445,
          0.573202608664699,
          -0.27392554435557037,
          -0.27033921138873673,
          -0.7563668509688397,
          -0.27383055390357935,
          0.3721738638993669,
          0.37210052170926977,
          0.5776818911336021,
          -0.07258901300892462,
          -0.27342487084478484,
          -0.2737504274447051,
          0.3721305285514283,
          -0.03221978723444467,
          -0.2738669150838594,
          0.3721388422542621,
          -0.27392562937243026,
          0.3721398928153091,
          -0.2739429143024469,
          -0.7563709263243997,
          -0.027480321609627763,
          -0.24476518948306572,
          -0.2739264311689336,
          -0.27331970561469526,
          -0.27390195204572965,
          -0.7047385068912849,
          -0.27394692893850114,
          -0.2708728645417857,
          -0.27382037814865556,
          -0.2738139911235883,
          0.3723986496063892,
          -0.07834055653992192,
          -0.110253278855538,
          -0.07291028597889662,
          -0.2733919879757291,
          -0.2739285562394472,
          -0.27396885192191406,
          0.4125591531443274,
          -0.2738808661223534,
          -0.273949942786943,
          0.5784247940097575,
          -0.19071137048433107,
          -0.24084263034573702,
          -0.07290991391330016,
          -0.2732439690449087,
          -0.19070838768482526,
          1.0153976066235575,
          0.37305619075633933,
          0.37235075345350394,
          0.37042084592191055,
          -0.27392527119570215,
          -0.2734187374953932,
          -0.27385972643496204,
          -0.11030103562488781,
          -0.07101916881689549,
          -0.07285391003807336,
          -0.11027894315026174,
          -0.07286381928391863,
          -0.07277833124759314,
          -0.0729550829788641,
          -0.7564106256448448,
          0.3756219317451423,
          0.37235657856868093,
          -0.27392212668434335,
          -0.4893434957368081,
          -0.273390123198865,
          -0.11028924669026927,
          -0.07285811803976296,
          -0.19070943820088518,
          0.3743469167613412,
          -0.27374263502349266,
          0.5733024139671424,
          -0.2702701032323086,
          -0.2736108162978325,
          -0.19068100431011684,
          -0.27396596348946994,
          -0.27362584349782293,
          0.37213764985861547,
          -0.1906857371908587,
          -0.2718003488196886,
          -0.5130154532713788,
          0.007450463803892589,
          -0.27396489808656943,
          0.37218141314608927,
          -0.25206330861443427,
          -0.2739704437121649,
          -0.0729097807475354,
          -0.06992976080826342,
          -0.1103011264251031,
          1.0586197481366546,
          -0.7563392530328702,
          -0.07283725784187757,
          0.6937743054063711,
          -0.7563649092060187,
          -0.27350740816749486,
          -0.2734217477380403,
          -0.19059795714355943,
          0.5753692177633289,
          -0.2710564297648798,
          -0.7563759986724634,
          -0.07291028059833078,
          -0.2735183320577568,
          0.5732024692294736,
          -0.052061178838481346,
          -0.27378957210686933,
          0.573176878509879,
          -0.02626504058872867,
          1.0550029396605083,
          0.37223035842566204,
          -0.7562268976195143,
          -0.2735984410032391,
          -0.7965615687587196,
          -0.10944999361149779,
          0.5732423490665172,
          -0.27392780920260007,
          -0.7563559083975082,
          -0.11014257948485599,
          0.573647791692015,
          0.5743172858734371,
          1.0557873840764802,
          -0.10999418517396191,
          -0.2739704502547902,
          0.37652581262429147,
          0.3722357953346856,
          0.3723536640535712,
          -0.7563551894339464,
          -0.11019105687934354,
          0.37233481413097796,
          0.5732004314280581,
          -0.07293439838071428,
          -0.11029442274449221,
          0.3721841594189633,
          0.37213762221274255,
          -0.2735350548542441,
          -0.07293256488733578,
          0.809713785080637,
          -0.2739058971018223,
          0.5359578023860644,
          0.37213577252482033,
          -0.10698976672366796,
          -0.23069480294357225,
          0.5093312193725588,
          -0.11023557659232075,
          -0.25180479663534744,
          -0.7553498891115114,
          -0.19422167637979648,
          -0.11029271735351122,
          0.3722222108236473,
          0.37223074198285566,
          -0.75590847944963,
          -0.11016832235160628,
          0.573197521266206,
          0.37220973920377154,
          1.3974530739777213,
          0.37219918661939433,
          0.3735801612900807,
          -0.11028999624514293,
          0.3724566152941821,
          0.3721663644512228,
          0.3721448955483978,
          0.6537334279422438,
          -0.27396581382533647,
          0.3732452563252231,
          0.5732003183580101,
          -0.11028062345221638,
          0.3721814004369572,
          -0.5346571931858848,
          0.37218636257619797,
          0.5877450959311888,
          -0.2739645118180136,
          -0.754194486386071,
          0.37429701812051386,
          -0.2737558439394645,
          -0.11008002385030888,
          -0.11006355364035182,
          -0.2651041427555162,
          -0.11008051337689281,
          -0.10919923915667704,
          0.37218446665032034,
          0.37220109902720194,
          0.37435555464642006,
          -0.11021332950546278,
          -0.27389418997434595,
          -0.06748818035894075,
          0.3723693589816904,
          -0.0738888612109047,
          -0.2738128970705605,
          1.0556145992680337,
          -0.7561908280697087,
          1.0558551206064593,
          0.2517494287320596,
          -0.27393009031091653,
          -0.1906422101799373,
          -0.27380574538706,
          -0.7562790092435662,
          -0.7563687912200063,
          0.48250041739826044,
          -0.19066687031836618,
          -0.5955520981756044,
          0.1600483860768791,
          -0.7539780949066253,
          0.251747055209729,
          -0.0729101047903779,
          -0.11028068821985557,
          1.1958190893024898,
          -0.2506844046501516,
          -0.2823470826187815,
          -0.2739279927030036,
          -0.2737865042921392,
          -0.2737519085117118,
          -0.2737519711651175,
          0.37224360707891824,
          0.37214680480955664,
          -0.11024158120340732,
          1.016265876830747,
          -0.7525767232763588,
          0.3721725631586338,
          0.4247458702604441,
          0.5733702852706132,
          1.0582212529754678,
          0.9351155561397871,
          0.37218418473590825,
          0.6137988935970544,
          -0.2737558525248125,
          0.37216957568811826,
          -0.7556445697593623,
          -0.10998390477822638,
          1.12046488904828,
          -0.1902525007565648,
          0.37259698446961326,
          -0.7551954422634044,
          0.4827424951088362,
          0.3724699199506164,
          -0.2631147074676219,
          -0.11019279103291985,
          -0.7563668892224484,
          -0.27383250281286875,
          0.3740991853935209,
          0.372146460539071,
          -0.7563600409583714,
          -0.0729120815875356,
          0.15683388173232446,
          -0.4347481717839852,
          0.3726385226228651,
          -0.25237895837401436,
          0.10403658727811085,
          -0.2738837963317401,
          -0.23399657395556672,
          -0.7553140057021499,
          -0.11024571853171616,
          -0.3513873782415383,
          -0.2739254449050963,
          1.0557027499957528,
          0.37214433984276457,
          0.3721487558306622,
          0.37220369260746045,
          -0.7561906326055127,
          0.6137925082813589,
          0.3834152100117981,
          -0.6357609868584292,
          0.3941624152492605,
          0.4929672674127678,
          0.37232277008196796,
          -0.9573782259519094,
          -0.7563642725484259,
          -0.3111362801313658,
          0.6133682000786533,
          -0.2739228381923975,
          0.3743552674512608,
          -0.9971650572548618,
          -0.11019194750441394,
          -0.0684211328514628,
          -0.7563554024942724,
          0.4119969246533318,
          2.177662192824011,
          -0.9572054970294008,
          -0.07291010461028803,
          0.6651960871246456,
          0.6134748183337417,
          -0.2737077060453937,
          0.37218344517499213,
          0.6133982718719284,
          0.5362274414705297,
          0.007671864393127654,
          0.372322831740723,
          -0.35042315149328257,
          0.503784173633617,
          -0.10937044466803827,
          -0.07281674602642034,
          -0.8368124282621495,
          -0.07258798262725688,
          -0.1102358947889879,
          0.44886525650140624,
          -0.05640413641261536,
          -0.11031524432247294,
          0.3725810982889429,
          0.3722568625734032,
          0.3721371717648935,
          -0.1092176691240431,
          -0.27179962690531806,
          0.3953677035369665,
          0.5725246281225335,
          -0.1081121352727434,
          -0.07286382230199548,
          0.37216748959696344,
          -0.16481198633190866,
          0.37300119594467046,
          -0.10985151843257944,
          0.37248652282178885,
          -0.27396098800654034,
          -0.27357221411135246,
          1.1819536108360698,
          0.5733823920765514,
          0.3727883313458434,
          1.0155228121443378,
          -0.19070724214307996,
          0.3726913234014698
         ]
        },
        {
         "customdata": [
          [
           "Ethash"
          ],
          [
           "CryptoNight-V7"
          ],
          [
           "Ethash"
          ],
          [
           "Equihash"
          ],
          [
           "Multiple"
          ],
          [
           "Multiple"
          ],
          [
           "Groestl"
          ],
          [
           "Groestl"
          ],
          [
           "Multiple"
          ],
          [
           "NeoScrypt"
          ],
          [
           "HybridScryptHash256"
          ],
          [
           "Lyra2REv2"
          ],
          [
           "CryptoNight"
          ],
          [
           "CryptoNight"
          ],
          [
           "Counterparty"
          ],
          [
           "Groestl"
          ],
          [
           "Multiple"
          ],
          [
           "M7 POW"
          ],
          [
           "Lyra2RE"
          ],
          [
           "Ethash"
          ],
          [
           "Blake2b"
          ],
          [
           "BLAKE256"
          ],
          [
           "1GB AES Pattern Search"
          ],
          [
           "Dagger"
          ],
          [
           "Equihash"
          ],
          [
           "CryptoNight"
          ],
          [
           "Multiple"
          ],
          [
           "Lyra2Z"
          ],
          [
           "Ethash"
          ],
          [
           "Equihash"
          ],
          [
           "CryptoNight"
          ],
          [
           "CryptoNight"
          ],
          [
           "Lyra2RE"
          ],
          [
           "CryptoNight-V7"
          ],
          [
           "Equihash"
          ],
          [
           "Lyra2RE"
          ],
          [
           "Dagger-Hashimoto"
          ],
          [
           "Blake2S"
          ],
          [
           "NIST5"
          ],
          [
           "CryptoNight-V7"
          ],
          [
           "536"
          ],
          [
           "Argon2d"
          ],
          [
           "Blake2b"
          ],
          [
           "Cloverhash"
          ],
          [
           "CryptoNight"
          ],
          [
           "CryptoNight"
          ],
          [
           "Keccak"
          ],
          [
           "CryptoNight"
          ],
          [
           "Equihash"
          ],
          [
           "NeoScrypt"
          ],
          [
           "Equihash"
          ],
          [
           "Dagger"
          ],
          [
           "NeoScrypt"
          ],
          [
           "Ethash"
          ],
          [
           "NeoScrypt"
          ],
          [
           "Multiple"
          ],
          [
           "CryptoNight"
          ],
          [
           "CryptoNight"
          ],
          [
           "Ethash"
          ],
          [
           "CryptoNight-V7"
          ],
          [
           "BLAKE256"
          ],
          [
           "NeoScrypt"
          ],
          [
           "NeoScrypt"
          ],
          [
           "C11"
          ],
          [
           "Ethash"
          ],
          [
           "CryptoNight"
          ],
          [
           "CryptoNight"
          ],
          [
           "Dagger"
          ],
          [
           "Lyra2REv2"
          ],
          [
           "C11"
          ],
          [
           "Ethash"
          ],
          [
           "CryptoNight"
          ],
          [
           "IMesh"
          ],
          [
           "Equihash"
          ],
          [
           "Lyra2Z"
          ],
          [
           "CryptoNight"
          ],
          [
           "NIST5"
          ],
          [
           "Lyra2RE"
          ],
          [
           "Lyra2Z"
          ],
          [
           "CryptoNight"
          ],
          [
           "CryptoNight Heavy"
          ],
          [
           "CryptoNight"
          ],
          [
           "Jump Consistent Hash"
          ],
          [
           "CryptoNight"
          ],
          [
           "DPoS"
          ],
          [
           "HMQ1725"
          ],
          [
           "Lyra2REv2"
          ],
          [
           "CryptoNight-V7"
          ],
          [
           "Cryptonight-GPU"
          ],
          [
           "CryptoNight Heavy"
          ],
          [
           "Keccak"
          ],
          [
           "Equihash"
          ],
          [
           "Lyra2Z"
          ],
          [
           "CryptoNight"
          ],
          [
           "Blake"
          ],
          [
           "Blake"
          ],
          [
           "Equihash"
          ],
          [
           "Exosis"
          ],
          [
           "Equihash"
          ],
          [
           "Equihash"
          ],
          [
           "NeoScrypt"
          ],
          [
           "Blake"
          ],
          [
           "Groestl"
          ],
          [
           "Multiple"
          ],
          [
           "Equihash+Scrypt"
          ],
          [
           "Ethash"
          ],
          [
           "CryptoNight"
          ],
          [
           "Equihash"
          ]
         ],
         "hovertemplate": "<b>%{hovertext}</b><br><br>Class=%{marker.color}<br>PC 1=%{x}<br>PC 2=%{y}<br>PC 3=%{z}<br>Algorithm=%{customdata[0]}<extra></extra>",
         "hovertext": [
          "Ethereum",
          "Monero",
          "Ethereum Classic",
          "ZCash",
          "DigiByte",
          "MyriadCoin",
          "Riecoin",
          "Diamond",
          "Verge",
          "FeatherCoin",
          "MediterraneanCoin",
          "Vertcoin",
          "ByteCoin",
          "DigitalNote ",
          "StorjCoin",
          "FairCoin",
          "Unitus",
          "Cryptonite",
          "Crypto",
          "Expanse",
          "Siacoin",
          "Decred",
          "HOdlcoin",
          "SoilCoin",
          "Komodo",
          "Karbo",
          "Circuits of Value",
          "ZCoin",
          "Elementrem",
          "ZClassic",
          "Cannabis Industry Coin",
          "Bikercoins",
          "HexxCoin",
          "Citadel",
          "Zero",
          "Zoin",
          "DubaiCoin",
          "TajCoin",
          "Coinonat",
          "Quantum Resistant Ledger",
          "Espers",
          "Dynamic",
          "Nano",
          "ChanCoin",
          "Dinastycoin",
          "LeviarCoin",
          "SmartCash",
          "Sumokoin",
          "BitcoinZ",
          "VIVO Coin",
          "Bitcoin Gold",
          "Pirl",
          "Innova",
          "Ellaism",
          "GoByte",
          "SHIELD",
          "UltraNote",
          "BitCoal",
          "DaxxCoin",
          "Lethean",
          "Photon",
          "SparksPay",
          "GunCoin",
          "Interzone",
          "1717 Masonic Commemorative Token",
          "TurtleCoin",
          "Niobio Cash",
          "Travelflex",
          "KREDS",
          "Stipend",
          "Callisto Network",
          "BitTube",
          "Aidos Kuneen",
          "Bitrolium",
          "Alpenschillling",
          "Monero Classic",
          "Jumpcoin",
          "Infinex",
          "GINcoin",
          "PlatinCoin",
          "Loki",
          "Newton Coin",
          "MassGrid",
          "PluraCoin",
          "Muse",
          "PlusOneCoin",
          "Absolute Coin",
          "Webchain",
          "Ryo",
          "Qwertycoin",
          "XDNA",
          "CrypticCoin",
          "Actinium",
          "FREDEnergy",
          "Universal Molecule",
          "Lithium",
          "PirateCash",
          "Exosis",
          "Beam",
          "Bithereum",
          "UFO Coin",
          "BlakeCoin",
          "Groestlcoin",
          "JoinCoin",
          "Vollar",
          "Reality Clash",
          "Beldex",
          "Horizen"
         ],
         "legendgroup": "3",
         "marker": {
          "color": [
           3,
           3,
           3,
           3,
           3,
           3,
           3,
           3,
           3,
           3,
           3,
           3,
           3,
           3,
           3,
           3,
           3,
           3,
           3,
           3,
           3,
           3,
           3,
           3,
           3,
           3,
           3,
           3,
           3,
           3,
           3,
           3,
           3,
           3,
           3,
           3,
           3,
           3,
           3,
           3,
           3,
           3,
           3,
           3,
           3,
           3,
           3,
           3,
           3,
           3,
           3,
           3,
           3,
           3,
           3,
           3,
           3,
           3,
           3,
           3,
           3,
           3,
           3,
           3,
           3,
           3,
           3,
           3,
           3,
           3,
           3,
           3,
           3,
           3,
           3,
           3,
           3,
           3,
           3,
           3,
           3,
           3,
           3,
           3,
           3,
           3,
           3,
           3,
           3,
           3,
           3,
           3,
           3,
           3,
           3,
           3,
           3,
           3,
           3,
           3,
           3,
           3,
           3,
           3,
           3,
           3,
           3,
           3
          ],
          "coloraxis": "coloraxis",
          "symbol": "diamond"
         },
         "mode": "markers",
         "name": "3",
         "scene": "scene",
         "showlegend": true,
         "type": "scatter3d",
         "x": [
          -0.04411582063938091,
          -0.001978716880187398,
          -0.04190713694535436,
          -0.034542165989835186,
          0.2626521664598679,
          -0.07616221500578801,
          -0.060458184068174485,
          -0.2600808609299685,
          0.28601445459301744,
          -0.12620090950354462,
          -0.07029897613701037,
          -0.10393698106764347,
          4.652786103448569,
          0.2140167324084586,
          0.3501018995932353,
          -0.2593718459312155,
          -0.12088944906267356,
          -0.08713532343260882,
          -0.09924834851953884,
          -0.04541239160841523,
          0.5301503670059937,
          -0.15104789339573374,
          0.06401802524971423,
          -0.018162812053331326,
          -0.8235720988136195,
          0.008856599628585862,
          -0.09464194941336589,
          -0.1106661624993035,
          -0.045081168209363746,
          -0.0345688843061848,
          0.00886445976088607,
          0.009031413849638419,
          -0.09999152384176022,
          -0.00020256187948331482,
          -0.0345895707094946,
          -0.0996286201462458,
          -0.02393382124457948,
          -0.16173551886383644,
          -0.1266698764152857,
          -0.0001345523205120627,
          0.7092250484390465,
          0.052439455189957025,
          0.03584108925836924,
          0.020094446349204067,
          0.05617802195448537,
          0.009397136228466087,
          -0.004860099750185286,
          0.009671099113087375,
          0.25612368161392873,
          -0.13241258979728834,
          -0.03439390130129684,
          -0.01645883557772668,
          -0.13219726063968254,
          -0.04271851487424626,
          -0.1323389037930284,
          -0.10792656987428959,
          1.159084131663766,
          0.008831706865431676,
          0.06321798766698691,
          0.014528354594137906,
          1.4108879168661708,
          -0.13241765925740756,
          -0.12316697452082041,
          0.025363592392213915,
          0.2844981899448479,
          10.920478120122995,
          0.014056459585437981,
          -0.015920709360252795,
          -0.08471757975583252,
          -0.1728029543939059,
          0.02370852814931976,
          0.01995554335598323,
          -0.07773905996649869,
          -0.03308086299425839,
          -0.10755111843883776,
          0.009065249369169498,
          -0.1267801003734597,
          -0.09977829865601201,
          -0.11078514168725512,
          0.014704349427657679,
          0.005005101194026837,
          2.4922977473602344,
          -0.08005737770361626,
          0.027203766943103773,
          0.31754243123005993,
          -0.0671506069813627,
          -0.3029463110806128,
          0.015688373659788517,
          -0.006710967413724211,
          3.3712755651556523,
          -0.28359400422190045,
          0.10591324309364229,
          -0.10994170894375621,
          0.11851311057641083,
          0.04235143130445575,
          0.041759217452992416,
          0.29659820616592686,
          -0.05096126410878877,
          -0.03167031932844329,
          -0.03417394339682518,
          -0.034560494843540186,
          0.11238382725114732,
          -0.05988728251917844,
          -0.12179398341289438,
          -0.01756405133557129,
          -0.04512446666883583,
          0.03759357558074338,
          -0.03454347236291673
         ],
         "y": [
          -1.167492483615969,
          -1.5186306931884035,
          -1.1670158812254117,
          -1.255502448313193,
          -0.4684435862410755,
          -0.5436868481653917,
          -1.0359542347340849,
          -0.4614146405051717,
          -0.4623268143539465,
          -0.464764312675928,
          -0.9480281156748872,
          -0.6851261248584898,
          -0.5627761751166105,
          -1.5605412842352726,
          -2.607106557381563,
          -0.46125006230484167,
          -0.5537017819618675,
          -0.5913068474468424,
          -0.7291491703718963,
          -1.1677948820470558,
          -1.666299903575211,
          -1.338409944192932,
          -2.0447061395381616,
          -1.3870471521932501,
          1.0447622935797594,
          -1.6063472807720356,
          -0.5478289178819647,
          -0.6415616646083364,
          -1.167719828136763,
          -1.2555086236009203,
          -1.6063472388141986,
          -1.6063092967978796,
          -0.7293119363240873,
          -1.5182500258100364,
          -1.2555127594061393,
          -0.7292298346988124,
          -1.3432668536569252,
          -1.2506634000837065,
          -0.5099359249886378,
          -1.5182214000017924,
          -1.2378616331034131,
          -1.9571497266648437,
          -1.780602347875085,
          -1.6939724466884387,
          -1.5957311501928102,
          -1.6062294477900858,
          -0.7983489970839617,
          -1.6061717568558858,
          -1.1917068349600486,
          -0.466150137699891,
          -1.255468180543492,
          -1.3866736976559422,
          -0.46610327370005705,
          -1.1672147051352577,
          -0.4661338813990171,
          -0.5508122115412486,
          -1.3542123502021224,
          -1.6063534374731285,
          -1.1442982714388361,
          -1.5149767404258818,
          -1.6125882599318584,
          -0.46615034135285943,
          -0.4640895520032872,
          -1.7378631294004274,
          -2.125982733503354,
          0.7542715422460815,
          -1.605198056111352,
          -1.3865402384674324,
          -0.6808479482131301,
          -1.1629992415343926,
          -1.1528652365020724,
          -1.6039417552171178,
          -0.9046098287763571,
          -1.255172609307985,
          -0.6408866469066513,
          -1.6063004117099546,
          -0.5099570037818987,
          -0.7292652811045338,
          -0.641587405161853,
          -1.6050909055311178,
          -1.5621504013425467,
          -1.0620449937554437,
          -0.8600590760052523,
          -1.6022665049665243,
          -2.389005899321286,
          -0.992381214112873,
          -0.11045253404627656,
          -1.5148297175886565,
          -1.4746290190320366,
          -0.8138568731053903,
          -0.2413592397880279,
          -1.2242623854724661,
          -0.6414043245944683,
          -1.5823048497549328,
          -1.8692789938559045,
          -1.8694029801533978,
          -2.2134220826463644,
          -1.1239683823761868,
          -1.2548777025180757,
          -1.2554189376234617,
          -0.4441750071727907,
          -1.8542051196774476,
          -1.0358256728555058,
          -0.5539112947813327,
          -1.2068041461839536,
          -1.1677295584068461,
          -1.5999297250841609,
          -1.255502750249496
         ],
         "z": [
          1.0125253083069319,
          1.3341564565868118,
          1.0129907240199736,
          1.092984219602368,
          0.49559317482074916,
          0.4540232012917267,
          0.8921053189089915,
          1.5380409593297593,
          0.4854699285940391,
          0.37001289287945627,
          0.8119566609514967,
          0.5704793746662871,
          1.8129046674918614,
          1.4363379174165705,
          0.3790238891679835,
          1.5380283233453187,
          0.4496825656433329,
          0.49392895644624135,
          0.610644408965326,
          1.0125684960766408,
          1.5734384222779965,
          2.34214202912077,
          1.8167773465546302,
          1.2136139720843533,
          3.677812927795933,
          1.4145856466059128,
          0.4522892309742145,
          0.5301398600297577,
          1.012588200076965,
          1.092984323234933,
          1.4146104437763187,
          1.414618824449167,
          0.6105213721899029,
          1.334567123458163,
          1.0929753752323483,
          0.6105447922520262,
          1.1733493609167003,
          2.2617707240994283,
          0.4095895706567726,
          1.3343862948865781,
          2.532059518172131,
          1.7361886166379834,
          1.5761237415932003,
          1.4950358459253903,
          1.4188936495560394,
          1.4146828606522042,
          0.7018637598690777,
          1.4147605443358329,
          1.1392076685687842,
          0.3693395547058287,
          1.0929836445268386,
          1.2138924447022754,
          0.3693793465827846,
          1.0131518653030944,
          0.3693501027862259,
          0.4511219458658421,
          1.6019517597456858,
          1.4145913858071366,
          1.0346795895262662,
          1.3363483199955235,
          1.893830647721146,
          0.36932603201011355,
          0.37037128293335264,
          1.5352239322531915,
          -0.06431408656271577,
          3.6292998542361397,
          1.4153012793520763,
          1.2137632698057745,
          0.5726980009436442,
          2.1813253723711465,
          1.026933125982136,
          1.416777086218087,
          0.7713662101790872,
          1.0930891475629705,
          0.5307565945358463,
          1.4146037966165033,
          0.4095284887902953,
          0.6105572900869897,
          0.530115719563772,
          1.4158946313269543,
          1.374692250586678,
          1.8202295306838072,
          0.7314736385779562,
          1.416748972470566,
          0.17694084354416603,
          0.8517647588729669,
          1.216521245809893,
          1.3380377857031724,
          1.2941495359713606,
          1.777656726686717,
          1.3378267417763694,
          1.1095456900573228,
          0.5302783420276512,
          1.4323747933649522,
          1.6560163608135294,
          1.6558383386210511,
          0.01632096673647206,
          0.9723749348144983,
          1.0935188376004448,
          1.093005104667187,
          0.37792731344072344,
          1.6713068818794043,
          0.8921505028035742,
          0.44969239383592224,
          1.0573864704941598,
          1.0125844913044835,
          1.4176119997856138,
          1.0929842246694088
         ]
        },
        {
         "customdata": [
          [
           "SHA-512"
          ],
          [
           "SHA-256"
          ],
          [
           "Scrypt"
          ],
          [
           "PoS"
          ],
          [
           "X11"
          ],
          [
           "Scrypt"
          ],
          [
           "Scrypt"
          ],
          [
           "X11"
          ],
          [
           "Multiple"
          ],
          [
           "PHI1612"
          ],
          [
           "Multiple"
          ],
          [
           "Shabal256"
          ],
          [
           "Scrypt"
          ],
          [
           "Scrypt"
          ],
          [
           "X11"
          ],
          [
           "X11"
          ],
          [
           "Scrypt"
          ],
          [
           "Scrypt"
          ],
          [
           "Scrypt"
          ],
          [
           "Scrypt"
          ],
          [
           "PoS"
          ],
          [
           "POS 3.0"
          ],
          [
           "X13"
          ],
          [
           "X11"
          ],
          [
           "Scrypt"
          ],
          [
           "PoS"
          ],
          [
           "PoS"
          ],
          [
           "X13"
          ],
          [
           "PoS"
          ],
          [
           "DPoS"
          ],
          [
           "PoS"
          ],
          [
           "PoS"
          ],
          [
           "Scrypt"
          ],
          [
           "Quark"
          ],
          [
           "Scrypt"
          ],
          [
           "X13"
          ],
          [
           "Scrypt"
          ],
          [
           "PoS"
          ],
          [
           "PoS"
          ],
          [
           "SHA-256"
          ],
          [
           "Scrypt"
          ],
          [
           "PoS"
          ],
          [
           "SHA-256"
          ],
          [
           "POS 3.0"
          ],
          [
           "SkunkHash v2 Raptor"
          ],
          [
           "Scrypt"
          ],
          [
           "PoS"
          ],
          [
           "SHA-512"
          ],
          [
           "Ouroboros"
          ],
          [
           "Lyra2REv2"
          ],
          [
           "POS 2.0"
          ],
          [
           "SHA-256"
          ],
          [
           "DPoS"
          ],
          [
           "NIST5"
          ],
          [
           "Quark"
          ],
          [
           "Quark"
          ],
          [
           "X11"
          ],
          [
           "POS 3.0"
          ],
          [
           "X13"
          ],
          [
           "Proof-of-BibleHash"
          ],
          [
           "Proof-of-Authority"
          ],
          [
           "Scrypt"
          ],
          [
           "VBFT"
          ],
          [
           "Scrypt"
          ],
          [
           "Green Protocol"
          ],
          [
           "PoS"
          ],
          [
           "Semux BFT consensus"
          ],
          [
           "PoS"
          ],
          [
           "X16R"
          ],
          [
           "XEVAN"
          ],
          [
           "Scrypt"
          ],
          [
           "Scrypt"
          ],
          [
           "X15"
          ],
          [
           "Scrypt"
          ],
          [
           "Quark"
          ],
          [
           "SHA-256"
          ],
          [
           "Quark"
          ],
          [
           "Scrypt"
          ],
          [
           "Quark"
          ],
          [
           "X11"
          ],
          [
           "Scrypt"
          ],
          [
           "PoS"
          ],
          [
           "X11"
          ],
          [
           "ECC 256K1"
          ],
          [
           "XEVAN"
          ],
          [
           "X11"
          ],
          [
           "Quark"
          ],
          [
           "X11"
          ],
          [
           "DPoS"
          ],
          [
           "SHA-256"
          ],
          [
           "PoS"
          ],
          [
           "DPoS"
          ],
          [
           "Scrypt"
          ],
          [
           "DPoS"
          ],
          [
           "DPoS"
          ],
          [
           "SHA-256"
          ],
          [
           "Leased POS"
          ],
          [
           "PoS"
          ],
          [
           "PoS"
          ],
          [
           "SHA-256"
          ],
          [
           "Scrypt"
          ]
         ],
         "hovertemplate": "<b>%{hovertext}</b><br><br>Class=%{marker.color}<br>PC 1=%{x}<br>PC 2=%{y}<br>PC 3=%{z}<br>Algorithm=%{customdata[0]}<extra></extra>",
         "hovertext": [
          "Bitshares",
          "PayCoin",
          "CasinoCoin",
          "Exclusive Coin",
          "HyperStake",
          "MintCoin",
          "Nautilus Coin",
          "SuperCoin",
          "TeslaCoin",
          "TittieCoin",
          "Crypti",
          "BurstCoin",
          "RubyCoin",
          "Dnotes",
          "Ucoin",
          "Squall Coin",
          "Diggits",
          "GPU Coin",
          "ZeitCoin",
          "SafeExchangeCoin",
          "Nebuchadnezzar",
          "Let it Ride",
          "MudraCoin",
          "Lutetium Coin",
          "BitCurrency",
          "Opair",
          "CoffeeCoin",
          "RoyalCoin",
          "TeamUP",
          "ARK",
          "FreeCoin",
          "Creatio",
          "PandaCoin",
          "Allsafe",
          "Zilbercoin",
          "FindCoin",
          "RenosCoin",
          "Atmos",
          "MacronCoin",
          "ProCurrency",
          "GrowthCoin",
          "Phreak",
          "Ultimate Secure Cash",
          "QTUM",
          "Signatum",
          "Draftcoin",
          "Stakecoin",
          "Obsidian",
          "Cardano",
          "Rupee",
          "KekCoin",
          "Infinity Economics",
          "Lamden Tau",
          "Bulwark",
          "Kalkulus",
          "Digiwage",
          "Monkey Project",
          "TokenPay",
          "Tokyo Coin",
          "BiblePay",
          "Poa Network",
          "Velox",
          "Ontology",
          "MedicCoin",
          "Bitcoin Green",
          "Deviant Coin",
          "Semux",
          "Zealium",
          "Proton",
          "Bitcoin Incognito",
          "HollyWoodCoin",
          "Xt3ch",
          "Dekado",
          "Lynx",
          "Poseidon Quark",
          "BitcoinWSpectrum",
          "Dystem",
          "Peony Coin",
          "Vitae",
          "ARENON",
          "MMOCoin",
          "Ketan",
          "PAXEX",
          "Acute Angle Cloud",
          "Bettex coin",
          "Junson Ming Chan Coin",
          "Crypto Sports",
          "Dash Platinum",
          "ALAX",
          "NeosCoin",
          "Radium",
          "Lisk",
          "HiCoin",
          "EOS",
          "Oxycoin",
          "TigerCash",
          "Waves",
          "Particl",
          "Nxt",
          "ZEPHYR",
          "BitcoinPlus"
         ],
         "legendgroup": "2",
         "marker": {
          "color": [
           2,
           2,
           2,
           2,
           2,
           2,
           2,
           2,
           2,
           2,
           2,
           2,
           2,
           2,
           2,
           2,
           2,
           2,
           2,
           2,
           2,
           2,
           2,
           2,
           2,
           2,
           2,
           2,
           2,
           2,
           2,
           2,
           2,
           2,
           2,
           2,
           2,
           2,
           2,
           2,
           2,
           2,
           2,
           2,
           2,
           2,
           2,
           2,
           2,
           2,
           2,
           2,
           2,
           2,
           2,
           2,
           2,
           2,
           2,
           2,
           2,
           2,
           2,
           2,
           2,
           2,
           2,
           2,
           2,
           2,
           2,
           2,
           2,
           2,
           2,
           2,
           2,
           2,
           2,
           2,
           2,
           2,
           2,
           2,
           2,
           2,
           2,
           2,
           2,
           2,
           2,
           2,
           2,
           2,
           2,
           2,
           2,
           2,
           2,
           2,
           2
          ],
          "coloraxis": "coloraxis",
          "symbol": "square"
         },
         "mode": "markers",
         "name": "2",
         "scene": "scene",
         "showlegend": true,
         "type": "scatter3d",
         "x": [
          0.1991155431068231,
          0.13794113368146235,
          1.1848347385742675,
          0.1703469053262378,
          0.07053354474787671,
          0.4319675558451596,
          0.1108519373897853,
          0.04595470676036775,
          0.21054938816653954,
          0.23432267266396123,
          0.20983649485552403,
          0.21480806015544507,
          0.11085452639623689,
          0.11813582762208058,
          0.04543185987512106,
          -0.08688564464530232,
          0.1129649366673948,
          0.1132899587890865,
          1.6695212094245109,
          0.23061932110558034,
          0.17076532116445908,
          0.1766204090996045,
          0.036410612141433346,
          0.061751219529893625,
          0.11300488085848842,
          0.17212710531712222,
          0.17291104404820953,
          0.03437624744845936,
          0.17357314475178826,
          0.7162213773451728,
          0.17152158432752623,
          0.17076532116445908,
          0.9497075150512857,
          0.14338201411692478,
          0.11104420953500498,
          0.03467937606316225,
          0.11133642770606862,
          0.17305419305087294,
          0.1803661167319665,
          0.8973617722508321,
          0.135119332368067,
          0.1707364142127493,
          0.1398125623875693,
          0.178219939865842,
          0.08627484021350801,
          0.11090182656185693,
          0.17094428570408796,
          0.1226212694248323,
          1.038419559662645,
          0.22524532558490734,
          0.1815354649945385,
          0.36451259289233057,
          0.722728618390331,
          0.2033688657148311,
          0.143529770661139,
          0.1446969032100529,
          0.045467901493324886,
          0.17626051762788508,
          0.045878149210265805,
          0.4368313955297498,
          0.3025426358648849,
          0.11208372270592351,
          0.07600171877354149,
          0.11953480191443369,
          0.2739418951771614,
          0.17148110001808972,
          0.5022746933862349,
          0.17123713166070112,
          0.01852089189079078,
          -0.11914116077358268,
          0.11129135153633485,
          0.11100408367043396,
          0.024804510822643743,
          2.5465281793439294,
          0.1496837277341365,
          0.13952014747996297,
          0.1433907990522029,
          0.28110758081267356,
          0.1450798753771425,
          0.04603603312115732,
          0.11469968026014685,
          0.17252496681660207,
          0.046268019790976736,
          0.7882587748068849,
          0.013169513072078257,
          0.305046960986776,
          0.14323593727071693,
          0.045399018701720764,
          0.7385326898085911,
          0.13791226296251907,
          0.17040982907605126,
          0.7167527073755806,
          0.36262479849547313,
          0.7287334317538063,
          0.7302711112595921,
          0.16284241622542775,
          0.5021963693227076,
          0.17048860120266687,
          0.12943008202674575,
          0.5842902030442163,
          0.1104561065718532
         ],
         "y": [
          -0.7930080966376141,
          -0.9418971181348303,
          -0.6877246722973055,
          -1.2050631776883127,
          -0.1906107276146061,
          -0.6483898251197246,
          -0.7226104855285875,
          -0.19629152705504213,
          -1.5115550147777916,
          -1.3259767563015596,
          -1.511703648874163,
          -0.81559817788577,
          -0.72260727669076,
          -0.7210050504500979,
          -0.19641559713534168,
          0.18678210665941486,
          -0.7221356406050669,
          -0.7220800500758496,
          -0.37833193778396373,
          -0.9021612559631479,
          -1.204969697827663,
          -1.2487282617831734,
          -0.10831038601931316,
          -0.19274654727020588,
          -0.7221102746586823,
          -1.2046636668688253,
          -1.2044769930196346,
          -0.10874871556825477,
          -1.2043660738633843,
          -3.538207557589048,
          -1.2047997461728597,
          -1.204969697827663,
          -0.5339727484954087,
          -0.9857496413398905,
          -0.7225723096566177,
          -0.10868059482377958,
          -0.7225014512435423,
          -1.2044552480994422,
          -1.2028120164095446,
          -0.7784738920908421,
          -0.7173217344983392,
          -1.20497799234712,
          -0.9414948474913557,
          -1.2483692982157437,
          -0.502762222254889,
          -0.7225991526452891,
          -1.204935046198983,
          -0.8101217188782744,
          -1.1921281437938573,
          -1.6434750856159202,
          -1.2926998964439849,
          -0.8909806737193902,
          -3.5367640692211073,
          -1.4680933086261092,
          -0.9857162977063674,
          -0.9854626772794869,
          -0.19640742833179028,
          -1.2488100705519845,
          -0.10621899845981843,
          -1.6747561124408978,
          -1.5432168845948253,
          -0.7223431838548081,
          -0.27972752420971253,
          -0.7206817116339492,
          -2.0382063972774067,
          -1.2048152339860303,
          -1.8283758619118329,
          -1.2048703306209878,
          0.022908788870482144,
          0.4499815227392655,
          -0.7225105099977974,
          -0.7225798090521871,
          -0.020755812741291294,
          -1.2089448904281437,
          -0.9843956035604613,
          -0.9415463269704013,
          -0.9857485789453813,
          -0.6859808208677556,
          -0.9853709358316902,
          -0.1962816040495892,
          -0.7217605110094925,
          -1.2045936528739012,
          -0.19623524620313595,
          -3.5932583210964952,
          0.06678078815669328,
          -0.13640866629576695,
          -0.9857831404618869,
          -0.1964231391708081,
          -3.5331920123413956,
          -0.941905162272666,
          -1.2050500864407296,
          -3.5380903872722795,
          -0.6660315211977437,
          -3.5352955338430574,
          -3.5349401366969238,
          -0.9363011149654119,
          -2.4972490436566117,
          -1.2050318211560622,
          -1.00779322061298,
          -2.0803843987683024,
          -0.7226995230622953
         ],
         "z": [
          -1.2625895581452073,
          -1.1497778003627581,
          -1.4798195236457,
          -0.9085857667852459,
          -1.8333580540977366,
          -1.3520680725797694,
          -1.3507860394257416,
          -1.833262719946239,
          -0.6269457319251611,
          -0.7829697029699177,
          -0.6271686727976096,
          -1.6419155408537411,
          -1.3508225686949673,
          -1.3497222808515121,
          -1.8332155507799224,
          -1.4025200913815778,
          -1.3506050483836403,
          -1.3503330860229257,
          -1.1334192645191707,
          -1.5615537922467404,
          -0.9085422485027965,
          -0.8683101651474108,
          -1.9132229356852624,
          -1.8318411017421474,
          -1.3508309092934196,
          -0.9084256492387024,
          -0.9085054301713456,
          -1.9136608140038087,
          -0.9079189054345322,
          -1.1150463338111667,
          -0.9084774700338987,
          -0.9085422485027965,
          -1.280688123889749,
          -1.1095689380747293,
          -1.3506991661327539,
          -1.9136348492226336,
          -1.350746735355058,
          -0.9083473363748226,
          -0.9077218044755869,
          -0.983472101584449,
          -1.3464025652497695,
          -0.9085195657833632,
          -1.1493616703364715,
          -0.8681662747859256,
          -1.551538501676891,
          -1.3507834660215905,
          -0.9084490490462953,
          -1.2702132916914932,
          -0.6494877847286962,
          -0.5065013000421813,
          -0.8281331192358735,
          -1.1303712802775745,
          -1.1142251760861683,
          -0.6673053530351675,
          -1.1095582258804204,
          -1.109337046869633,
          -1.83321343351508,
          -0.8683279542413681,
          -1.9119054216357816,
          -1.6236723874057246,
          -1.3789803991645073,
          -1.35054746097673,
          -1.7506735573154524,
          -1.3497277070652003,
          -0.1446780419699138,
          -0.9083915447354555,
          -2.683021529366931,
          -0.9084086549315092,
          -2.034176360624095,
          -1.64369352274834,
          -1.3507655794581628,
          -1.3507238381537845,
          -1.9938748420325545,
          -2.228188786353741,
          -1.1081601476261784,
          -1.149585840354214,
          -1.10955542979026,
          -1.3133837616202222,
          -1.10938367350267,
          -1.833138897099653,
          -1.3502506473839782,
          -0.9081202322975979,
          -1.8330382292183005,
          -1.449137478039256,
          -2.0743686421144765,
          -1.8342676633137345,
          -1.1095720504926425,
          -1.8332161005165128,
          -1.1131579455851766,
          -1.1497585033735291,
          -0.9085656973101276,
          -1.1149695817693648,
          -1.3292085718806743,
          -1.1153769968972,
          -1.1153829611079993,
          -1.1476455386509832,
          -1.2874100885399595,
          -0.908566828612147,
          -0.6910563127974744,
          -2.4377052906820147,
          -1.3508187662807696
         ]
        },
        {
         "customdata": [
          [
           "TRC10"
          ]
         ],
         "hovertemplate": "<b>%{hovertext}</b><br><br>Class=%{marker.color}<br>PC 1=%{x}<br>PC 2=%{y}<br>PC 3=%{z}<br>Algorithm=%{customdata[0]}<extra></extra>",
         "hovertext": [
          "BitTorrent"
         ],
         "legendgroup": "1",
         "marker": {
          "color": [
           1
          ],
          "coloraxis": "coloraxis",
          "symbol": "x"
         },
         "mode": "markers",
         "name": "1",
         "scene": "scene",
         "showlegend": true,
         "type": "scatter3d",
         "x": [
          25.425131617698273
         ],
         "y": [
          4.042884368800685
         ],
         "z": [
          -0.7867724942298039
         ]
        }
       ],
       "layout": {
        "coloraxis": {
         "colorbar": {
          "title": {
           "text": "Class"
          }
         },
         "colorscale": [
          [
           0,
           "#0d0887"
          ],
          [
           0.1111111111111111,
           "#46039f"
          ],
          [
           0.2222222222222222,
           "#7201a8"
          ],
          [
           0.3333333333333333,
           "#9c179e"
          ],
          [
           0.4444444444444444,
           "#bd3786"
          ],
          [
           0.5555555555555556,
           "#d8576b"
          ],
          [
           0.6666666666666666,
           "#ed7953"
          ],
          [
           0.7777777777777778,
           "#fb9f3a"
          ],
          [
           0.8888888888888888,
           "#fdca26"
          ],
          [
           1,
           "#f0f921"
          ]
         ]
        },
        "legend": {
         "title": {
          "text": "Class"
         },
         "tracegroupgap": 0,
         "x": 0,
         "y": 1
        },
        "margin": {
         "t": 60
        },
        "scene": {
         "domain": {
          "x": [
           0,
           1
          ],
          "y": [
           0,
           1
          ]
         },
         "xaxis": {
          "title": {
           "text": "PC 1"
          }
         },
         "yaxis": {
          "title": {
           "text": "PC 2"
          }
         },
         "zaxis": {
          "title": {
           "text": "PC 3"
          }
         }
        },
        "template": {
         "data": {
          "bar": [
           {
            "error_x": {
             "color": "#2a3f5f"
            },
            "error_y": {
             "color": "#2a3f5f"
            },
            "marker": {
             "line": {
              "color": "#E5ECF6",
              "width": 0.5
             },
             "pattern": {
              "fillmode": "overlay",
              "size": 10,
              "solidity": 0.2
             }
            },
            "type": "bar"
           }
          ],
          "barpolar": [
           {
            "marker": {
             "line": {
              "color": "#E5ECF6",
              "width": 0.5
             },
             "pattern": {
              "fillmode": "overlay",
              "size": 10,
              "solidity": 0.2
             }
            },
            "type": "barpolar"
           }
          ],
          "carpet": [
           {
            "aaxis": {
             "endlinecolor": "#2a3f5f",
             "gridcolor": "white",
             "linecolor": "white",
             "minorgridcolor": "white",
             "startlinecolor": "#2a3f5f"
            },
            "baxis": {
             "endlinecolor": "#2a3f5f",
             "gridcolor": "white",
             "linecolor": "white",
             "minorgridcolor": "white",
             "startlinecolor": "#2a3f5f"
            },
            "type": "carpet"
           }
          ],
          "choropleth": [
           {
            "colorbar": {
             "outlinewidth": 0,
             "ticks": ""
            },
            "type": "choropleth"
           }
          ],
          "contour": [
           {
            "colorbar": {
             "outlinewidth": 0,
             "ticks": ""
            },
            "colorscale": [
             [
              0,
              "#0d0887"
             ],
             [
              0.1111111111111111,
              "#46039f"
             ],
             [
              0.2222222222222222,
              "#7201a8"
             ],
             [
              0.3333333333333333,
              "#9c179e"
             ],
             [
              0.4444444444444444,
              "#bd3786"
             ],
             [
              0.5555555555555556,
              "#d8576b"
             ],
             [
              0.6666666666666666,
              "#ed7953"
             ],
             [
              0.7777777777777778,
              "#fb9f3a"
             ],
             [
              0.8888888888888888,
              "#fdca26"
             ],
             [
              1,
              "#f0f921"
             ]
            ],
            "type": "contour"
           }
          ],
          "contourcarpet": [
           {
            "colorbar": {
             "outlinewidth": 0,
             "ticks": ""
            },
            "type": "contourcarpet"
           }
          ],
          "heatmap": [
           {
            "colorbar": {
             "outlinewidth": 0,
             "ticks": ""
            },
            "colorscale": [
             [
              0,
              "#0d0887"
             ],
             [
              0.1111111111111111,
              "#46039f"
             ],
             [
              0.2222222222222222,
              "#7201a8"
             ],
             [
              0.3333333333333333,
              "#9c179e"
             ],
             [
              0.4444444444444444,
              "#bd3786"
             ],
             [
              0.5555555555555556,
              "#d8576b"
             ],
             [
              0.6666666666666666,
              "#ed7953"
             ],
             [
              0.7777777777777778,
              "#fb9f3a"
             ],
             [
              0.8888888888888888,
              "#fdca26"
             ],
             [
              1,
              "#f0f921"
             ]
            ],
            "type": "heatmap"
           }
          ],
          "heatmapgl": [
           {
            "colorbar": {
             "outlinewidth": 0,
             "ticks": ""
            },
            "colorscale": [
             [
              0,
              "#0d0887"
             ],
             [
              0.1111111111111111,
              "#46039f"
             ],
             [
              0.2222222222222222,
              "#7201a8"
             ],
             [
              0.3333333333333333,
              "#9c179e"
             ],
             [
              0.4444444444444444,
              "#bd3786"
             ],
             [
              0.5555555555555556,
              "#d8576b"
             ],
             [
              0.6666666666666666,
              "#ed7953"
             ],
             [
              0.7777777777777778,
              "#fb9f3a"
             ],
             [
              0.8888888888888888,
              "#fdca26"
             ],
             [
              1,
              "#f0f921"
             ]
            ],
            "type": "heatmapgl"
           }
          ],
          "histogram": [
           {
            "marker": {
             "pattern": {
              "fillmode": "overlay",
              "size": 10,
              "solidity": 0.2
             }
            },
            "type": "histogram"
           }
          ],
          "histogram2d": [
           {
            "colorbar": {
             "outlinewidth": 0,
             "ticks": ""
            },
            "colorscale": [
             [
              0,
              "#0d0887"
             ],
             [
              0.1111111111111111,
              "#46039f"
             ],
             [
              0.2222222222222222,
              "#7201a8"
             ],
             [
              0.3333333333333333,
              "#9c179e"
             ],
             [
              0.4444444444444444,
              "#bd3786"
             ],
             [
              0.5555555555555556,
              "#d8576b"
             ],
             [
              0.6666666666666666,
              "#ed7953"
             ],
             [
              0.7777777777777778,
              "#fb9f3a"
             ],
             [
              0.8888888888888888,
              "#fdca26"
             ],
             [
              1,
              "#f0f921"
             ]
            ],
            "type": "histogram2d"
           }
          ],
          "histogram2dcontour": [
           {
            "colorbar": {
             "outlinewidth": 0,
             "ticks": ""
            },
            "colorscale": [
             [
              0,
              "#0d0887"
             ],
             [
              0.1111111111111111,
              "#46039f"
             ],
             [
              0.2222222222222222,
              "#7201a8"
             ],
             [
              0.3333333333333333,
              "#9c179e"
             ],
             [
              0.4444444444444444,
              "#bd3786"
             ],
             [
              0.5555555555555556,
              "#d8576b"
             ],
             [
              0.6666666666666666,
              "#ed7953"
             ],
             [
              0.7777777777777778,
              "#fb9f3a"
             ],
             [
              0.8888888888888888,
              "#fdca26"
             ],
             [
              1,
              "#f0f921"
             ]
            ],
            "type": "histogram2dcontour"
           }
          ],
          "mesh3d": [
           {
            "colorbar": {
             "outlinewidth": 0,
             "ticks": ""
            },
            "type": "mesh3d"
           }
          ],
          "parcoords": [
           {
            "line": {
             "colorbar": {
              "outlinewidth": 0,
              "ticks": ""
             }
            },
            "type": "parcoords"
           }
          ],
          "pie": [
           {
            "automargin": true,
            "type": "pie"
           }
          ],
          "scatter": [
           {
            "marker": {
             "colorbar": {
              "outlinewidth": 0,
              "ticks": ""
             }
            },
            "type": "scatter"
           }
          ],
          "scatter3d": [
           {
            "line": {
             "colorbar": {
              "outlinewidth": 0,
              "ticks": ""
             }
            },
            "marker": {
             "colorbar": {
              "outlinewidth": 0,
              "ticks": ""
             }
            },
            "type": "scatter3d"
           }
          ],
          "scattercarpet": [
           {
            "marker": {
             "colorbar": {
              "outlinewidth": 0,
              "ticks": ""
             }
            },
            "type": "scattercarpet"
           }
          ],
          "scattergeo": [
           {
            "marker": {
             "colorbar": {
              "outlinewidth": 0,
              "ticks": ""
             }
            },
            "type": "scattergeo"
           }
          ],
          "scattergl": [
           {
            "marker": {
             "colorbar": {
              "outlinewidth": 0,
              "ticks": ""
             }
            },
            "type": "scattergl"
           }
          ],
          "scattermapbox": [
           {
            "marker": {
             "colorbar": {
              "outlinewidth": 0,
              "ticks": ""
             }
            },
            "type": "scattermapbox"
           }
          ],
          "scatterpolar": [
           {
            "marker": {
             "colorbar": {
              "outlinewidth": 0,
              "ticks": ""
             }
            },
            "type": "scatterpolar"
           }
          ],
          "scatterpolargl": [
           {
            "marker": {
             "colorbar": {
              "outlinewidth": 0,
              "ticks": ""
             }
            },
            "type": "scatterpolargl"
           }
          ],
          "scatterternary": [
           {
            "marker": {
             "colorbar": {
              "outlinewidth": 0,
              "ticks": ""
             }
            },
            "type": "scatterternary"
           }
          ],
          "surface": [
           {
            "colorbar": {
             "outlinewidth": 0,
             "ticks": ""
            },
            "colorscale": [
             [
              0,
              "#0d0887"
             ],
             [
              0.1111111111111111,
              "#46039f"
             ],
             [
              0.2222222222222222,
              "#7201a8"
             ],
             [
              0.3333333333333333,
              "#9c179e"
             ],
             [
              0.4444444444444444,
              "#bd3786"
             ],
             [
              0.5555555555555556,
              "#d8576b"
             ],
             [
              0.6666666666666666,
              "#ed7953"
             ],
             [
              0.7777777777777778,
              "#fb9f3a"
             ],
             [
              0.8888888888888888,
              "#fdca26"
             ],
             [
              1,
              "#f0f921"
             ]
            ],
            "type": "surface"
           }
          ],
          "table": [
           {
            "cells": {
             "fill": {
              "color": "#EBF0F8"
             },
             "line": {
              "color": "white"
             }
            },
            "header": {
             "fill": {
              "color": "#C8D4E3"
             },
             "line": {
              "color": "white"
             }
            },
            "type": "table"
           }
          ]
         },
         "layout": {
          "annotationdefaults": {
           "arrowcolor": "#2a3f5f",
           "arrowhead": 0,
           "arrowwidth": 1
          },
          "autotypenumbers": "strict",
          "coloraxis": {
           "colorbar": {
            "outlinewidth": 0,
            "ticks": ""
           }
          },
          "colorscale": {
           "diverging": [
            [
             0,
             "#8e0152"
            ],
            [
             0.1,
             "#c51b7d"
            ],
            [
             0.2,
             "#de77ae"
            ],
            [
             0.3,
             "#f1b6da"
            ],
            [
             0.4,
             "#fde0ef"
            ],
            [
             0.5,
             "#f7f7f7"
            ],
            [
             0.6,
             "#e6f5d0"
            ],
            [
             0.7,
             "#b8e186"
            ],
            [
             0.8,
             "#7fbc41"
            ],
            [
             0.9,
             "#4d9221"
            ],
            [
             1,
             "#276419"
            ]
           ],
           "sequential": [
            [
             0,
             "#0d0887"
            ],
            [
             0.1111111111111111,
             "#46039f"
            ],
            [
             0.2222222222222222,
             "#7201a8"
            ],
            [
             0.3333333333333333,
             "#9c179e"
            ],
            [
             0.4444444444444444,
             "#bd3786"
            ],
            [
             0.5555555555555556,
             "#d8576b"
            ],
            [
             0.6666666666666666,
             "#ed7953"
            ],
            [
             0.7777777777777778,
             "#fb9f3a"
            ],
            [
             0.8888888888888888,
             "#fdca26"
            ],
            [
             1,
             "#f0f921"
            ]
           ],
           "sequentialminus": [
            [
             0,
             "#0d0887"
            ],
            [
             0.1111111111111111,
             "#46039f"
            ],
            [
             0.2222222222222222,
             "#7201a8"
            ],
            [
             0.3333333333333333,
             "#9c179e"
            ],
            [
             0.4444444444444444,
             "#bd3786"
            ],
            [
             0.5555555555555556,
             "#d8576b"
            ],
            [
             0.6666666666666666,
             "#ed7953"
            ],
            [
             0.7777777777777778,
             "#fb9f3a"
            ],
            [
             0.8888888888888888,
             "#fdca26"
            ],
            [
             1,
             "#f0f921"
            ]
           ]
          },
          "colorway": [
           "#636efa",
           "#EF553B",
           "#00cc96",
           "#ab63fa",
           "#FFA15A",
           "#19d3f3",
           "#FF6692",
           "#B6E880",
           "#FF97FF",
           "#FECB52"
          ],
          "font": {
           "color": "#2a3f5f"
          },
          "geo": {
           "bgcolor": "white",
           "lakecolor": "white",
           "landcolor": "#E5ECF6",
           "showlakes": true,
           "showland": true,
           "subunitcolor": "white"
          },
          "hoverlabel": {
           "align": "left"
          },
          "hovermode": "closest",
          "mapbox": {
           "style": "light"
          },
          "paper_bgcolor": "white",
          "plot_bgcolor": "#E5ECF6",
          "polar": {
           "angularaxis": {
            "gridcolor": "white",
            "linecolor": "white",
            "ticks": ""
           },
           "bgcolor": "#E5ECF6",
           "radialaxis": {
            "gridcolor": "white",
            "linecolor": "white",
            "ticks": ""
           }
          },
          "scene": {
           "xaxis": {
            "backgroundcolor": "#E5ECF6",
            "gridcolor": "white",
            "gridwidth": 2,
            "linecolor": "white",
            "showbackground": true,
            "ticks": "",
            "zerolinecolor": "white"
           },
           "yaxis": {
            "backgroundcolor": "#E5ECF6",
            "gridcolor": "white",
            "gridwidth": 2,
            "linecolor": "white",
            "showbackground": true,
            "ticks": "",
            "zerolinecolor": "white"
           },
           "zaxis": {
            "backgroundcolor": "#E5ECF6",
            "gridcolor": "white",
            "gridwidth": 2,
            "linecolor": "white",
            "showbackground": true,
            "ticks": "",
            "zerolinecolor": "white"
           }
          },
          "shapedefaults": {
           "line": {
            "color": "#2a3f5f"
           }
          },
          "ternary": {
           "aaxis": {
            "gridcolor": "white",
            "linecolor": "white",
            "ticks": ""
           },
           "baxis": {
            "gridcolor": "white",
            "linecolor": "white",
            "ticks": ""
           },
           "bgcolor": "#E5ECF6",
           "caxis": {
            "gridcolor": "white",
            "linecolor": "white",
            "ticks": ""
           }
          },
          "title": {
           "x": 0.05
          },
          "xaxis": {
           "automargin": true,
           "gridcolor": "white",
           "linecolor": "white",
           "ticks": "",
           "title": {
            "standoff": 15
           },
           "zerolinecolor": "white",
           "zerolinewidth": 2
          },
          "yaxis": {
           "automargin": true,
           "gridcolor": "white",
           "linecolor": "white",
           "ticks": "",
           "title": {
            "standoff": 15
           },
           "zerolinecolor": "white",
           "zerolinewidth": 2
          }
         }
        },
        "width": 800
       }
      },
      "text/html": [
       "<div>                            <div id=\"326bfab0-578c-4804-85b2-6b80f5a4c14f\" class=\"plotly-graph-div\" style=\"height:525px; width:800px;\"></div>            <script type=\"text/javascript\">                require([\"plotly\"], function(Plotly) {                    window.PLOTLYENV=window.PLOTLYENV || {};                                    if (document.getElementById(\"326bfab0-578c-4804-85b2-6b80f5a4c14f\")) {                    Plotly.newPlot(                        \"326bfab0-578c-4804-85b2-6b80f5a4c14f\",                        [{\"customdata\":[[\"Scrypt\"],[\"Scrypt\"],[\"X13\"],[\"SHA-256\"],[\"Scrypt\"],[\"X11\"],[\"SHA-256\"],[\"Scrypt\"],[\"X15\"],[\"X11\"],[\"Scrypt\"],[\"Scrypt\"],[\"Scrypt\"],[\"Scrypt\"],[\"SHA-256\"],[\"Scrypt\"],[\"Scrypt\"],[\"Scrypt\"],[\"Quark\"],[\"Scrypt\"],[\"Scrypt\"],[\"Scrypt\"],[\"Scrypt\"],[\"Scrypt\"],[\"X11\"],[\"SHA-256\"],[\"Scrypt\"],[\"Scrypt\"],[\"Scrypt\"],[\"Scrypt\"],[\"Scrypt\"],[\"Scrypt\"],[\"Scrypt\"],[\"Scrypt\"],[\"Scrypt\"],[\"Scrypt\"],[\"Scrypt\"],[\"X11\"],[\"SHA-256\"],[\"Scrypt\"],[\"Scrypt\"],[\"Scrypt\"],[\"SHA3\"],[\"Scrypt\"],[\"Scrypt\"],[\"SHA-256\"],[\"X13\"],[\"Scrypt\"],[\"SHA-256\"],[\"Scrypt\"],[\"X13\"],[\"NeoScrypt\"],[\"Scrypt\"],[\"Scrypt\"],[\"Scrypt\"],[\"Scrypt\"],[\"Scrypt\"],[\"Scrypt\"],[\"X11\"],[\"SHA-256\"],[\"SHA-256\"],[\"X11\"],[\"SHA-256\"],[\"SHA-256\"],[\"SHA-256\"],[\"X11\"],[\"Scrypt\"],[\"Scrypt\"],[\"Scrypt\"],[\"Scrypt\"],[\"Scrypt\"],[\"X11\"],[\"SHA-256\"],[\"X13\"],[\"Scrypt\"],[\"Scrypt\"],[\"SHA-256\"],[\"Scrypt\"],[\"Scrypt\"],[\"X13\"],[\"Scrypt\"],[\"Scrypt\"],[\"Scrypt\"],[\"X13\"],[\"Scrypt\"],[\"Stanford Folding\"],[\"QuBit\"],[\"Scrypt\"],[\"Scrypt\"],[\"Scrypt\"],[\"Scrypt\"],[\"SHA-256\"],[\"Scrypt\"],[\"X11\"],[\"SHA3\"],[\"X11\"],[\"SHA-256\"],[\"QUAIT\"],[\"X11\"],[\"Scrypt\"],[\"Scrypt\"],[\"X13\"],[\"SHA-256\"],[\"X15\"],[\"X11\"],[\"SHA-256\"],[\"Scrypt\"],[\"SHA-256\"],[\"X11\"],[\"Scrypt\"],[\"SHA-256\"],[\"SHA-256\"],[\"NIST5\"],[\"Scrypt\"],[\"X11\"],[\"Scrypt\"],[\"X11GOST\"],[\"X11\"],[\"SHA-256\"],[\"Scrypt\"],[\"X11\"],[\"X11\"],[\"SHA-256\"],[\"SHA-256\"],[\"NIST5\"],[\"X11\"],[\"Scrypt\"],[\"Scrypt\"],[\"Scrypt\"],[\"Scrypt\"],[\"X11\"],[\"X11\"],[\"Scrypt\"],[\"SHA-256\"],[\"SHA-256\"],[\"X11\"],[\"Scrypt\"],[\"Scrypt\"],[\"Scrypt\"],[\"SHA-256\"],[\"Scrypt\"],[\"Scrypt\"],[\"SHA-256D\"],[\"Scrypt\"],[\"X11\"],[\"X14\"],[\"SHA-256D\"],[\"X11\"],[\"Scrypt\"],[\"X11\"],[\"X13\"],[\"X11\"],[\"Scrypt\"],[\"Scrypt\"],[\"X11\"],[\"X11\"],[\"SHA-256\"],[\"Scrypt\"],[\"X11\"],[\"Scrypt\"],[\"Scrypt\"],[\"X11\"],[\"Scrypt\"],[\"Scrypt\"],[\"Scrypt\"],[\"QuBit\"],[\"Scrypt\"],[\"Scrypt\"],[\"SHA-256\"],[\"X11\"],[\"Scrypt\"],[\"X11\"],[\"Scrypt\"],[\"Scrypt\"],[\"Scrypt\"],[\"X11\"],[\"Scrypt\"],[\"Scrypt\"],[\"X11\"],[\"X11\"],[\"Scrypt\"],[\"X11\"],[\"X11\"],[\"Scrypt\"],[\"Scrypt\"],[\"Scrypt\"],[\"X11\"],[\"Scrypt\"],[\"SHA-256\"],[\"Scrypt\"],[\"X15\"],[\"Scrypt\"],[\"NIST5\"],[\"X11\"],[\"NIST5\"],[\"Skein\"],[\"Scrypt\"],[\"X13\"],[\"Scrypt\"],[\"X11\"],[\"X11\"],[\"Scrypt\"],[\"X13\"],[\"Time Travel\"],[\"Scrypt\"],[\"X11\"],[\"Skein\"],[\"SHA-256\"],[\"X11\"],[\"VeChainThor Authority\"],[\"Scrypt\"],[\"Scrypt\"],[\"Scrypt\"],[\"Scrypt\"],[\"Scrypt\"],[\"Scrypt\"],[\"Scrypt\"],[\"Scrypt\"],[\"X11\"],[\"NeoScrypt\"],[\"X11\"],[\"Scrypt\"],[\"Scrypt\"],[\"SHA-256\"],[\"NIST5\"],[\"PHI1612\"],[\"Scrypt\"],[\"Quark\"],[\"Scrypt\"],[\"Scrypt\"],[\"X11\"],[\"X11\"],[\"NIST5\"],[\"X13\"],[\"Scrypt\"],[\"X11\"],[\"Scrypt\"],[\"Scrypt\"],[\"Scrypt\"],[\"X11\"],[\"X11\"],[\"Scrypt\"],[\"Scrypt\"],[\"Scrypt\"],[\"X11\"],[\"SHA-256\"],[\"Scrypt\"],[\"SkunkHash\"],[\"Scrypt\"],[\"Scrypt\"],[\"SHA-256 + Hive\"],[\"Scrypt\"],[\"Scrypt\"],[\"X11\"],[\"X11\"],[\"XEVAN\"],[\"Scrypt\"],[\"NIST5\"],[\"Scrypt\"],[\"Scrypt\"],[\"Scrypt\"],[\"X11\"],[\"Quark\"],[\"Scrypt\"],[\"Tribus\"],[\"Scrypt\"],[\"SHA-256D\"],[\"Scrypt\"],[\"X16R\"],[\"X11\"],[\"X16R\"],[\"Quark\"],[\"Scrypt\"],[\"Scrypt\"],[\"XEVAN\"],[\"X11\"],[\"SHA-256\"],[\"X11\"],[\"Scrypt\"],[\"SHA-512\"],[\"X16R\"],[\"SHA-256\"],[\"XEVAN\"],[\"Quark\"],[\"Scrypt\"],[\"Scrypt\"],[\"Quark\"],[\"Scrypt\"],[\"QuBit\"],[\"Scrypt\"],[\"XEVAN\"],[\"SHA-256D\"],[\"X11\"],[\"SHA-256\"],[\"X13\"],[\"SHA-256\"],[\"X11\"],[\"Scrypt\"],[\"Scrypt\"],[\"X11\"],[\"Scrypt\"],[\"Scrypt\"],[\"Scrypt\"],[\"X11\"],[\"Scrypt\"],[\"Scrypt\"],[\"SHA-256\"],[\"X11\"],[\"SHA-256\"],[\"Scrypt\"],[\"Scrypt\"],[\"Scrypt\"],[\"X11\"],[\"Scrypt\"],[\"Scrypt\"],[\"Scrypt\"],[\"X11\"],[\"SHA-256\"],[\"Scrypt\"],[\"NeoScrypt\"],[\"X13\"],[\"Scrypt\"]],\"hovertemplate\":\"<b>%{hovertext}</b><br><br>Class=%{marker.color}<br>PC 1=%{x}<br>PC 2=%{y}<br>PC 3=%{z}<br>Algorithm=%{customdata[0]}<extra></extra>\",\"hovertext\":[\"42 Coin\",\"404Coin\",\"EliteCoin\",\"Bitcoin\",\"Litecoin\",\"Dash\",\"BitcoinDark\",\"ProsperCoin\",\"KoboCoin\",\"Spreadcoin\",\"Argentum\",\"Aurora Coin\",\"BlueCoin\",\"MoonCoin\",\"ZetaCoin\",\"SexCoin\",\"Quatloo\",\"EnergyCoin\",\"QuarkCoin\",\"Digitalcoin \",\"BitBar\",\"Catcoin\",\"CryptoBullion\",\"CannaCoin\",\"CryptCoin\",\"DevCoin\",\"EarthCoin\",\"E-Gulden\",\"Einsteinium\",\"Emerald\",\"FlutterCoin\",\"Franko\",\"GrandCoin\",\"GlobalCoin\",\"GoldCoin\",\"HoboNickels\",\"Infinite Coin\",\"IOCoin\",\"IXcoin\",\"KrugerCoin\",\"LuckyCoin\",\"Litebar \",\"MaxCoin\",\"MegaCoin\",\"MinCoin\",\"MazaCoin\",\"NavCoin\",\"NobleCoin\",\"Namecoin\",\"NyanCoin\",\"OpalCoin\",\"Orbitcoin\",\"PotCoin\",\"PhoenixCoin\",\"Reddcoin\",\"RonPaulCoin\",\"StableCoin\",\"SmartCoin\",\"SyncCoin\",\"SysCoin\",\"TigerCoin\",\"TorCoin\",\"TerraCoin\",\"UnbreakableCoin\",\"Unobtanium\",\"UroCoin\",\"UnitaryStatus Dollar\",\"UltraCoin\",\"ViaCoin\",\"VeriCoin\",\"WorldCoin\",\"X11 Coin\",\"JouleCoin\",\"StealthCoin\",\"ZCC Coin\",\"MonaCoin\",\"Neutron\",\"Gulden\",\"PesetaCoin\",\"Kore\",\"Wild Beast Coin\",\"Flo\",\"8BIT Coin\",\"Sativa Coin\",\"ArtByte\",\"Folding Coin\",\"CypherPunkCoin\",\"OmniCron\",\"Vtorrent\",\"GreenCoin\",\"MasterCoin\",\"SoonCoin\",\"1Credit\",\"IslaCoin\",\"Nexus\",\"MarsCoin \",\"Anarchists Prime\",\"Droidz\",\"BowsCoin\",\"Song Coin\",\"BitZeny\",\"Paycon\",\"Emercoin\",\"EverGreenCoin\",\"MindCoin\",\"I0coin\",\"Revolution VR\",\"EDRCoin\",\"Hitcoin\",\"Gamecredits\",\"DubaiCoin\",\"CarpeDiemCoin\",\"PWR Coin\",\"BillaryCoin\",\"Adzcoin\",\"YoCoin\",\"SibCoin\",\"EuropeCoin\",\"SwingCoin\",\"Francs\",\"BolivarCoin\",\"Ratecoin\",\"Revenu\",\"Clockcoin\",\"VIP Tokens\",\"BitSend\",\"Omni\",\"PutinCoin\",\"iBankCoin\",\"Frankywillcoin\",\"PizzaCoin\",\"GoldBlocks\",\"CarterCoin\",\"BitTokens\",\"ZayedCoin\",\"MustangCoin\",\"ZoneCoin\",\"RootCoin\",\"DopeCoin\",\"DollarCoin\",\"Swiscoin\",\"Shilling\",\"BuzzCoin\",\"PesoBit\",\"Halloween Coin\",\"GanjaCoin V2\",\"LanaCoin\",\"InsaneCoin\",\"KiloCoin\",\"ArtexCoin\",\"EmberCoin\",\"XenixCoin\",\"PLNCoin\",\"AquariusCoin\",\"Kurrent\",\"Eternity\",\"Eurocoin\",\"BitcoinFast\",\"Stakenet\",\"BitConnect Coin\",\"MoneyCoin\",\"Enigma\",\"Russiacoin\",\"GameUnits\",\"GAKHcoin\",\"LiteCreed\",\"OsmiumCoin\",\"Klingon Empire Darsek\",\"Internet of People\",\"KushCoin\",\"Printerium\",\"PacCoin\",\"Impeach\",\"FirstCoin\",\"BeaverCoin\",\"VaultCoin\",\"OpenChat\",\"Canada eCoin\",\"VirtacoinPlus\",\"Impact\",\"EB3coin\",\"HappyCoin\",\"Condensate\",\"Independent Money System\",\"ArgusCoin\",\"LomoCoin\",\"GoldReserve\",\"BenjiRolls\",\"ILCoin\",\"Degas Coin\",\"HTML5 Coin\",\"EquiTrader\",\"Denarius\",\"DigitalPrice\",\"Virta Unique Coin\",\"Bitcoin Planet\",\"Unify\",\"BritCoin\",\"SocialCoin\",\"ArcticCoin\",\"DAS\",\"Linda\",\"DeepOnion\",\"Bitcore\",\"gCn Coin\",\"Onix\",\"Cream\",\"Bitcoin Cash\",\"Monoeci\",\"Vechain\",\"Sojourn Coin\",\"NewYorkCoin\",\"FrazCoin\",\"Kronecoin\",\"AdCoin\",\"Linx\",\"CoinonatX\",\"Ethereum Dark\",\"Regalcoin\",\"TrezarCoin\",\"Elements\",\"TerraNovaCoin\",\"WomenCoin\",\"Theresa May Coin\",\"NamoCoin\",\"LUXCoin\",\"Xios\",\"Bitcloud 2.0\",\"eBoost\",\"BlackholeCoin\",\"Pura\",\"Magnet\",\"Electra\",\"Bitcoin Diamond\",\"Cash & Back Coin\",\"AC3\",\"GermanCoin\",\"LiteCoin Ultra\",\"PopularCoin\",\"PhantomX\",\"Sucre\",\"IrishCoin\",\"Trollcoin\",\"Litecoin Plus\",\"Pioneer Coin\",\"UnitedBitcoin\",\"My Big Coin\",\"MUNcoin\",\"Unified Society USDEX\",\"ShareChain\",\"LitecoinCash\",\"BitFlip\",\"LottoCoin\",\"Crypto Improvement Fund\",\"Pushi\",\"Ellerium\",\"Poseidon\",\"Bitspace\",\"Briacoin\",\"Ignition\",\"Abjcoin\",\"FuturoCoin\",\"Carebit\",\"iDealCash\",\"KEYCO\",\"Swisscoin\",\"TheVig\",\"EmaratCoin\",\"Motion\",\"Axe\",\"Trivechain\",\"Giant\",\"HexCoin\",\"TPCash\",\"Urals Coin\",\"EUNO\",\"Project Pai\",\"Azart\",\"ThunderStake\",\"Kcash\",\"Xchange\",\"Bitcoin SV\",\"BitMoney\",\"HerbCoin\",\"Block-Logic\",\"Oduwa\",\"Galilel\",\"Credit\",\"SLICE\",\"Nasdacoin\",\"Beetle Coin\",\"Titan Coin\",\"Award\",\"BLAST\",\"Bitcoin Rhodium\",\"GlobalToken\",\"Insane Coin\",\"LiteDoge\",\"SolarCoin\",\"TruckCoin\",\"OrangeCoin\",\"BitstarCoin\",\"HyperCoin\",\"PinkCoin\",\"Crypto Escudo\",\"AudioCoin\",\"IncaKoin\",\"Piggy Coin\",\"Crown Coin\",\"Genstake\",\"SmileyCoin\",\"XiaoMiCoin\",\"CapriCoin\",\" ClubCoin\",\"Bata\",\"Pakcoin\",\"Creditbit \",\"OKCash\",\"WhiteCoin\",\"FriendshipCoin\",\"Triangles Coin\",\"Gapcoin\"],\"legendgroup\":\"0\",\"marker\":{\"color\":[0,0,0,0,0,0,0,0,0,0,0,0,0,0,0,0,0,0,0,0,0,0,0,0,0,0,0,0,0,0,0,0,0,0,0,0,0,0,0,0,0,0,0,0,0,0,0,0,0,0,0,0,0,0,0,0,0,0,0,0,0,0,0,0,0,0,0,0,0,0,0,0,0,0,0,0,0,0,0,0,0,0,0,0,0,0,0,0,0,0,0,0,0,0,0,0,0,0,0,0,0,0,0,0,0,0,0,0,0,0,0,0,0,0,0,0,0,0,0,0,0,0,0,0,0,0,0,0,0,0,0,0,0,0,0,0,0,0,0,0,0,0,0,0,0,0,0,0,0,0,0,0,0,0,0,0,0,0,0,0,0,0,0,0,0,0,0,0,0,0,0,0,0,0,0,0,0,0,0,0,0,0,0,0,0,0,0,0,0,0,0,0,0,0,0,0,0,0,0,0,0,0,0,0,0,0,0,0,0,0,0,0,0,0,0,0,0,0,0,0,0,0,0,0,0,0,0,0,0,0,0,0,0,0,0,0,0,0,0,0,0,0,0,0,0,0,0,0,0,0,0,0,0,0,0,0,0,0,0,0,0,0,0,0,0,0,0,0,0,0,0,0,0,0,0,0,0,0,0,0,0,0,0,0,0,0,0,0,0,0,0,0,0,0,0,0,0,0,0,0,0,0,0,0,0,0,0,0,0,0,0,0,0,0,0,0,0,0,0,0,0,0],\"coloraxis\":\"coloraxis\",\"symbol\":\"circle\"},\"mode\":\"markers\",\"name\":\"0\",\"scene\":\"scene\",\"showlegend\":true,\"x\":[-0.4178746258673079,-0.396563831233633,3.1240759697955074,-0.19208254817717063,-0.21795407555531673,-0.48277085559300625,-0.3904431730842162,-0.2194557232665209,-0.5009573101629048,-0.28463958016337093,-0.21892381466177022,-0.4174312780703996,-0.408280167015926,3.662279862436139,-0.18827902396168725,-0.21528083412977947,-0.21863307532770793,-0.4160164640337737,-0.1807114467482545,-0.21876322107361595,-0.4178689292724746,-0.21943380440959526,-0.4178488275196813,-0.2195512558315979,-0.284752701317254,0.30320547245834983,0.10605310008576001,-0.2192270870261084,-0.2134195641009977,-0.2191372286746555,-0.08070213687288301,-0.2196242769993754,-0.19204382877187778,-0.21805584440298756,-0.21839573740368526,-0.4153136222466277,2.0640955064590227,-0.48264070531902287,-0.1920348015443129,-0.2147851025453946,-0.21926111620371158,-0.21972479692167177,-0.4104979743707977,-0.21875445323368134,-0.21956638540567328,-0.3418604167632691,-0.49300759470218625,-0.03238716891794496,-0.19213072666529454,-0.21129435246952433,-0.49377661340794926,-0.33078121423690043,-0.4102663795896604,-0.41576716552911747,0.024770092523511613,-0.21952614873356316,-0.21686212056962628,-0.2188510671994044,-0.4831296022431715,-0.17508233815169544,-0.19143289350400466,-0.4830069155071611,-0.19179462872773811,-0.19172237909472445,-0.19255997387119284,-0.28499189318766893,-0.3851060596907513,-0.4161051634911827,-0.2191730394069872,-0.15323178721983566,-0.21526587515103987,-0.48296907533525973,-0.19151878042925172,-0.4935057717040218,-0.4055306109414005,-0.2176627201924913,-0.3894068881363544,-0.1965045149797265,-0.21599662476126819,-0.4938536125815671,-0.21972580500113045,-0.21583842359249727,-0.4178524635456452,-0.493797212061729,-0.19767889097738642,-0.23141045775764835,-0.1815935896138937,-0.21956792948129109,-0.4174972143555632,-0.04904751444571542,-0.2197395032526325,-0.1921650591653067,0.7103170932009989,-0.483106774244621,-0.6088064991868205,-0.2841899869314114,-0.19179937748350084,-0.37419076612893337,-0.28455829100594526,-0.2171379919505527,-0.21608602653445005,-0.4931520633571679,-0.3799254031462896,-0.5044111371061601,-0.28460878009084944,-0.1920361887497773,-0.21446127739088708,-0.3904072242058372,-0.048686533366080614,-0.21785144773611897,-0.3905014483141528,0.354323098299305,-0.1733883468084813,-0.4173141545721906,-0.2834797929926463,-0.21804356762993482,-0.2899447477978686,-0.47909045259265365,-0.390214572721598,-0.2194537155749269,-0.2845512189085269,-0.48033973393619306,-0.38841535982613856,-0.3851259755418439,-0.32326014394172986,-0.48135617662220603,-0.21973957963521198,-0.3853785647032858,-0.4173580962480513,-0.41535374971584993,-0.2847365804879836,-0.48238915313867176,-0.4163130058840488,-0.3904637529073739,-0.1923728314536146,-0.4830893718738126,-0.4176233421829395,-0.41784533594844336,-0.21596894446026488,-0.19232048229199064,-0.5085708944096974,-0.2192839433461433,0.09623944654194001,-0.41736845354007707,-0.4639689699462832,-0.49692250371390895,-0.3093393188311506,-0.48254938239514555,-0.11569649544554943,-0.26751356153347555,0.9066352241173469,-0.48303249248796204,-0.41722696700282214,-0.41741304243108474,-0.2817785983715108,-0.4824314171916092,-0.39029537158974936,-0.4172353438371642,-0.9434937444408611,-0.41742425065745564,-0.4111320032674427,-0.48306678182731994,-0.4162923637402204,-0.41769076423375967,-0.41779103995683353,-0.37855580856497306,-0.21971418037791451,-0.4124580333929703,-0.39043460144015524,-0.48294961774198386,-0.41749393771556387,0.7340445434663028,-0.4176482393507247,-0.48114149779273324,-0.21967411349244403,-0.2744418560687455,-0.3926658548238366,-0.2172366067478903,-0.4819199351386416,-0.4803471467742176,-0.17834944924771562,-0.48179372648828017,-0.4762378331919838,-0.41757911653061586,-0.4175681573002737,-0.4077576111776542,-0.4824659755293261,-0.21908987222722323,-0.1473947968855738,-0.41649063047249146,1.0188936356475595,-0.21882077902560654,-0.32526595942736325,-0.28346860198497137,-0.32326652147902757,-0.43307468997212467,-0.2192864427161424,-0.49338104657877696,-0.21891887975910124,-0.2840103331362617,-0.28477945006326566,0.22417085796730912,-0.49348348164161954,-0.26277736040043326,4.264156912675375,-0.2720404128834189,-0.43246275374668286,-0.19208151516348163,-0.48284372954937627,0.9060555562696878,-0.1135983991358237,1.9395463479137562,-0.21940640591078744,-0.2186423848771206,-0.21825122994037208,-0.21823507677925433,-0.4170917907495784,-0.4177687500832442,-0.48274701730915803,-0.3240664564664482,-0.2260018389227749,-0.41769834702396075,0.5665664289713833,-0.3882841924531397,-0.30483456415215865,-0.3410118104523466,-0.41762986934113877,-0.38276150900837946,-0.21723439329264294,-0.4174780622774483,-0.2788261717251194,-0.48109709473434853,0.40666140312513877,-0.4891112397064167,-0.4140759637061715,-0.278237197391525,0.16175892336513314,-0.4162310798797219,-0.10935110133605741,-0.48194205753731784,-0.2847460997254306,-0.218421351222145,-0.3998520741111549,-0.41779637305774975,-0.2846495915188265,-0.19205717476812348,-0.3513895835962063,-0.24126621655314162,-0.41198321516033304,0.0323326014900129,-0.2459122058939329,-0.21916281341600677,0.18513388017106375,-0.27676494198085855,-0.48284416078738257,-0.5151442329907557,-0.21948136336559815,-0.3247163787206336,-0.4178315299836708,-0.417806229898153,-0.4174221542143984,-0.2835189961273391,-0.3811152611788425,-0.34489263050600666,-0.26850239084380956,-0.16074515148325647,-0.400048056009782,-0.4166992967347939,-0.3118538389336193,-0.28472243264439934,-0.5089271996035123,-0.3851056712795793,-0.219510256496386,-0.40768356716317145,-0.31529197977196594,-0.4821595341724627,-0.13962711345163953,-0.28468164975067145,-0.21989966619492768,-0.9101087073406735,-0.31104148587673175,-0.19208156159384734,-0.06910540339288514,-0.3841680246593833,-0.21800920885893338,-0.4174391973977379,-0.38477889254630654,0.8037602651790129,-0.18048358392541541,-0.4167151934572986,-0.5076985707578643,-0.33747911408111825,-0.4786508195244457,-0.1911289283947168,-0.2958470561138365,-0.18958954547322165,-0.4824673456411693,0.16726125013366308,0.7728224985196059,-0.47946692948041525,-0.41579932519674834,-0.4170154351773471,-0.41772920249016493,-0.47148626017344814,-0.19786501332784487,-0.2969168523582968,-0.11788684556419714,-0.46555747297172434,-0.1917938506139118,-0.41681702657423314,0.732415892927757,-0.4077259423000469,-0.4779863995779888,-0.4146924939335598,-0.2196282821139299,-0.21686300978640352,-0.8789466012946731,-0.3884959915639872,-0.41103667796828364,-0.33024277113687284,-0.4940021252086203,-0.4151218119673284],\"y\":[0.8102956393790157,0.8151352783213031,2.2097803705211065,0.01626568816444649,0.23582418468471328,1.3366086693013608,0.5910839678621309,0.2354872797164474,1.5127909817174048,0.7617375423991782,0.23560327988577878,0.8103954030119679,0.8125131647424388,1.0707053858064983,0.017120773686626883,0.2364152571549319,0.23566466902263208,0.8107251082121679,-0.02625226805893704,0.2356429518092446,0.8102968753457673,0.23549234572608632,0.8103014407069671,0.2354664678103107,0.7617117198775017,0.127354730387191,0.3085460343280932,0.23554012341179456,0.23683741093934313,0.2355591172597784,-0.14621626572764268,0.23544989796493104,0.24159706063392689,0.23580292203037526,0.23572400172890223,0.8108681923797398,0.7486606459030517,1.336638750365567,0.01627672363509644,0.23652734546608997,0.23553241973484695,0.23542826019373278,0.7668747920142815,0.23564597309312443,0.23546347757990327,0.601925928141847,1.4244655395226105,0.2763069324911648,0.01625455288097563,0.2373225988209339,1.4242877995889485,0.10867020232536945,0.8119863380638809,0.8107669163427667,0.9126021792565782,0.23547100258593498,0.23604978132864518,0.235622158817887,1.3365293030345171,0.020054992215138918,0.016411643286650696,1.3365560458631365,0.016328845626686975,0.016339413517106494,0.016158690617286517,0.7616593405931108,0.8176111538019059,0.8106884736740891,0.2355522925254706,0.043908494947055766,0.23641622659421677,1.336565517718647,0.01639211722414949,1.4243503980486842,0.8129873194251714,0.23588811691402092,0.591316058317452,0.24052423214120108,0.23626330972579057,1.4242680670479542,0.235427821010512,0.2363009043765021,0.8103007616663718,1.424281425330094,0.2403625137237222,0.5032241647673685,-0.07152595013370602,0.23546419016100925,0.8103796420956088,0.2732629906180329,0.23542497904481363,0.016246617760244667,0.4355418823513907,1.3365345793314258,1.3417088241569843,0.7618393575220309,0.016325850730281304,0.45951410839383977,0.761756169068786,0.23599243518847518,0.23622915655228252,1.4244240822035548,0.5933571053166068,1.5120449392836457,0.7617453064381768,0.01627640301635808,0.23661113125139732,0.5910922765693319,1.4326567024341699,0.23584790460418903,0.5910723543521383,0.13906828102969757,0.09993868959447588,0.8104184024631589,0.7619952732960932,0.2357898916855739,0.8056203836127028,1.3374009003389105,0.5911338991775981,0.23548790508363418,0.7617571582589643,1.3371620129038553,0.5915202628708465,0.5922317553848949,0.065284955466851,1.3369167613018127,0.23542496187969658,0.8174836356288744,0.8104078699598493,0.8108621446570956,0.761714316446939,1.3366923730523905,0.8106420493518794,0.5910793726757168,0.01620041357248,1.3365381174507607,0.8103503293837131,0.8103024090367728,0.23626428413056913,0.016212367230360215,1.2026097024268738,0.23552553041514604,0.7905648744518152,0.8104126287843447,1.340715809126701,1.4686542166704415,0.6988409858350462,1.3366585667283775,0.25785870282534196,0.7656183619264019,1.7478217318023423,1.336551126060503,0.8104391119753216,0.8103955469443684,0.762365230275633,1.3366809913644837,0.5911184512522105,0.8104380696878271,2.678332561112319,0.8103952151707771,0.8117490560028041,1.3365430159131115,0.8106381080175918,0.8103360371252708,0.8103144232686682,0.5036029792319476,0.23543049383766063,0.8114668836395302,0.5910861103269739,1.3365693930697482,0.8103803994110962,0.9810509600707256,0.8103444244278306,1.002543518366467,0.23543965014351484,0.7639363863797548,0.815960694301199,0.23598742870438957,1.3367927544487441,1.3371546527699847,0.24434602854108256,1.3368219245027033,1.3380414985668343,0.8103605168422947,0.8103618578542227,0.8124726025902105,1.3366762308108728,0.23556949457357598,0.026194215484026454,0.8105985756837829,1.8496035210359405,0.23562580335660718,0.06483426715296504,0.7619952784136024,0.06527864130851516,0.9420953215085811,0.2355266828084653,1.4243743850759618,0.23560264574807105,0.7618765239874032,0.7617053923523199,0.9506218969969078,1.4243525008538471,0.5863517132651453,1.2395008276802337,0.7644752876313926,0.9422367556548511,0.016265926920387256,1.336593841816619,2.6329470018590038,0.25826295755888434,0.7344913839670254,0.23549883955961334,0.23566509875835098,0.23575292327874517,0.235756656688302,0.8104687877555565,0.8103194323727564,1.3366133722487579,0.1101582279174103,0.7750030453507943,0.8103338435570743,1.0337917444180664,0.5915703792433133,0.0693644938211285,0.19651587083941524,0.810348820790155,0.5477210323358882,0.2359879402906304,0.8103849094819202,0.7630279284870071,1.3369758350756384,0.2291629080872751,1.4253322060077946,0.8111397265529223,0.7631317879115117,0.9361968992266808,0.8106513042593226,0.26013197704389723,1.3367957083053952,0.7617129552658174,0.2357194120653437,0.8143159086535364,0.8103130802629822,0.7617347445037304,0.016271687165683404,0.6187689747090851,0.4108856127148416,0.8116198649408138,0.2920720212689235,0.25569000723430774,0.23555191326468733,0.32603194623418663,0.7634801307823801,1.3365912425774509,1.599778101871527,0.23548135363236794,0.06495483581261866,0.8103051159344928,0.810310640756324,0.8103953770361014,0.7619836310356463,0.5481015224043614,0.8263372827283634,0.6301386427894129,0.8680792017742573,0.6790707424225425,0.810553735664431,0.9809955286960144,0.7617182317290161,1.556101733230687,0.5472106729386175,0.2354744973681384,0.8124897160597834,1.025280213640476,1.3367454438808577,0.028054061499566095,0.7617270123482646,0.8531486392709708,2.2612528699615817,0.9811707121426192,0.01626591618913969,2.519138001646246,0.5474195058956787,0.23580563378991878,0.8103928899633982,0.5472839596988128,1.0805786771281762,-0.07128553318849398,0.8105500615244103,1.60142799644567,0.6927414714296443,1.3374967026340283,0.01647915659584695,0.8493693889687777,0.01681816827219974,1.3366775275249092,0.9398887009749761,0.4490043205792654,1.3373758407494918,0.8107430269228795,0.8104854667916206,0.8103292504556042,1.3391397088792423,0.2403194960780192,0.8365580300177877,0.65405161624033,1.3404293344625702,0.016329025468736116,0.8105376576168043,0.44742568578840397,0.812576724999598,1.3376844708118614,0.8110052975250587,0.23544997835514783,0.2360605468054639,2.4863725180163794,0.5915206203491613,0.8118276629490352,0.10878555115144622,1.4242356586711242,0.8108915506855712],\"z\":[0.3721377359146006,0.3732558332587574,0.5043352582499495,-0.07291010078361874,-0.2737891740434593,-0.11025277404054445,0.573202608664699,-0.27392554435557037,-0.27033921138873673,-0.7563668509688397,-0.27383055390357935,0.3721738638993669,0.37210052170926977,0.5776818911336021,-0.07258901300892462,-0.27342487084478484,-0.2737504274447051,0.3721305285514283,-0.03221978723444467,-0.2738669150838594,0.3721388422542621,-0.27392562937243026,0.3721398928153091,-0.2739429143024469,-0.7563709263243997,-0.027480321609627763,-0.24476518948306572,-0.2739264311689336,-0.27331970561469526,-0.27390195204572965,-0.7047385068912849,-0.27394692893850114,-0.2708728645417857,-0.27382037814865556,-0.2738139911235883,0.3723986496063892,-0.07834055653992192,-0.110253278855538,-0.07291028597889662,-0.2733919879757291,-0.2739285562394472,-0.27396885192191406,0.4125591531443274,-0.2738808661223534,-0.273949942786943,0.5784247940097575,-0.19071137048433107,-0.24084263034573702,-0.07290991391330016,-0.2732439690449087,-0.19070838768482526,1.0153976066235575,0.37305619075633933,0.37235075345350394,0.37042084592191055,-0.27392527119570215,-0.2734187374953932,-0.27385972643496204,-0.11030103562488781,-0.07101916881689549,-0.07285391003807336,-0.11027894315026174,-0.07286381928391863,-0.07277833124759314,-0.0729550829788641,-0.7564106256448448,0.3756219317451423,0.37235657856868093,-0.27392212668434335,-0.4893434957368081,-0.273390123198865,-0.11028924669026927,-0.07285811803976296,-0.19070943820088518,0.3743469167613412,-0.27374263502349266,0.5733024139671424,-0.2702701032323086,-0.2736108162978325,-0.19068100431011684,-0.27396596348946994,-0.27362584349782293,0.37213764985861547,-0.1906857371908587,-0.2718003488196886,-0.5130154532713788,0.007450463803892589,-0.27396489808656943,0.37218141314608927,-0.25206330861443427,-0.2739704437121649,-0.0729097807475354,-0.06992976080826342,-0.1103011264251031,1.0586197481366546,-0.7563392530328702,-0.07283725784187757,0.6937743054063711,-0.7563649092060187,-0.27350740816749486,-0.2734217477380403,-0.19059795714355943,0.5753692177633289,-0.2710564297648798,-0.7563759986724634,-0.07291028059833078,-0.2735183320577568,0.5732024692294736,-0.052061178838481346,-0.27378957210686933,0.573176878509879,-0.02626504058872867,1.0550029396605083,0.37223035842566204,-0.7562268976195143,-0.2735984410032391,-0.7965615687587196,-0.10944999361149779,0.5732423490665172,-0.27392780920260007,-0.7563559083975082,-0.11014257948485599,0.573647791692015,0.5743172858734371,1.0557873840764802,-0.10999418517396191,-0.2739704502547902,0.37652581262429147,0.3722357953346856,0.3723536640535712,-0.7563551894339464,-0.11019105687934354,0.37233481413097796,0.5732004314280581,-0.07293439838071428,-0.11029442274449221,0.3721841594189633,0.37213762221274255,-0.2735350548542441,-0.07293256488733578,0.809713785080637,-0.2739058971018223,0.5359578023860644,0.37213577252482033,-0.10698976672366796,-0.23069480294357225,0.5093312193725588,-0.11023557659232075,-0.25180479663534744,-0.7553498891115114,-0.19422167637979648,-0.11029271735351122,0.3722222108236473,0.37223074198285566,-0.75590847944963,-0.11016832235160628,0.573197521266206,0.37220973920377154,1.3974530739777213,0.37219918661939433,0.3735801612900807,-0.11028999624514293,0.3724566152941821,0.3721663644512228,0.3721448955483978,0.6537334279422438,-0.27396581382533647,0.3732452563252231,0.5732003183580101,-0.11028062345221638,0.3721814004369572,-0.5346571931858848,0.37218636257619797,0.5877450959311888,-0.2739645118180136,-0.754194486386071,0.37429701812051386,-0.2737558439394645,-0.11008002385030888,-0.11006355364035182,-0.2651041427555162,-0.11008051337689281,-0.10919923915667704,0.37218446665032034,0.37220109902720194,0.37435555464642006,-0.11021332950546278,-0.27389418997434595,-0.06748818035894075,0.3723693589816904,-0.0738888612109047,-0.2738128970705605,1.0556145992680337,-0.7561908280697087,1.0558551206064593,0.2517494287320596,-0.27393009031091653,-0.1906422101799373,-0.27380574538706,-0.7562790092435662,-0.7563687912200063,0.48250041739826044,-0.19066687031836618,-0.5955520981756044,0.1600483860768791,-0.7539780949066253,0.251747055209729,-0.0729101047903779,-0.11028068821985557,1.1958190893024898,-0.2506844046501516,-0.2823470826187815,-0.2739279927030036,-0.2737865042921392,-0.2737519085117118,-0.2737519711651175,0.37224360707891824,0.37214680480955664,-0.11024158120340732,1.016265876830747,-0.7525767232763588,0.3721725631586338,0.4247458702604441,0.5733702852706132,1.0582212529754678,0.9351155561397871,0.37218418473590825,0.6137988935970544,-0.2737558525248125,0.37216957568811826,-0.7556445697593623,-0.10998390477822638,1.12046488904828,-0.1902525007565648,0.37259698446961326,-0.7551954422634044,0.4827424951088362,0.3724699199506164,-0.2631147074676219,-0.11019279103291985,-0.7563668892224484,-0.27383250281286875,0.3740991853935209,0.372146460539071,-0.7563600409583714,-0.0729120815875356,0.15683388173232446,-0.4347481717839852,0.3726385226228651,-0.25237895837401436,0.10403658727811085,-0.2738837963317401,-0.23399657395556672,-0.7553140057021499,-0.11024571853171616,-0.3513873782415383,-0.2739254449050963,1.0557027499957528,0.37214433984276457,0.3721487558306622,0.37220369260746045,-0.7561906326055127,0.6137925082813589,0.3834152100117981,-0.6357609868584292,0.3941624152492605,0.4929672674127678,0.37232277008196796,-0.9573782259519094,-0.7563642725484259,-0.3111362801313658,0.6133682000786533,-0.2739228381923975,0.3743552674512608,-0.9971650572548618,-0.11019194750441394,-0.0684211328514628,-0.7563554024942724,0.4119969246533318,2.177662192824011,-0.9572054970294008,-0.07291010461028803,0.6651960871246456,0.6134748183337417,-0.2737077060453937,0.37218344517499213,0.6133982718719284,0.5362274414705297,0.007671864393127654,0.372322831740723,-0.35042315149328257,0.503784173633617,-0.10937044466803827,-0.07281674602642034,-0.8368124282621495,-0.07258798262725688,-0.1102358947889879,0.44886525650140624,-0.05640413641261536,-0.11031524432247294,0.3725810982889429,0.3722568625734032,0.3721371717648935,-0.1092176691240431,-0.27179962690531806,0.3953677035369665,0.5725246281225335,-0.1081121352727434,-0.07286382230199548,0.37216748959696344,-0.16481198633190866,0.37300119594467046,-0.10985151843257944,0.37248652282178885,-0.27396098800654034,-0.27357221411135246,1.1819536108360698,0.5733823920765514,0.3727883313458434,1.0155228121443378,-0.19070724214307996,0.3726913234014698],\"type\":\"scatter3d\"},{\"customdata\":[[\"Ethash\"],[\"CryptoNight-V7\"],[\"Ethash\"],[\"Equihash\"],[\"Multiple\"],[\"Multiple\"],[\"Groestl\"],[\"Groestl\"],[\"Multiple\"],[\"NeoScrypt\"],[\"HybridScryptHash256\"],[\"Lyra2REv2\"],[\"CryptoNight\"],[\"CryptoNight\"],[\"Counterparty\"],[\"Groestl\"],[\"Multiple\"],[\"M7 POW\"],[\"Lyra2RE\"],[\"Ethash\"],[\"Blake2b\"],[\"BLAKE256\"],[\"1GB AES Pattern Search\"],[\"Dagger\"],[\"Equihash\"],[\"CryptoNight\"],[\"Multiple\"],[\"Lyra2Z\"],[\"Ethash\"],[\"Equihash\"],[\"CryptoNight\"],[\"CryptoNight\"],[\"Lyra2RE\"],[\"CryptoNight-V7\"],[\"Equihash\"],[\"Lyra2RE\"],[\"Dagger-Hashimoto\"],[\"Blake2S\"],[\"NIST5\"],[\"CryptoNight-V7\"],[\"536\"],[\"Argon2d\"],[\"Blake2b\"],[\"Cloverhash\"],[\"CryptoNight\"],[\"CryptoNight\"],[\"Keccak\"],[\"CryptoNight\"],[\"Equihash\"],[\"NeoScrypt\"],[\"Equihash\"],[\"Dagger\"],[\"NeoScrypt\"],[\"Ethash\"],[\"NeoScrypt\"],[\"Multiple\"],[\"CryptoNight\"],[\"CryptoNight\"],[\"Ethash\"],[\"CryptoNight-V7\"],[\"BLAKE256\"],[\"NeoScrypt\"],[\"NeoScrypt\"],[\"C11\"],[\"Ethash\"],[\"CryptoNight\"],[\"CryptoNight\"],[\"Dagger\"],[\"Lyra2REv2\"],[\"C11\"],[\"Ethash\"],[\"CryptoNight\"],[\"IMesh\"],[\"Equihash\"],[\"Lyra2Z\"],[\"CryptoNight\"],[\"NIST5\"],[\"Lyra2RE\"],[\"Lyra2Z\"],[\"CryptoNight\"],[\"CryptoNight Heavy\"],[\"CryptoNight\"],[\"Jump Consistent Hash\"],[\"CryptoNight\"],[\"DPoS\"],[\"HMQ1725\"],[\"Lyra2REv2\"],[\"CryptoNight-V7\"],[\"Cryptonight-GPU\"],[\"CryptoNight Heavy\"],[\"Keccak\"],[\"Equihash\"],[\"Lyra2Z\"],[\"CryptoNight\"],[\"Blake\"],[\"Blake\"],[\"Equihash\"],[\"Exosis\"],[\"Equihash\"],[\"Equihash\"],[\"NeoScrypt\"],[\"Blake\"],[\"Groestl\"],[\"Multiple\"],[\"Equihash+Scrypt\"],[\"Ethash\"],[\"CryptoNight\"],[\"Equihash\"]],\"hovertemplate\":\"<b>%{hovertext}</b><br><br>Class=%{marker.color}<br>PC 1=%{x}<br>PC 2=%{y}<br>PC 3=%{z}<br>Algorithm=%{customdata[0]}<extra></extra>\",\"hovertext\":[\"Ethereum\",\"Monero\",\"Ethereum Classic\",\"ZCash\",\"DigiByte\",\"MyriadCoin\",\"Riecoin\",\"Diamond\",\"Verge\",\"FeatherCoin\",\"MediterraneanCoin\",\"Vertcoin\",\"ByteCoin\",\"DigitalNote \",\"StorjCoin\",\"FairCoin\",\"Unitus\",\"Cryptonite\",\"Crypto\",\"Expanse\",\"Siacoin\",\"Decred\",\"HOdlcoin\",\"SoilCoin\",\"Komodo\",\"Karbo\",\"Circuits of Value\",\"ZCoin\",\"Elementrem\",\"ZClassic\",\"Cannabis Industry Coin\",\"Bikercoins\",\"HexxCoin\",\"Citadel\",\"Zero\",\"Zoin\",\"DubaiCoin\",\"TajCoin\",\"Coinonat\",\"Quantum Resistant Ledger\",\"Espers\",\"Dynamic\",\"Nano\",\"ChanCoin\",\"Dinastycoin\",\"LeviarCoin\",\"SmartCash\",\"Sumokoin\",\"BitcoinZ\",\"VIVO Coin\",\"Bitcoin Gold\",\"Pirl\",\"Innova\",\"Ellaism\",\"GoByte\",\"SHIELD\",\"UltraNote\",\"BitCoal\",\"DaxxCoin\",\"Lethean\",\"Photon\",\"SparksPay\",\"GunCoin\",\"Interzone\",\"1717 Masonic Commemorative Token\",\"TurtleCoin\",\"Niobio Cash\",\"Travelflex\",\"KREDS\",\"Stipend\",\"Callisto Network\",\"BitTube\",\"Aidos Kuneen\",\"Bitrolium\",\"Alpenschillling\",\"Monero Classic\",\"Jumpcoin\",\"Infinex\",\"GINcoin\",\"PlatinCoin\",\"Loki\",\"Newton Coin\",\"MassGrid\",\"PluraCoin\",\"Muse\",\"PlusOneCoin\",\"Absolute Coin\",\"Webchain\",\"Ryo\",\"Qwertycoin\",\"XDNA\",\"CrypticCoin\",\"Actinium\",\"FREDEnergy\",\"Universal Molecule\",\"Lithium\",\"PirateCash\",\"Exosis\",\"Beam\",\"Bithereum\",\"UFO Coin\",\"BlakeCoin\",\"Groestlcoin\",\"JoinCoin\",\"Vollar\",\"Reality Clash\",\"Beldex\",\"Horizen\"],\"legendgroup\":\"3\",\"marker\":{\"color\":[3,3,3,3,3,3,3,3,3,3,3,3,3,3,3,3,3,3,3,3,3,3,3,3,3,3,3,3,3,3,3,3,3,3,3,3,3,3,3,3,3,3,3,3,3,3,3,3,3,3,3,3,3,3,3,3,3,3,3,3,3,3,3,3,3,3,3,3,3,3,3,3,3,3,3,3,3,3,3,3,3,3,3,3,3,3,3,3,3,3,3,3,3,3,3,3,3,3,3,3,3,3,3,3,3,3,3,3],\"coloraxis\":\"coloraxis\",\"symbol\":\"diamond\"},\"mode\":\"markers\",\"name\":\"3\",\"scene\":\"scene\",\"showlegend\":true,\"x\":[-0.04411582063938091,-0.001978716880187398,-0.04190713694535436,-0.034542165989835186,0.2626521664598679,-0.07616221500578801,-0.060458184068174485,-0.2600808609299685,0.28601445459301744,-0.12620090950354462,-0.07029897613701037,-0.10393698106764347,4.652786103448569,0.2140167324084586,0.3501018995932353,-0.2593718459312155,-0.12088944906267356,-0.08713532343260882,-0.09924834851953884,-0.04541239160841523,0.5301503670059937,-0.15104789339573374,0.06401802524971423,-0.018162812053331326,-0.8235720988136195,0.008856599628585862,-0.09464194941336589,-0.1106661624993035,-0.045081168209363746,-0.0345688843061848,0.00886445976088607,0.009031413849638419,-0.09999152384176022,-0.00020256187948331482,-0.0345895707094946,-0.0996286201462458,-0.02393382124457948,-0.16173551886383644,-0.1266698764152857,-0.0001345523205120627,0.7092250484390465,0.052439455189957025,0.03584108925836924,0.020094446349204067,0.05617802195448537,0.009397136228466087,-0.004860099750185286,0.009671099113087375,0.25612368161392873,-0.13241258979728834,-0.03439390130129684,-0.01645883557772668,-0.13219726063968254,-0.04271851487424626,-0.1323389037930284,-0.10792656987428959,1.159084131663766,0.008831706865431676,0.06321798766698691,0.014528354594137906,1.4108879168661708,-0.13241765925740756,-0.12316697452082041,0.025363592392213915,0.2844981899448479,10.920478120122995,0.014056459585437981,-0.015920709360252795,-0.08471757975583252,-0.1728029543939059,0.02370852814931976,0.01995554335598323,-0.07773905996649869,-0.03308086299425839,-0.10755111843883776,0.009065249369169498,-0.1267801003734597,-0.09977829865601201,-0.11078514168725512,0.014704349427657679,0.005005101194026837,2.4922977473602344,-0.08005737770361626,0.027203766943103773,0.31754243123005993,-0.0671506069813627,-0.3029463110806128,0.015688373659788517,-0.006710967413724211,3.3712755651556523,-0.28359400422190045,0.10591324309364229,-0.10994170894375621,0.11851311057641083,0.04235143130445575,0.041759217452992416,0.29659820616592686,-0.05096126410878877,-0.03167031932844329,-0.03417394339682518,-0.034560494843540186,0.11238382725114732,-0.05988728251917844,-0.12179398341289438,-0.01756405133557129,-0.04512446666883583,0.03759357558074338,-0.03454347236291673],\"y\":[-1.167492483615969,-1.5186306931884035,-1.1670158812254117,-1.255502448313193,-0.4684435862410755,-0.5436868481653917,-1.0359542347340849,-0.4614146405051717,-0.4623268143539465,-0.464764312675928,-0.9480281156748872,-0.6851261248584898,-0.5627761751166105,-1.5605412842352726,-2.607106557381563,-0.46125006230484167,-0.5537017819618675,-0.5913068474468424,-0.7291491703718963,-1.1677948820470558,-1.666299903575211,-1.338409944192932,-2.0447061395381616,-1.3870471521932501,1.0447622935797594,-1.6063472807720356,-0.5478289178819647,-0.6415616646083364,-1.167719828136763,-1.2555086236009203,-1.6063472388141986,-1.6063092967978796,-0.7293119363240873,-1.5182500258100364,-1.2555127594061393,-0.7292298346988124,-1.3432668536569252,-1.2506634000837065,-0.5099359249886378,-1.5182214000017924,-1.2378616331034131,-1.9571497266648437,-1.780602347875085,-1.6939724466884387,-1.5957311501928102,-1.6062294477900858,-0.7983489970839617,-1.6061717568558858,-1.1917068349600486,-0.466150137699891,-1.255468180543492,-1.3866736976559422,-0.46610327370005705,-1.1672147051352577,-0.4661338813990171,-0.5508122115412486,-1.3542123502021224,-1.6063534374731285,-1.1442982714388361,-1.5149767404258818,-1.6125882599318584,-0.46615034135285943,-0.4640895520032872,-1.7378631294004274,-2.125982733503354,0.7542715422460815,-1.605198056111352,-1.3865402384674324,-0.6808479482131301,-1.1629992415343926,-1.1528652365020724,-1.6039417552171178,-0.9046098287763571,-1.255172609307985,-0.6408866469066513,-1.6063004117099546,-0.5099570037818987,-0.7292652811045338,-0.641587405161853,-1.6050909055311178,-1.5621504013425467,-1.0620449937554437,-0.8600590760052523,-1.6022665049665243,-2.389005899321286,-0.992381214112873,-0.11045253404627656,-1.5148297175886565,-1.4746290190320366,-0.8138568731053903,-0.2413592397880279,-1.2242623854724661,-0.6414043245944683,-1.5823048497549328,-1.8692789938559045,-1.8694029801533978,-2.2134220826463644,-1.1239683823761868,-1.2548777025180757,-1.2554189376234617,-0.4441750071727907,-1.8542051196774476,-1.0358256728555058,-0.5539112947813327,-1.2068041461839536,-1.1677295584068461,-1.5999297250841609,-1.255502750249496],\"z\":[1.0125253083069319,1.3341564565868118,1.0129907240199736,1.092984219602368,0.49559317482074916,0.4540232012917267,0.8921053189089915,1.5380409593297593,0.4854699285940391,0.37001289287945627,0.8119566609514967,0.5704793746662871,1.8129046674918614,1.4363379174165705,0.3790238891679835,1.5380283233453187,0.4496825656433329,0.49392895644624135,0.610644408965326,1.0125684960766408,1.5734384222779965,2.34214202912077,1.8167773465546302,1.2136139720843533,3.677812927795933,1.4145856466059128,0.4522892309742145,0.5301398600297577,1.012588200076965,1.092984323234933,1.4146104437763187,1.414618824449167,0.6105213721899029,1.334567123458163,1.0929753752323483,0.6105447922520262,1.1733493609167003,2.2617707240994283,0.4095895706567726,1.3343862948865781,2.532059518172131,1.7361886166379834,1.5761237415932003,1.4950358459253903,1.4188936495560394,1.4146828606522042,0.7018637598690777,1.4147605443358329,1.1392076685687842,0.3693395547058287,1.0929836445268386,1.2138924447022754,0.3693793465827846,1.0131518653030944,0.3693501027862259,0.4511219458658421,1.6019517597456858,1.4145913858071366,1.0346795895262662,1.3363483199955235,1.893830647721146,0.36932603201011355,0.37037128293335264,1.5352239322531915,-0.06431408656271577,3.6292998542361397,1.4153012793520763,1.2137632698057745,0.5726980009436442,2.1813253723711465,1.026933125982136,1.416777086218087,0.7713662101790872,1.0930891475629705,0.5307565945358463,1.4146037966165033,0.4095284887902953,0.6105572900869897,0.530115719563772,1.4158946313269543,1.374692250586678,1.8202295306838072,0.7314736385779562,1.416748972470566,0.17694084354416603,0.8517647588729669,1.216521245809893,1.3380377857031724,1.2941495359713606,1.777656726686717,1.3378267417763694,1.1095456900573228,0.5302783420276512,1.4323747933649522,1.6560163608135294,1.6558383386210511,0.01632096673647206,0.9723749348144983,1.0935188376004448,1.093005104667187,0.37792731344072344,1.6713068818794043,0.8921505028035742,0.44969239383592224,1.0573864704941598,1.0125844913044835,1.4176119997856138,1.0929842246694088],\"type\":\"scatter3d\"},{\"customdata\":[[\"SHA-512\"],[\"SHA-256\"],[\"Scrypt\"],[\"PoS\"],[\"X11\"],[\"Scrypt\"],[\"Scrypt\"],[\"X11\"],[\"Multiple\"],[\"PHI1612\"],[\"Multiple\"],[\"Shabal256\"],[\"Scrypt\"],[\"Scrypt\"],[\"X11\"],[\"X11\"],[\"Scrypt\"],[\"Scrypt\"],[\"Scrypt\"],[\"Scrypt\"],[\"PoS\"],[\"POS 3.0\"],[\"X13\"],[\"X11\"],[\"Scrypt\"],[\"PoS\"],[\"PoS\"],[\"X13\"],[\"PoS\"],[\"DPoS\"],[\"PoS\"],[\"PoS\"],[\"Scrypt\"],[\"Quark\"],[\"Scrypt\"],[\"X13\"],[\"Scrypt\"],[\"PoS\"],[\"PoS\"],[\"SHA-256\"],[\"Scrypt\"],[\"PoS\"],[\"SHA-256\"],[\"POS 3.0\"],[\"SkunkHash v2 Raptor\"],[\"Scrypt\"],[\"PoS\"],[\"SHA-512\"],[\"Ouroboros\"],[\"Lyra2REv2\"],[\"POS 2.0\"],[\"SHA-256\"],[\"DPoS\"],[\"NIST5\"],[\"Quark\"],[\"Quark\"],[\"X11\"],[\"POS 3.0\"],[\"X13\"],[\"Proof-of-BibleHash\"],[\"Proof-of-Authority\"],[\"Scrypt\"],[\"VBFT\"],[\"Scrypt\"],[\"Green Protocol\"],[\"PoS\"],[\"Semux BFT consensus\"],[\"PoS\"],[\"X16R\"],[\"XEVAN\"],[\"Scrypt\"],[\"Scrypt\"],[\"X15\"],[\"Scrypt\"],[\"Quark\"],[\"SHA-256\"],[\"Quark\"],[\"Scrypt\"],[\"Quark\"],[\"X11\"],[\"Scrypt\"],[\"PoS\"],[\"X11\"],[\"ECC 256K1\"],[\"XEVAN\"],[\"X11\"],[\"Quark\"],[\"X11\"],[\"DPoS\"],[\"SHA-256\"],[\"PoS\"],[\"DPoS\"],[\"Scrypt\"],[\"DPoS\"],[\"DPoS\"],[\"SHA-256\"],[\"Leased POS\"],[\"PoS\"],[\"PoS\"],[\"SHA-256\"],[\"Scrypt\"]],\"hovertemplate\":\"<b>%{hovertext}</b><br><br>Class=%{marker.color}<br>PC 1=%{x}<br>PC 2=%{y}<br>PC 3=%{z}<br>Algorithm=%{customdata[0]}<extra></extra>\",\"hovertext\":[\"Bitshares\",\"PayCoin\",\"CasinoCoin\",\"Exclusive Coin\",\"HyperStake\",\"MintCoin\",\"Nautilus Coin\",\"SuperCoin\",\"TeslaCoin\",\"TittieCoin\",\"Crypti\",\"BurstCoin\",\"RubyCoin\",\"Dnotes\",\"Ucoin\",\"Squall Coin\",\"Diggits\",\"GPU Coin\",\"ZeitCoin\",\"SafeExchangeCoin\",\"Nebuchadnezzar\",\"Let it Ride\",\"MudraCoin\",\"Lutetium Coin\",\"BitCurrency\",\"Opair\",\"CoffeeCoin\",\"RoyalCoin\",\"TeamUP\",\"ARK\",\"FreeCoin\",\"Creatio\",\"PandaCoin\",\"Allsafe\",\"Zilbercoin\",\"FindCoin\",\"RenosCoin\",\"Atmos\",\"MacronCoin\",\"ProCurrency\",\"GrowthCoin\",\"Phreak\",\"Ultimate Secure Cash\",\"QTUM\",\"Signatum\",\"Draftcoin\",\"Stakecoin\",\"Obsidian\",\"Cardano\",\"Rupee\",\"KekCoin\",\"Infinity Economics\",\"Lamden Tau\",\"Bulwark\",\"Kalkulus\",\"Digiwage\",\"Monkey Project\",\"TokenPay\",\"Tokyo Coin\",\"BiblePay\",\"Poa Network\",\"Velox\",\"Ontology\",\"MedicCoin\",\"Bitcoin Green\",\"Deviant Coin\",\"Semux\",\"Zealium\",\"Proton\",\"Bitcoin Incognito\",\"HollyWoodCoin\",\"Xt3ch\",\"Dekado\",\"Lynx\",\"Poseidon Quark\",\"BitcoinWSpectrum\",\"Dystem\",\"Peony Coin\",\"Vitae\",\"ARENON\",\"MMOCoin\",\"Ketan\",\"PAXEX\",\"Acute Angle Cloud\",\"Bettex coin\",\"Junson Ming Chan Coin\",\"Crypto Sports\",\"Dash Platinum\",\"ALAX\",\"NeosCoin\",\"Radium\",\"Lisk\",\"HiCoin\",\"EOS\",\"Oxycoin\",\"TigerCash\",\"Waves\",\"Particl\",\"Nxt\",\"ZEPHYR\",\"BitcoinPlus\"],\"legendgroup\":\"2\",\"marker\":{\"color\":[2,2,2,2,2,2,2,2,2,2,2,2,2,2,2,2,2,2,2,2,2,2,2,2,2,2,2,2,2,2,2,2,2,2,2,2,2,2,2,2,2,2,2,2,2,2,2,2,2,2,2,2,2,2,2,2,2,2,2,2,2,2,2,2,2,2,2,2,2,2,2,2,2,2,2,2,2,2,2,2,2,2,2,2,2,2,2,2,2,2,2,2,2,2,2,2,2,2,2,2,2],\"coloraxis\":\"coloraxis\",\"symbol\":\"square\"},\"mode\":\"markers\",\"name\":\"2\",\"scene\":\"scene\",\"showlegend\":true,\"x\":[0.1991155431068231,0.13794113368146235,1.1848347385742675,0.1703469053262378,0.07053354474787671,0.4319675558451596,0.1108519373897853,0.04595470676036775,0.21054938816653954,0.23432267266396123,0.20983649485552403,0.21480806015544507,0.11085452639623689,0.11813582762208058,0.04543185987512106,-0.08688564464530232,0.1129649366673948,0.1132899587890865,1.6695212094245109,0.23061932110558034,0.17076532116445908,0.1766204090996045,0.036410612141433346,0.061751219529893625,0.11300488085848842,0.17212710531712222,0.17291104404820953,0.03437624744845936,0.17357314475178826,0.7162213773451728,0.17152158432752623,0.17076532116445908,0.9497075150512857,0.14338201411692478,0.11104420953500498,0.03467937606316225,0.11133642770606862,0.17305419305087294,0.1803661167319665,0.8973617722508321,0.135119332368067,0.1707364142127493,0.1398125623875693,0.178219939865842,0.08627484021350801,0.11090182656185693,0.17094428570408796,0.1226212694248323,1.038419559662645,0.22524532558490734,0.1815354649945385,0.36451259289233057,0.722728618390331,0.2033688657148311,0.143529770661139,0.1446969032100529,0.045467901493324886,0.17626051762788508,0.045878149210265805,0.4368313955297498,0.3025426358648849,0.11208372270592351,0.07600171877354149,0.11953480191443369,0.2739418951771614,0.17148110001808972,0.5022746933862349,0.17123713166070112,0.01852089189079078,-0.11914116077358268,0.11129135153633485,0.11100408367043396,0.024804510822643743,2.5465281793439294,0.1496837277341365,0.13952014747996297,0.1433907990522029,0.28110758081267356,0.1450798753771425,0.04603603312115732,0.11469968026014685,0.17252496681660207,0.046268019790976736,0.7882587748068849,0.013169513072078257,0.305046960986776,0.14323593727071693,0.045399018701720764,0.7385326898085911,0.13791226296251907,0.17040982907605126,0.7167527073755806,0.36262479849547313,0.7287334317538063,0.7302711112595921,0.16284241622542775,0.5021963693227076,0.17048860120266687,0.12943008202674575,0.5842902030442163,0.1104561065718532],\"y\":[-0.7930080966376141,-0.9418971181348303,-0.6877246722973055,-1.2050631776883127,-0.1906107276146061,-0.6483898251197246,-0.7226104855285875,-0.19629152705504213,-1.5115550147777916,-1.3259767563015596,-1.511703648874163,-0.81559817788577,-0.72260727669076,-0.7210050504500979,-0.19641559713534168,0.18678210665941486,-0.7221356406050669,-0.7220800500758496,-0.37833193778396373,-0.9021612559631479,-1.204969697827663,-1.2487282617831734,-0.10831038601931316,-0.19274654727020588,-0.7221102746586823,-1.2046636668688253,-1.2044769930196346,-0.10874871556825477,-1.2043660738633843,-3.538207557589048,-1.2047997461728597,-1.204969697827663,-0.5339727484954087,-0.9857496413398905,-0.7225723096566177,-0.10868059482377958,-0.7225014512435423,-1.2044552480994422,-1.2028120164095446,-0.7784738920908421,-0.7173217344983392,-1.20497799234712,-0.9414948474913557,-1.2483692982157437,-0.502762222254889,-0.7225991526452891,-1.204935046198983,-0.8101217188782744,-1.1921281437938573,-1.6434750856159202,-1.2926998964439849,-0.8909806737193902,-3.5367640692211073,-1.4680933086261092,-0.9857162977063674,-0.9854626772794869,-0.19640742833179028,-1.2488100705519845,-0.10621899845981843,-1.6747561124408978,-1.5432168845948253,-0.7223431838548081,-0.27972752420971253,-0.7206817116339492,-2.0382063972774067,-1.2048152339860303,-1.8283758619118329,-1.2048703306209878,0.022908788870482144,0.4499815227392655,-0.7225105099977974,-0.7225798090521871,-0.020755812741291294,-1.2089448904281437,-0.9843956035604613,-0.9415463269704013,-0.9857485789453813,-0.6859808208677556,-0.9853709358316902,-0.1962816040495892,-0.7217605110094925,-1.2045936528739012,-0.19623524620313595,-3.5932583210964952,0.06678078815669328,-0.13640866629576695,-0.9857831404618869,-0.1964231391708081,-3.5331920123413956,-0.941905162272666,-1.2050500864407296,-3.5380903872722795,-0.6660315211977437,-3.5352955338430574,-3.5349401366969238,-0.9363011149654119,-2.4972490436566117,-1.2050318211560622,-1.00779322061298,-2.0803843987683024,-0.7226995230622953],\"z\":[-1.2625895581452073,-1.1497778003627581,-1.4798195236457,-0.9085857667852459,-1.8333580540977366,-1.3520680725797694,-1.3507860394257416,-1.833262719946239,-0.6269457319251611,-0.7829697029699177,-0.6271686727976096,-1.6419155408537411,-1.3508225686949673,-1.3497222808515121,-1.8332155507799224,-1.4025200913815778,-1.3506050483836403,-1.3503330860229257,-1.1334192645191707,-1.5615537922467404,-0.9085422485027965,-0.8683101651474108,-1.9132229356852624,-1.8318411017421474,-1.3508309092934196,-0.9084256492387024,-0.9085054301713456,-1.9136608140038087,-0.9079189054345322,-1.1150463338111667,-0.9084774700338987,-0.9085422485027965,-1.280688123889749,-1.1095689380747293,-1.3506991661327539,-1.9136348492226336,-1.350746735355058,-0.9083473363748226,-0.9077218044755869,-0.983472101584449,-1.3464025652497695,-0.9085195657833632,-1.1493616703364715,-0.8681662747859256,-1.551538501676891,-1.3507834660215905,-0.9084490490462953,-1.2702132916914932,-0.6494877847286962,-0.5065013000421813,-0.8281331192358735,-1.1303712802775745,-1.1142251760861683,-0.6673053530351675,-1.1095582258804204,-1.109337046869633,-1.83321343351508,-0.8683279542413681,-1.9119054216357816,-1.6236723874057246,-1.3789803991645073,-1.35054746097673,-1.7506735573154524,-1.3497277070652003,-0.1446780419699138,-0.9083915447354555,-2.683021529366931,-0.9084086549315092,-2.034176360624095,-1.64369352274834,-1.3507655794581628,-1.3507238381537845,-1.9938748420325545,-2.228188786353741,-1.1081601476261784,-1.149585840354214,-1.10955542979026,-1.3133837616202222,-1.10938367350267,-1.833138897099653,-1.3502506473839782,-0.9081202322975979,-1.8330382292183005,-1.449137478039256,-2.0743686421144765,-1.8342676633137345,-1.1095720504926425,-1.8332161005165128,-1.1131579455851766,-1.1497585033735291,-0.9085656973101276,-1.1149695817693648,-1.3292085718806743,-1.1153769968972,-1.1153829611079993,-1.1476455386509832,-1.2874100885399595,-0.908566828612147,-0.6910563127974744,-2.4377052906820147,-1.3508187662807696],\"type\":\"scatter3d\"},{\"customdata\":[[\"TRC10\"]],\"hovertemplate\":\"<b>%{hovertext}</b><br><br>Class=%{marker.color}<br>PC 1=%{x}<br>PC 2=%{y}<br>PC 3=%{z}<br>Algorithm=%{customdata[0]}<extra></extra>\",\"hovertext\":[\"BitTorrent\"],\"legendgroup\":\"1\",\"marker\":{\"color\":[1],\"coloraxis\":\"coloraxis\",\"symbol\":\"x\"},\"mode\":\"markers\",\"name\":\"1\",\"scene\":\"scene\",\"showlegend\":true,\"x\":[25.425131617698273],\"y\":[4.042884368800685],\"z\":[-0.7867724942298039],\"type\":\"scatter3d\"}],                        {\"template\":{\"data\":{\"bar\":[{\"error_x\":{\"color\":\"#2a3f5f\"},\"error_y\":{\"color\":\"#2a3f5f\"},\"marker\":{\"line\":{\"color\":\"#E5ECF6\",\"width\":0.5},\"pattern\":{\"fillmode\":\"overlay\",\"size\":10,\"solidity\":0.2}},\"type\":\"bar\"}],\"barpolar\":[{\"marker\":{\"line\":{\"color\":\"#E5ECF6\",\"width\":0.5},\"pattern\":{\"fillmode\":\"overlay\",\"size\":10,\"solidity\":0.2}},\"type\":\"barpolar\"}],\"carpet\":[{\"aaxis\":{\"endlinecolor\":\"#2a3f5f\",\"gridcolor\":\"white\",\"linecolor\":\"white\",\"minorgridcolor\":\"white\",\"startlinecolor\":\"#2a3f5f\"},\"baxis\":{\"endlinecolor\":\"#2a3f5f\",\"gridcolor\":\"white\",\"linecolor\":\"white\",\"minorgridcolor\":\"white\",\"startlinecolor\":\"#2a3f5f\"},\"type\":\"carpet\"}],\"choropleth\":[{\"colorbar\":{\"outlinewidth\":0,\"ticks\":\"\"},\"type\":\"choropleth\"}],\"contour\":[{\"colorbar\":{\"outlinewidth\":0,\"ticks\":\"\"},\"colorscale\":[[0.0,\"#0d0887\"],[0.1111111111111111,\"#46039f\"],[0.2222222222222222,\"#7201a8\"],[0.3333333333333333,\"#9c179e\"],[0.4444444444444444,\"#bd3786\"],[0.5555555555555556,\"#d8576b\"],[0.6666666666666666,\"#ed7953\"],[0.7777777777777778,\"#fb9f3a\"],[0.8888888888888888,\"#fdca26\"],[1.0,\"#f0f921\"]],\"type\":\"contour\"}],\"contourcarpet\":[{\"colorbar\":{\"outlinewidth\":0,\"ticks\":\"\"},\"type\":\"contourcarpet\"}],\"heatmap\":[{\"colorbar\":{\"outlinewidth\":0,\"ticks\":\"\"},\"colorscale\":[[0.0,\"#0d0887\"],[0.1111111111111111,\"#46039f\"],[0.2222222222222222,\"#7201a8\"],[0.3333333333333333,\"#9c179e\"],[0.4444444444444444,\"#bd3786\"],[0.5555555555555556,\"#d8576b\"],[0.6666666666666666,\"#ed7953\"],[0.7777777777777778,\"#fb9f3a\"],[0.8888888888888888,\"#fdca26\"],[1.0,\"#f0f921\"]],\"type\":\"heatmap\"}],\"heatmapgl\":[{\"colorbar\":{\"outlinewidth\":0,\"ticks\":\"\"},\"colorscale\":[[0.0,\"#0d0887\"],[0.1111111111111111,\"#46039f\"],[0.2222222222222222,\"#7201a8\"],[0.3333333333333333,\"#9c179e\"],[0.4444444444444444,\"#bd3786\"],[0.5555555555555556,\"#d8576b\"],[0.6666666666666666,\"#ed7953\"],[0.7777777777777778,\"#fb9f3a\"],[0.8888888888888888,\"#fdca26\"],[1.0,\"#f0f921\"]],\"type\":\"heatmapgl\"}],\"histogram\":[{\"marker\":{\"pattern\":{\"fillmode\":\"overlay\",\"size\":10,\"solidity\":0.2}},\"type\":\"histogram\"}],\"histogram2d\":[{\"colorbar\":{\"outlinewidth\":0,\"ticks\":\"\"},\"colorscale\":[[0.0,\"#0d0887\"],[0.1111111111111111,\"#46039f\"],[0.2222222222222222,\"#7201a8\"],[0.3333333333333333,\"#9c179e\"],[0.4444444444444444,\"#bd3786\"],[0.5555555555555556,\"#d8576b\"],[0.6666666666666666,\"#ed7953\"],[0.7777777777777778,\"#fb9f3a\"],[0.8888888888888888,\"#fdca26\"],[1.0,\"#f0f921\"]],\"type\":\"histogram2d\"}],\"histogram2dcontour\":[{\"colorbar\":{\"outlinewidth\":0,\"ticks\":\"\"},\"colorscale\":[[0.0,\"#0d0887\"],[0.1111111111111111,\"#46039f\"],[0.2222222222222222,\"#7201a8\"],[0.3333333333333333,\"#9c179e\"],[0.4444444444444444,\"#bd3786\"],[0.5555555555555556,\"#d8576b\"],[0.6666666666666666,\"#ed7953\"],[0.7777777777777778,\"#fb9f3a\"],[0.8888888888888888,\"#fdca26\"],[1.0,\"#f0f921\"]],\"type\":\"histogram2dcontour\"}],\"mesh3d\":[{\"colorbar\":{\"outlinewidth\":0,\"ticks\":\"\"},\"type\":\"mesh3d\"}],\"parcoords\":[{\"line\":{\"colorbar\":{\"outlinewidth\":0,\"ticks\":\"\"}},\"type\":\"parcoords\"}],\"pie\":[{\"automargin\":true,\"type\":\"pie\"}],\"scatter\":[{\"marker\":{\"colorbar\":{\"outlinewidth\":0,\"ticks\":\"\"}},\"type\":\"scatter\"}],\"scatter3d\":[{\"line\":{\"colorbar\":{\"outlinewidth\":0,\"ticks\":\"\"}},\"marker\":{\"colorbar\":{\"outlinewidth\":0,\"ticks\":\"\"}},\"type\":\"scatter3d\"}],\"scattercarpet\":[{\"marker\":{\"colorbar\":{\"outlinewidth\":0,\"ticks\":\"\"}},\"type\":\"scattercarpet\"}],\"scattergeo\":[{\"marker\":{\"colorbar\":{\"outlinewidth\":0,\"ticks\":\"\"}},\"type\":\"scattergeo\"}],\"scattergl\":[{\"marker\":{\"colorbar\":{\"outlinewidth\":0,\"ticks\":\"\"}},\"type\":\"scattergl\"}],\"scattermapbox\":[{\"marker\":{\"colorbar\":{\"outlinewidth\":0,\"ticks\":\"\"}},\"type\":\"scattermapbox\"}],\"scatterpolar\":[{\"marker\":{\"colorbar\":{\"outlinewidth\":0,\"ticks\":\"\"}},\"type\":\"scatterpolar\"}],\"scatterpolargl\":[{\"marker\":{\"colorbar\":{\"outlinewidth\":0,\"ticks\":\"\"}},\"type\":\"scatterpolargl\"}],\"scatterternary\":[{\"marker\":{\"colorbar\":{\"outlinewidth\":0,\"ticks\":\"\"}},\"type\":\"scatterternary\"}],\"surface\":[{\"colorbar\":{\"outlinewidth\":0,\"ticks\":\"\"},\"colorscale\":[[0.0,\"#0d0887\"],[0.1111111111111111,\"#46039f\"],[0.2222222222222222,\"#7201a8\"],[0.3333333333333333,\"#9c179e\"],[0.4444444444444444,\"#bd3786\"],[0.5555555555555556,\"#d8576b\"],[0.6666666666666666,\"#ed7953\"],[0.7777777777777778,\"#fb9f3a\"],[0.8888888888888888,\"#fdca26\"],[1.0,\"#f0f921\"]],\"type\":\"surface\"}],\"table\":[{\"cells\":{\"fill\":{\"color\":\"#EBF0F8\"},\"line\":{\"color\":\"white\"}},\"header\":{\"fill\":{\"color\":\"#C8D4E3\"},\"line\":{\"color\":\"white\"}},\"type\":\"table\"}]},\"layout\":{\"annotationdefaults\":{\"arrowcolor\":\"#2a3f5f\",\"arrowhead\":0,\"arrowwidth\":1},\"autotypenumbers\":\"strict\",\"coloraxis\":{\"colorbar\":{\"outlinewidth\":0,\"ticks\":\"\"}},\"colorscale\":{\"diverging\":[[0,\"#8e0152\"],[0.1,\"#c51b7d\"],[0.2,\"#de77ae\"],[0.3,\"#f1b6da\"],[0.4,\"#fde0ef\"],[0.5,\"#f7f7f7\"],[0.6,\"#e6f5d0\"],[0.7,\"#b8e186\"],[0.8,\"#7fbc41\"],[0.9,\"#4d9221\"],[1,\"#276419\"]],\"sequential\":[[0.0,\"#0d0887\"],[0.1111111111111111,\"#46039f\"],[0.2222222222222222,\"#7201a8\"],[0.3333333333333333,\"#9c179e\"],[0.4444444444444444,\"#bd3786\"],[0.5555555555555556,\"#d8576b\"],[0.6666666666666666,\"#ed7953\"],[0.7777777777777778,\"#fb9f3a\"],[0.8888888888888888,\"#fdca26\"],[1.0,\"#f0f921\"]],\"sequentialminus\":[[0.0,\"#0d0887\"],[0.1111111111111111,\"#46039f\"],[0.2222222222222222,\"#7201a8\"],[0.3333333333333333,\"#9c179e\"],[0.4444444444444444,\"#bd3786\"],[0.5555555555555556,\"#d8576b\"],[0.6666666666666666,\"#ed7953\"],[0.7777777777777778,\"#fb9f3a\"],[0.8888888888888888,\"#fdca26\"],[1.0,\"#f0f921\"]]},\"colorway\":[\"#636efa\",\"#EF553B\",\"#00cc96\",\"#ab63fa\",\"#FFA15A\",\"#19d3f3\",\"#FF6692\",\"#B6E880\",\"#FF97FF\",\"#FECB52\"],\"font\":{\"color\":\"#2a3f5f\"},\"geo\":{\"bgcolor\":\"white\",\"lakecolor\":\"white\",\"landcolor\":\"#E5ECF6\",\"showlakes\":true,\"showland\":true,\"subunitcolor\":\"white\"},\"hoverlabel\":{\"align\":\"left\"},\"hovermode\":\"closest\",\"mapbox\":{\"style\":\"light\"},\"paper_bgcolor\":\"white\",\"plot_bgcolor\":\"#E5ECF6\",\"polar\":{\"angularaxis\":{\"gridcolor\":\"white\",\"linecolor\":\"white\",\"ticks\":\"\"},\"bgcolor\":\"#E5ECF6\",\"radialaxis\":{\"gridcolor\":\"white\",\"linecolor\":\"white\",\"ticks\":\"\"}},\"scene\":{\"xaxis\":{\"backgroundcolor\":\"#E5ECF6\",\"gridcolor\":\"white\",\"gridwidth\":2,\"linecolor\":\"white\",\"showbackground\":true,\"ticks\":\"\",\"zerolinecolor\":\"white\"},\"yaxis\":{\"backgroundcolor\":\"#E5ECF6\",\"gridcolor\":\"white\",\"gridwidth\":2,\"linecolor\":\"white\",\"showbackground\":true,\"ticks\":\"\",\"zerolinecolor\":\"white\"},\"zaxis\":{\"backgroundcolor\":\"#E5ECF6\",\"gridcolor\":\"white\",\"gridwidth\":2,\"linecolor\":\"white\",\"showbackground\":true,\"ticks\":\"\",\"zerolinecolor\":\"white\"}},\"shapedefaults\":{\"line\":{\"color\":\"#2a3f5f\"}},\"ternary\":{\"aaxis\":{\"gridcolor\":\"white\",\"linecolor\":\"white\",\"ticks\":\"\"},\"baxis\":{\"gridcolor\":\"white\",\"linecolor\":\"white\",\"ticks\":\"\"},\"bgcolor\":\"#E5ECF6\",\"caxis\":{\"gridcolor\":\"white\",\"linecolor\":\"white\",\"ticks\":\"\"}},\"title\":{\"x\":0.05},\"xaxis\":{\"automargin\":true,\"gridcolor\":\"white\",\"linecolor\":\"white\",\"ticks\":\"\",\"title\":{\"standoff\":15},\"zerolinecolor\":\"white\",\"zerolinewidth\":2},\"yaxis\":{\"automargin\":true,\"gridcolor\":\"white\",\"linecolor\":\"white\",\"ticks\":\"\",\"title\":{\"standoff\":15},\"zerolinecolor\":\"white\",\"zerolinewidth\":2}}},\"scene\":{\"domain\":{\"x\":[0.0,1.0],\"y\":[0.0,1.0]},\"xaxis\":{\"title\":{\"text\":\"PC 1\"}},\"yaxis\":{\"title\":{\"text\":\"PC 2\"}},\"zaxis\":{\"title\":{\"text\":\"PC 3\"}}},\"coloraxis\":{\"colorbar\":{\"title\":{\"text\":\"Class\"}},\"colorscale\":[[0.0,\"#0d0887\"],[0.1111111111111111,\"#46039f\"],[0.2222222222222222,\"#7201a8\"],[0.3333333333333333,\"#9c179e\"],[0.4444444444444444,\"#bd3786\"],[0.5555555555555556,\"#d8576b\"],[0.6666666666666666,\"#ed7953\"],[0.7777777777777778,\"#fb9f3a\"],[0.8888888888888888,\"#fdca26\"],[1.0,\"#f0f921\"]]},\"legend\":{\"title\":{\"text\":\"Class\"},\"tracegroupgap\":0,\"x\":0,\"y\":1},\"margin\":{\"t\":60},\"width\":800},                        {\"responsive\": true}                    ).then(function(){\n",
       "                            \n",
       "var gd = document.getElementById('326bfab0-578c-4804-85b2-6b80f5a4c14f');\n",
       "var x = new MutationObserver(function (mutations, observer) {{\n",
       "        var display = window.getComputedStyle(gd).display;\n",
       "        if (!display || display === 'none') {{\n",
       "            console.log([gd, 'removed!']);\n",
       "            Plotly.purge(gd);\n",
       "            observer.disconnect();\n",
       "        }}\n",
       "}});\n",
       "\n",
       "// Listen for the removal of the full notebook cells\n",
       "var notebookContainer = gd.closest('#notebook-container');\n",
       "if (notebookContainer) {{\n",
       "    x.observe(notebookContainer, {childList: true});\n",
       "}}\n",
       "\n",
       "// Listen for the clearing of the current output cell\n",
       "var outputEl = gd.closest('.output');\n",
       "if (outputEl) {{\n",
       "    x.observe(outputEl, {childList: true});\n",
       "}}\n",
       "\n",
       "                        })                };                });            </script>        </div>"
      ]
     },
     "metadata": {},
     "output_type": "display_data"
    }
   ],
   "source": [
    "# Creating a 3D-Scatter with the PCA data and the clusters\n",
    "fig = px.scatter_3d(\n",
    "    clustered_df,\n",
    "    x=\"PC 1\",\n",
    "    y=\"PC 2\",\n",
    "    z=\"PC 3\",\n",
    "    color=\"Class\",\n",
    "    symbol=\"Class\",\n",
    "    width=800,\n",
    "    hover_name=\"CoinName\",\n",
    "    hover_data=['Algorithm'],\n",
    ")\n",
    "fig.update_layout(legend=dict(x=0, y=1))\n",
    "fig.show()\n"
   ]
  },
  {
   "cell_type": "code",
   "execution_count": 75,
   "metadata": {},
   "outputs": [
    {
     "data": {},
     "metadata": {},
     "output_type": "display_data"
    },
    {
     "data": {
      "application/vnd.holoviews_exec.v0+json": "",
      "text/html": [
       "<div id='1238'>\n",
       "\n",
       "\n",
       "\n",
       "\n",
       "\n",
       "  <div class=\"bk-root\" id=\"c211ddff-610f-43da-a015-f892cc20414c\" data-root-id=\"1238\"></div>\n",
       "</div>\n",
       "<script type=\"application/javascript\">(function(root) {\n",
       "  function embed_document(root) {\n",
       "    var docs_json = {\"15580e22-92a6-45b5-8da1-b2587250d529\":{\"defs\":[{\"extends\":null,\"module\":null,\"name\":\"ReactiveHTML1\",\"overrides\":[],\"properties\":[]},{\"extends\":null,\"module\":null,\"name\":\"FlexBox1\",\"overrides\":[],\"properties\":[{\"default\":\"flex-start\",\"kind\":null,\"name\":\"align_content\"},{\"default\":\"flex-start\",\"kind\":null,\"name\":\"align_items\"},{\"default\":\"row\",\"kind\":null,\"name\":\"flex_direction\"},{\"default\":\"wrap\",\"kind\":null,\"name\":\"flex_wrap\"},{\"default\":\"flex-start\",\"kind\":null,\"name\":\"justify_content\"}]},{\"extends\":null,\"module\":null,\"name\":\"GridStack1\",\"overrides\":[],\"properties\":[{\"default\":\"warn\",\"kind\":null,\"name\":\"mode\"},{\"default\":null,\"kind\":null,\"name\":\"ncols\"},{\"default\":null,\"kind\":null,\"name\":\"nrows\"},{\"default\":true,\"kind\":null,\"name\":\"allow_resize\"},{\"default\":true,\"kind\":null,\"name\":\"allow_drag\"},{\"default\":[],\"kind\":null,\"name\":\"state\"}]},{\"extends\":null,\"module\":null,\"name\":\"click1\",\"overrides\":[],\"properties\":[{\"default\":\"\",\"kind\":null,\"name\":\"terminal_output\"},{\"default\":\"\",\"kind\":null,\"name\":\"debug_name\"},{\"default\":0,\"kind\":null,\"name\":\"clears\"}]},{\"extends\":null,\"module\":null,\"name\":\"TemplateActions1\",\"overrides\":[],\"properties\":[{\"default\":0,\"kind\":null,\"name\":\"open_modal\"},{\"default\":0,\"kind\":null,\"name\":\"close_modal\"}]},{\"extends\":null,\"module\":null,\"name\":\"MaterialTemplateActions1\",\"overrides\":[],\"properties\":[{\"default\":0,\"kind\":null,\"name\":\"open_modal\"},{\"default\":0,\"kind\":null,\"name\":\"close_modal\"}]}],\"roots\":{\"references\":[{\"attributes\":{\"format\":\"0,0.0[00000]\"},\"id\":\"1262\",\"type\":\"NumberFormatter\"},{\"attributes\":{\"editor\":{\"id\":\"1258\"},\"field\":\"TotalCoinSupply\",\"formatter\":{\"id\":\"1257\"},\"title\":\"TotalCoinSupply\"},\"id\":\"1259\",\"type\":\"TableColumn\"},{\"attributes\":{\"editor\":{\"id\":\"1263\"},\"field\":\"PC_1\",\"formatter\":{\"id\":\"1262\"},\"title\":\"PC 1\"},\"id\":\"1264\",\"type\":\"TableColumn\"},{\"attributes\":{\"margin\":[5,5,5,5],\"name\":\"HSpacer01982\",\"sizing_mode\":\"stretch_width\"},\"id\":\"1294\",\"type\":\"Spacer\"},{\"attributes\":{\"format\":\"0,0.0[00000]\"},\"id\":\"1267\",\"type\":\"NumberFormatter\"},{\"attributes\":{},\"id\":\"1248\",\"type\":\"StringEditor\"},{\"attributes\":{\"columns\":[{\"id\":\"1244\"},{\"id\":\"1249\"},{\"id\":\"1254\"},{\"id\":\"1259\"},{\"id\":\"1264\"},{\"id\":\"1269\"},{\"id\":\"1274\"},{\"id\":\"1279\"},{\"id\":\"1284\"}],\"height\":300,\"reorderable\":false,\"source\":{\"id\":\"1240\"},\"view\":{\"id\":\"1289\"},\"width\":700},\"id\":\"1287\",\"type\":\"DataTable\"},{\"attributes\":{},\"id\":\"1263\",\"type\":\"NumberEditor\"},{\"attributes\":{\"margin\":[5,5,5,5],\"name\":\"HSpacer01981\",\"sizing_mode\":\"stretch_width\"},\"id\":\"1239\",\"type\":\"Spacer\"},{\"attributes\":{\"children\":[{\"id\":\"1239\"},{\"id\":\"1287\"},{\"id\":\"1294\"}],\"margin\":[0,0,0,0],\"name\":\"Row01977\",\"tags\":[\"embedded\"]},\"id\":\"1238\",\"type\":\"Row\"},{\"attributes\":{},\"id\":\"1242\",\"type\":\"StringFormatter\"},{\"attributes\":{\"format\":\"0,0.0[00000]\"},\"id\":\"1272\",\"type\":\"NumberFormatter\"},{\"attributes\":{},\"id\":\"1247\",\"type\":\"StringFormatter\"},{\"attributes\":{\"editor\":{\"id\":\"1268\"},\"field\":\"PC_2\",\"formatter\":{\"id\":\"1267\"},\"title\":\"PC 2\"},\"id\":\"1269\",\"type\":\"TableColumn\"},{\"attributes\":{},\"id\":\"1258\",\"type\":\"StringEditor\"},{\"attributes\":{},\"id\":\"1268\",\"type\":\"NumberEditor\"},{\"attributes\":{\"editor\":{\"id\":\"1273\"},\"field\":\"PC_3\",\"formatter\":{\"id\":\"1272\"},\"title\":\"PC 3\"},\"id\":\"1274\",\"type\":\"TableColumn\"},{\"attributes\":{},\"id\":\"1243\",\"type\":\"StringEditor\"},{\"attributes\":{\"data\":{\"Algorithm\":[\"Scrypt\",\"Scrypt\",\"X13\",\"SHA-256\",\"Ethash\",\"Scrypt\",\"X11\",\"CryptoNight-V7\",\"Ethash\",\"Equihash\",\"SHA-512\",\"Multiple\",\"SHA-256\",\"SHA-256\",\"Scrypt\",\"X15\",\"X11\",\"Scrypt\",\"Scrypt\",\"Scrypt\",\"Multiple\",\"Scrypt\",\"SHA-256\",\"Scrypt\",\"Scrypt\",\"Scrypt\",\"Quark\",\"Groestl\",\"Scrypt\",\"Scrypt\",\"Scrypt\",\"Scrypt\",\"Scrypt\",\"X11\",\"Scrypt\",\"Groestl\",\"Multiple\",\"SHA-256\",\"Scrypt\",\"Scrypt\",\"Scrypt\",\"Scrypt\",\"PoS\",\"Scrypt\",\"Scrypt\",\"NeoScrypt\",\"Scrypt\",\"Scrypt\",\"Scrypt\",\"Scrypt\",\"X11\",\"Scrypt\",\"X11\",\"SHA-256\",\"Scrypt\",\"Scrypt\",\"Scrypt\",\"SHA3\",\"Scrypt\",\"HybridScryptHash256\",\"Scrypt\",\"Scrypt\",\"SHA-256\",\"Scrypt\",\"X13\",\"Scrypt\",\"SHA-256\",\"Scrypt\",\"X13\",\"NeoScrypt\",\"Scrypt\",\"Scrypt\",\"Scrypt\",\"Scrypt\",\"Scrypt\",\"Scrypt\",\"X11\",\"X11\",\"SHA-256\",\"Multiple\",\"SHA-256\",\"PHI1612\",\"X11\",\"SHA-256\",\"SHA-256\",\"SHA-256\",\"X11\",\"Scrypt\",\"Scrypt\",\"Scrypt\",\"Scrypt\",\"Lyra2REv2\",\"Scrypt\",\"X11\",\"Multiple\",\"SHA-256\",\"X13\",\"Scrypt\",\"CryptoNight\",\"CryptoNight\",\"Shabal256\",\"Counterparty\",\"Scrypt\",\"SHA-256\",\"Groestl\",\"Scrypt\",\"Scrypt\",\"Scrypt\",\"X13\",\"Scrypt\",\"Scrypt\",\"Scrypt\",\"Scrypt\",\"X13\",\"Scrypt\",\"Stanford Folding\",\"X11\",\"Multiple\",\"QuBit\",\"Scrypt\",\"Scrypt\",\"Scrypt\",\"M7 POW\",\"Scrypt\",\"SHA-256\",\"Scrypt\",\"X11\",\"SHA3\",\"X11\",\"Lyra2RE\",\"SHA-256\",\"QUAIT\",\"X11\",\"X11\",\"Scrypt\",\"Scrypt\",\"Scrypt\",\"Ethash\",\"X13\",\"Blake2b\",\"SHA-256\",\"X15\",\"X11\",\"SHA-256\",\"BLAKE256\",\"Scrypt\",\"1GB AES Pattern Search\",\"SHA-256\",\"X11\",\"Scrypt\",\"SHA-256\",\"SHA-256\",\"NIST5\",\"Scrypt\",\"Scrypt\",\"X11\",\"Dagger\",\"Scrypt\",\"X11GOST\",\"X11\",\"Scrypt\",\"SHA-256\",\"Scrypt\",\"PoS\",\"Scrypt\",\"X11\",\"X11\",\"SHA-256\",\"SHA-256\",\"NIST5\",\"X11\",\"Scrypt\",\"POS 3.0\",\"Scrypt\",\"Scrypt\",\"Scrypt\",\"X13\",\"X11\",\"X11\",\"Equihash\",\"X11\",\"Scrypt\",\"CryptoNight\",\"SHA-256\",\"SHA-256\",\"X11\",\"Scrypt\",\"Multiple\",\"Scrypt\",\"Scrypt\",\"Scrypt\",\"SHA-256\",\"Scrypt\",\"Scrypt\",\"SHA-256D\",\"PoS\",\"Scrypt\",\"X11\",\"Lyra2Z\",\"PoS\",\"X13\",\"X14\",\"PoS\",\"SHA-256D\",\"Ethash\",\"Equihash\",\"DPoS\",\"X11\",\"Scrypt\",\"X11\",\"X13\",\"X11\",\"PoS\",\"Scrypt\",\"Scrypt\",\"X11\",\"PoS\",\"X11\",\"SHA-256\",\"Scrypt\",\"X11\",\"Scrypt\",\"Scrypt\",\"X11\",\"CryptoNight\",\"Scrypt\",\"Scrypt\",\"Scrypt\",\"Scrypt\",\"Quark\",\"QuBit\",\"Scrypt\",\"CryptoNight\",\"Lyra2RE\",\"Scrypt\",\"SHA-256\",\"X11\",\"Scrypt\",\"X11\",\"Scrypt\",\"CryptoNight-V7\",\"Scrypt\",\"Scrypt\",\"Scrypt\",\"X13\",\"X11\",\"Equihash\",\"Scrypt\",\"Scrypt\",\"Lyra2RE\",\"Scrypt\",\"Dagger-Hashimoto\",\"X11\",\"Blake2S\",\"X11\",\"Scrypt\",\"PoS\",\"X11\",\"NIST5\",\"PoS\",\"X11\",\"Scrypt\",\"Scrypt\",\"Scrypt\",\"SHA-256\",\"X11\",\"Scrypt\",\"Scrypt\",\"SHA-256\",\"PoS\",\"Scrypt\",\"X15\",\"SHA-256\",\"Scrypt\",\"POS 3.0\",\"CryptoNight-V7\",\"536\",\"Argon2d\",\"Blake2b\",\"Cloverhash\",\"CryptoNight\",\"NIST5\",\"X11\",\"NIST5\",\"Skein\",\"Scrypt\",\"X13\",\"Scrypt\",\"X11\",\"X11\",\"Scrypt\",\"CryptoNight\",\"X13\",\"Time Travel\",\"Scrypt\",\"Keccak\",\"SkunkHash v2 Raptor\",\"X11\",\"Skein\",\"SHA-256\",\"X11\",\"Scrypt\",\"VeChainThor Authority\",\"Scrypt\",\"PoS\",\"Scrypt\",\"Scrypt\",\"Scrypt\",\"Scrypt\",\"Scrypt\",\"Scrypt\",\"Scrypt\",\"CryptoNight\",\"SHA-512\",\"Ouroboros\",\"X11\",\"Equihash\",\"NeoScrypt\",\"X11\",\"Scrypt\",\"NeoScrypt\",\"Lyra2REv2\",\"Equihash\",\"Scrypt\",\"SHA-256\",\"NIST5\",\"PHI1612\",\"Dagger\",\"Scrypt\",\"Quark\",\"Scrypt\",\"POS 2.0\",\"Scrypt\",\"SHA-256\",\"X11\",\"NeoScrypt\",\"Ethash\",\"NeoScrypt\",\"X11\",\"DPoS\",\"NIST5\",\"X13\",\"Multiple\",\"Scrypt\",\"CryptoNight\",\"CryptoNight\",\"Ethash\",\"NIST5\",\"Quark\",\"X11\",\"CryptoNight-V7\",\"Scrypt\",\"Scrypt\",\"Scrypt\",\"X11\",\"BLAKE256\",\"X11\",\"NeoScrypt\",\"Quark\",\"NeoScrypt\",\"Scrypt\",\"Scrypt\",\"Scrypt\",\"X11\",\"X11\",\"SHA-256\",\"C11\",\"POS 3.0\",\"Ethash\",\"Scrypt\",\"CryptoNight\",\"SkunkHash\",\"Scrypt\",\"CryptoNight\",\"Scrypt\",\"Dagger\",\"Lyra2REv2\",\"X13\",\"Proof-of-BibleHash\",\"SHA-256 + Hive\",\"Scrypt\",\"Scrypt\",\"X11\",\"C11\",\"Proof-of-Authority\",\"X11\",\"XEVAN\",\"Scrypt\",\"VBFT\",\"Ethash\",\"CryptoNight\",\"Scrypt\",\"IMesh\",\"NIST5\",\"Scrypt\",\"Scrypt\",\"Equihash\",\"Scrypt\",\"Lyra2Z\",\"Green Protocol\",\"PoS\",\"Scrypt\",\"Semux BFT consensus\",\"X11\",\"Quark\",\"PoS\",\"CryptoNight\",\"X16R\",\"Scrypt\",\"NIST5\",\"Lyra2RE\",\"XEVAN\",\"Tribus\",\"Scrypt\",\"Lyra2Z\",\"CryptoNight\",\"CryptoNight Heavy\",\"CryptoNight\",\"Scrypt\",\"Scrypt\",\"Jump Consistent Hash\",\"SHA-256D\",\"CryptoNight\",\"Scrypt\",\"X15\",\"Scrypt\",\"Quark\",\"SHA-256\",\"DPoS\",\"X16R\",\"HMQ1725\",\"X11\",\"X16R\",\"Quark\",\"Quark\",\"Scrypt\",\"Lyra2REv2\",\"Quark\",\"Scrypt\",\"Scrypt\",\"CryptoNight-V7\",\"Cryptonight-GPU\",\"XEVAN\",\"CryptoNight Heavy\",\"X11\",\"X11\",\"Scrypt\",\"PoS\",\"SHA-256\",\"Keccak\",\"X11\",\"X11\",\"Scrypt\",\"SHA-512\",\"X16R\",\"ECC 256K1\",\"Equihash\",\"XEVAN\",\"Lyra2Z\",\"SHA-256\",\"XEVAN\",\"X11\",\"CryptoNight\",\"Quark\",\"Blake\",\"Blake\",\"Equihash\",\"Exosis\",\"Scrypt\",\"Scrypt\",\"Equihash\",\"Quark\",\"Equihash\",\"Quark\",\"Scrypt\",\"QuBit\",\"X11\",\"Scrypt\",\"XEVAN\",\"SHA-256D\",\"X11\",\"SHA-256\",\"X13\",\"SHA-256\",\"X11\",\"DPoS\",\"Scrypt\",\"Scrypt\",\"X11\",\"NeoScrypt\",\"Scrypt\",\"Blake\",\"Scrypt\",\"SHA-256\",\"Scrypt\",\"X11\",\"Scrypt\",\"Scrypt\",\"SHA-256\",\"X11\",\"SHA-256\",\"Scrypt\",\"Scrypt\",\"Scrypt\",\"Groestl\",\"X11\",\"Scrypt\",\"PoS\",\"Scrypt\",\"Scrypt\",\"X11\",\"SHA-256\",\"DPoS\",\"Scrypt\",\"Scrypt\",\"NeoScrypt\",\"Multiple\",\"X13\",\"Equihash+Scrypt\",\"DPoS\",\"Ethash\",\"DPoS\",\"SHA-256\",\"Leased POS\",\"PoS\",\"TRC10\",\"PoS\",\"SHA-256\",\"Scrypt\",\"CryptoNight\",\"Equihash\",\"Scrypt\"],\"Class\":{\"__ndarray__\":\"AAAAAAAAAAAAAAAAAAAAAAMAAAAAAAAAAAAAAAMAAAADAAAAAwAAAAIAAAADAAAAAAAAAAIAAAAAAAAAAAAAAAAAAAAAAAAAAAAAAAAAAAADAAAAAAAAAAAAAAAAAAAAAAAAAAAAAAAAAAAAAwAAAAAAAAAAAAAAAAAAAAAAAAAAAAAAAAAAAAIAAAADAAAAAwAAAAAAAAAAAAAAAAAAAAAAAAAAAAAAAgAAAAAAAAAAAAAAAwAAAAAAAAAAAAAAAAAAAAAAAAACAAAAAAAAAAAAAAAAAAAAAAAAAAAAAAAAAAAAAAAAAAAAAAADAAAAAgAAAAAAAAAAAAAAAgAAAAAAAAAAAAAAAAAAAAAAAAAAAAAAAAAAAAAAAAAAAAAAAAAAAAAAAAAAAAAAAAAAAAIAAAAAAAAAAAAAAAIAAAAAAAAAAgAAAAAAAAAAAAAAAAAAAAAAAAAAAAAAAAAAAAAAAAAAAAAAAAAAAAMAAAAAAAAAAAAAAAIAAAAAAAAAAAAAAAAAAAADAAAAAwAAAAIAAAADAAAAAAAAAAAAAAADAAAAAAAAAAIAAAAAAAAAAAAAAAAAAAACAAAAAAAAAAAAAAAAAAAAAAAAAAAAAAACAAAAAwAAAAAAAAAAAAAAAAAAAAAAAAADAAAAAAAAAAAAAAAAAAAAAAAAAAAAAAAAAAAAAwAAAAAAAAAAAAAAAAAAAAIAAAAAAAAAAAAAAAIAAAADAAAAAAAAAAMAAAAAAAAAAAAAAAAAAAAAAAAAAwAAAAAAAAADAAAAAAAAAAAAAAAAAAAAAAAAAAAAAAAAAAAAAAAAAAIAAAAAAAAAAwAAAAAAAAAAAAAAAAAAAAIAAAAAAAAAAgAAAAIAAAAAAAAAAAAAAAAAAAAAAAAAAAAAAAAAAAAAAAAAAAAAAAIAAAAAAAAAAAAAAAAAAAACAAAAAAAAAAIAAAADAAAAAAAAAAAAAAADAAAAAAAAAAAAAAAAAAAAAAAAAAMAAAAAAAAAAAAAAAIAAAAAAAAAAAAAAAAAAAAAAAAAAgAAAAAAAAAAAAAAAwAAAAIAAAACAAAAAAAAAAIAAAAAAAAAAwAAAAMAAAACAAAAAAAAAAAAAAAAAAAAAAAAAAAAAAACAAAAAAAAAAAAAAAAAAAAAgAAAAAAAAAAAAAAAAAAAAAAAAAAAAAAAAAAAAAAAAADAAAAAAAAAAIAAAAAAAAAAAAAAAIAAAAAAAAAAAAAAAMAAAADAAAAAAAAAAAAAAAAAAAAAAAAAAAAAAAAAAAAAwAAAAIAAAAAAAAAAAAAAAIAAAAAAAAAAwAAAAAAAAAAAAAAAwAAAAIAAAADAAAAAAAAAAMAAAAAAAAAAAAAAAIAAAAAAAAAAwAAAAIAAAAAAAAAAAAAAAAAAAAAAAAAAgAAAAAAAAAAAAAAAgAAAAAAAAACAAAAAAAAAAAAAAACAAAAAAAAAAIAAAADAAAAAwAAAAMAAAADAAAAAwAAAAMAAAAAAAAAAAAAAAAAAAAAAAAAAAAAAAAAAAAAAAAAAAAAAAAAAAAAAAAAAwAAAAAAAAAAAAAAAAAAAAMAAAACAAAAAAAAAAAAAAAAAAAAAAAAAAIAAAAAAAAAAAAAAAIAAAAAAAAAAAAAAAAAAAAAAAAAAAAAAAAAAAAAAAAAAwAAAAIAAAACAAAAAAAAAAMAAAAAAAAAAAAAAAAAAAADAAAAAgAAAAMAAAAAAAAAAAAAAAAAAAAAAAAAAwAAAAAAAAAAAAAAAAAAAAIAAAAAAAAAAgAAAAAAAAADAAAAAwAAAAMAAAAAAAAAAgAAAAAAAAAAAAAAAwAAAAAAAAADAAAAAwAAAAMAAAACAAAAAgAAAAAAAAADAAAAAAAAAAAAAAAAAAAAAAAAAAMAAAAAAAAAAwAAAAIAAAADAAAAAAAAAAAAAAAAAAAAAgAAAAAAAAAAAAAAAwAAAAIAAAADAAAAAAAAAAMAAAAAAAAAAAAAAAMAAAAAAAAAAwAAAAMAAAACAAAAAgAAAAAAAAAAAAAAAAAAAAAAAAADAAAAAgAAAAAAAAAAAAAAAgAAAAIAAAADAAAAAwAAAAAAAAADAAAAAAAAAAAAAAAAAAAAAwAAAAIAAAADAAAAAgAAAAIAAAAAAAAAAgAAAAAAAAAAAAAAAgAAAAMAAAACAAAAAAAAAAMAAAADAAAAAgAAAAAAAAACAAAAAwAAAAMAAAADAAAAAwAAAAAAAAACAAAAAwAAAAAAAAADAAAAAAAAAAIAAAACAAAAAgAAAAIAAAADAAAAAAAAAAMAAAAAAAAAAAAAAAIAAAAAAAAAAgAAAAMAAAACAAAAAAAAAAAAAAADAAAAAwAAAAAAAAADAAAAAgAAAAAAAAACAAAAAgAAAAAAAAADAAAAAgAAAAAAAAAAAAAAAAAAAAAAAAACAAAAAwAAAAIAAAADAAAAAAAAAAAAAAACAAAAAwAAAAAAAAADAAAAAwAAAAMAAAADAAAAAAAAAAAAAAADAAAAAAAAAAMAAAACAAAAAAAAAAAAAAACAAAAAAAAAAAAAAAAAAAAAAAAAAAAAAAAAAAAAAAAAAAAAAACAAAAAAAAAAAAAAAAAAAAAwAAAAAAAAADAAAAAAAAAAIAAAAAAAAAAAAAAAAAAAAAAAAAAAAAAAAAAAAAAAAAAAAAAAAAAAAAAAAAAwAAAAAAAAAAAAAAAgAAAAAAAAAAAAAAAAAAAAAAAAACAAAAAgAAAAAAAAAAAAAAAwAAAAAAAAADAAAAAgAAAAMAAAACAAAAAgAAAAIAAAACAAAAAQAAAAIAAAACAAAAAAAAAAMAAAADAAAAAgAAAA==\",\"dtype\":\"int32\",\"order\":\"little\",\"shape\":[532]},\"CoinName\":[\"42 Coin\",\"404Coin\",\"EliteCoin\",\"Bitcoin\",\"Ethereum\",\"Litecoin\",\"Dash\",\"Monero\",\"Ethereum Classic\",\"ZCash\",\"Bitshares\",\"DigiByte\",\"BitcoinDark\",\"PayCoin\",\"ProsperCoin\",\"KoboCoin\",\"Spreadcoin\",\"Argentum\",\"Aurora Coin\",\"BlueCoin\",\"MyriadCoin\",\"MoonCoin\",\"ZetaCoin\",\"SexCoin\",\"Quatloo\",\"EnergyCoin\",\"QuarkCoin\",\"Riecoin\",\"Digitalcoin \",\"BitBar\",\"Catcoin\",\"CryptoBullion\",\"CannaCoin\",\"CryptCoin\",\"CasinoCoin\",\"Diamond\",\"Verge\",\"DevCoin\",\"EarthCoin\",\"E-Gulden\",\"Einsteinium\",\"Emerald\",\"Exclusive Coin\",\"FlutterCoin\",\"Franko\",\"FeatherCoin\",\"GrandCoin\",\"GlobalCoin\",\"GoldCoin\",\"HoboNickels\",\"HyperStake\",\"Infinite Coin\",\"IOCoin\",\"IXcoin\",\"KrugerCoin\",\"LuckyCoin\",\"Litebar \",\"MaxCoin\",\"MegaCoin\",\"MediterraneanCoin\",\"MintCoin\",\"MinCoin\",\"MazaCoin\",\"Nautilus Coin\",\"NavCoin\",\"NobleCoin\",\"Namecoin\",\"NyanCoin\",\"OpalCoin\",\"Orbitcoin\",\"PotCoin\",\"PhoenixCoin\",\"Reddcoin\",\"RonPaulCoin\",\"StableCoin\",\"SmartCoin\",\"SuperCoin\",\"SyncCoin\",\"SysCoin\",\"TeslaCoin\",\"TigerCoin\",\"TittieCoin\",\"TorCoin\",\"TerraCoin\",\"UnbreakableCoin\",\"Unobtanium\",\"UroCoin\",\"UnitaryStatus Dollar\",\"UltraCoin\",\"ViaCoin\",\"VeriCoin\",\"Vertcoin\",\"WorldCoin\",\"X11 Coin\",\"Crypti\",\"JouleCoin\",\"StealthCoin\",\"ZCC Coin\",\"ByteCoin\",\"DigitalNote \",\"BurstCoin\",\"StorjCoin\",\"MonaCoin\",\"Neutron\",\"FairCoin\",\"Gulden\",\"RubyCoin\",\"PesetaCoin\",\"Kore\",\"Wild Beast Coin\",\"Dnotes\",\"Flo\",\"8BIT Coin\",\"Sativa Coin\",\"ArtByte\",\"Folding Coin\",\"Ucoin\",\"Unitus\",\"CypherPunkCoin\",\"OmniCron\",\"Vtorrent\",\"GreenCoin\",\"Cryptonite\",\"MasterCoin\",\"SoonCoin\",\"1Credit\",\"IslaCoin\",\"Nexus\",\"MarsCoin \",\"Crypto\",\"Anarchists Prime\",\"Droidz\",\"BowsCoin\",\"Squall Coin\",\"Song Coin\",\"BitZeny\",\"Diggits\",\"Expanse\",\"Paycon\",\"Siacoin\",\"Emercoin\",\"EverGreenCoin\",\"MindCoin\",\"I0coin\",\"Decred\",\"Revolution VR\",\"HOdlcoin\",\"EDRCoin\",\"Hitcoin\",\"Gamecredits\",\"DubaiCoin\",\"CarpeDiemCoin\",\"PWR Coin\",\"BillaryCoin\",\"GPU Coin\",\"Adzcoin\",\"SoilCoin\",\"YoCoin\",\"SibCoin\",\"EuropeCoin\",\"ZeitCoin\",\"SwingCoin\",\"SafeExchangeCoin\",\"Nebuchadnezzar\",\"Francs\",\"BolivarCoin\",\"Ratecoin\",\"Revenu\",\"Clockcoin\",\"VIP Tokens\",\"BitSend\",\"Omni\",\"Let it Ride\",\"PutinCoin\",\"iBankCoin\",\"Frankywillcoin\",\"MudraCoin\",\"PizzaCoin\",\"Lutetium Coin\",\"Komodo\",\"GoldBlocks\",\"CarterCoin\",\"Karbo\",\"BitTokens\",\"ZayedCoin\",\"MustangCoin\",\"ZoneCoin\",\"Circuits of Value\",\"RootCoin\",\"DopeCoin\",\"BitCurrency\",\"DollarCoin\",\"Swiscoin\",\"Shilling\",\"BuzzCoin\",\"Opair\",\"PesoBit\",\"Halloween Coin\",\"ZCoin\",\"CoffeeCoin\",\"RoyalCoin\",\"GanjaCoin V2\",\"TeamUP\",\"LanaCoin\",\"Elementrem\",\"ZClassic\",\"ARK\",\"InsaneCoin\",\"KiloCoin\",\"ArtexCoin\",\"EmberCoin\",\"XenixCoin\",\"FreeCoin\",\"PLNCoin\",\"AquariusCoin\",\"Kurrent\",\"Creatio\",\"Eternity\",\"Eurocoin\",\"BitcoinFast\",\"Stakenet\",\"BitConnect Coin\",\"MoneyCoin\",\"Enigma\",\"Cannabis Industry Coin\",\"Russiacoin\",\"PandaCoin\",\"GameUnits\",\"GAKHcoin\",\"Allsafe\",\"LiteCreed\",\"OsmiumCoin\",\"Bikercoins\",\"HexxCoin\",\"Klingon Empire Darsek\",\"Internet of People\",\"KushCoin\",\"Printerium\",\"PacCoin\",\"Impeach\",\"Citadel\",\"Zilbercoin\",\"FirstCoin\",\"BeaverCoin\",\"FindCoin\",\"VaultCoin\",\"Zero\",\"OpenChat\",\"Canada eCoin\",\"Zoin\",\"RenosCoin\",\"DubaiCoin\",\"VirtacoinPlus\",\"TajCoin\",\"Impact\",\"EB3coin\",\"Atmos\",\"HappyCoin\",\"Coinonat\",\"MacronCoin\",\"Condensate\",\"Independent Money System\",\"ArgusCoin\",\"LomoCoin\",\"ProCurrency\",\"GoldReserve\",\"BenjiRolls\",\"GrowthCoin\",\"ILCoin\",\"Phreak\",\"Degas Coin\",\"HTML5 Coin\",\"Ultimate Secure Cash\",\"EquiTrader\",\"QTUM\",\"Quantum Resistant Ledger\",\"Espers\",\"Dynamic\",\"Nano\",\"ChanCoin\",\"Dinastycoin\",\"Denarius\",\"DigitalPrice\",\"Virta Unique Coin\",\"Bitcoin Planet\",\"Unify\",\"BritCoin\",\"SocialCoin\",\"ArcticCoin\",\"DAS\",\"Linda\",\"LeviarCoin\",\"DeepOnion\",\"Bitcore\",\"gCn Coin\",\"SmartCash\",\"Signatum\",\"Onix\",\"Cream\",\"Bitcoin Cash\",\"Monoeci\",\"Draftcoin\",\"Vechain\",\"Sojourn Coin\",\"Stakecoin\",\"NewYorkCoin\",\"FrazCoin\",\"Kronecoin\",\"AdCoin\",\"Linx\",\"CoinonatX\",\"Ethereum Dark\",\"Sumokoin\",\"Obsidian\",\"Cardano\",\"Regalcoin\",\"BitcoinZ\",\"TrezarCoin\",\"Elements\",\"TerraNovaCoin\",\"VIVO Coin\",\"Rupee\",\"Bitcoin Gold\",\"WomenCoin\",\"Theresa May Coin\",\"NamoCoin\",\"LUXCoin\",\"Pirl\",\"Xios\",\"Bitcloud 2.0\",\"eBoost\",\"KekCoin\",\"BlackholeCoin\",\"Infinity Economics\",\"Pura\",\"Innova\",\"Ellaism\",\"GoByte\",\"Magnet\",\"Lamden Tau\",\"Electra\",\"Bitcoin Diamond\",\"SHIELD\",\"Cash & Back Coin\",\"UltraNote\",\"BitCoal\",\"DaxxCoin\",\"Bulwark\",\"Kalkulus\",\"AC3\",\"Lethean\",\"GermanCoin\",\"LiteCoin Ultra\",\"PopularCoin\",\"PhantomX\",\"Photon\",\"Sucre\",\"SparksPay\",\"Digiwage\",\"GunCoin\",\"IrishCoin\",\"Trollcoin\",\"Litecoin Plus\",\"Monkey Project\",\"Pioneer Coin\",\"UnitedBitcoin\",\"Interzone\",\"TokenPay\",\"1717 Masonic Commemorative Token\",\"My Big Coin\",\"TurtleCoin\",\"MUNcoin\",\"Unified Society USDEX\",\"Niobio Cash\",\"ShareChain\",\"Travelflex\",\"KREDS\",\"Tokyo Coin\",\"BiblePay\",\"LitecoinCash\",\"BitFlip\",\"LottoCoin\",\"Crypto Improvement Fund\",\"Stipend\",\"Poa Network\",\"Pushi\",\"Ellerium\",\"Velox\",\"Ontology\",\"Callisto Network\",\"BitTube\",\"Poseidon\",\"Aidos Kuneen\",\"Bitspace\",\"Briacoin\",\"Ignition\",\"Bitrolium\",\"MedicCoin\",\"Alpenschillling\",\"Bitcoin Green\",\"Deviant Coin\",\"Abjcoin\",\"Semux\",\"FuturoCoin\",\"Carebit\",\"Zealium\",\"Monero Classic\",\"Proton\",\"iDealCash\",\"Jumpcoin\",\"Infinex\",\"Bitcoin Incognito\",\"KEYCO\",\"HollyWoodCoin\",\"GINcoin\",\"PlatinCoin\",\"Loki\",\"Newton Coin\",\"Swisscoin\",\"Xt3ch\",\"MassGrid\",\"TheVig\",\"PluraCoin\",\"EmaratCoin\",\"Dekado\",\"Lynx\",\"Poseidon Quark\",\"BitcoinWSpectrum\",\"Muse\",\"Motion\",\"PlusOneCoin\",\"Axe\",\"Trivechain\",\"Dystem\",\"Giant\",\"Peony Coin\",\"Absolute Coin\",\"Vitae\",\"HexCoin\",\"TPCash\",\"Webchain\",\"Ryo\",\"Urals Coin\",\"Qwertycoin\",\"ARENON\",\"EUNO\",\"MMOCoin\",\"Ketan\",\"Project Pai\",\"XDNA\",\"PAXEX\",\"Azart\",\"ThunderStake\",\"Kcash\",\"Xchange\",\"Acute Angle Cloud\",\"CrypticCoin\",\"Bettex coin\",\"Actinium\",\"Bitcoin SV\",\"BitMoney\",\"Junson Ming Chan Coin\",\"FREDEnergy\",\"HerbCoin\",\"Universal Molecule\",\"Lithium\",\"PirateCash\",\"Exosis\",\"Block-Logic\",\"Oduwa\",\"Beam\",\"Galilel\",\"Bithereum\",\"Crypto Sports\",\"Credit\",\"SLICE\",\"Dash Platinum\",\"Nasdacoin\",\"Beetle Coin\",\"Titan Coin\",\"Award\",\"BLAST\",\"Bitcoin Rhodium\",\"GlobalToken\",\"Insane Coin\",\"ALAX\",\"LiteDoge\",\"SolarCoin\",\"TruckCoin\",\"UFO Coin\",\"OrangeCoin\",\"BlakeCoin\",\"BitstarCoin\",\"NeosCoin\",\"HyperCoin\",\"PinkCoin\",\"Crypto Escudo\",\"AudioCoin\",\"IncaKoin\",\"Piggy Coin\",\"Crown Coin\",\"Genstake\",\"SmileyCoin\",\"XiaoMiCoin\",\"Groestlcoin\",\"CapriCoin\",\" ClubCoin\",\"Radium\",\"Bata\",\"Pakcoin\",\"Creditbit \",\"OKCash\",\"Lisk\",\"HiCoin\",\"WhiteCoin\",\"FriendshipCoin\",\"JoinCoin\",\"Triangles Coin\",\"Vollar\",\"EOS\",\"Reality Clash\",\"Oxycoin\",\"TigerCash\",\"Waves\",\"Particl\",\"BitTorrent\",\"Nxt\",\"ZEPHYR\",\"Gapcoin\",\"Beldex\",\"Horizen\",\"BitcoinPlus\"],\"PC_1\":{\"__ndarray__\":\"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\",\"dtype\":\"float64\",\"order\":\"little\",\"shape\":[532]},\"PC_2\":{\"__ndarray__\":\"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\",\"dtype\":\"float64\",\"order\":\"little\",\"shape\":[532]},\"PC_3\":{\"__ndarray__\":\"nRVXyxrR1z9PzjhvbOPXP2fnDLKDI+A/q+hpgjyqsr83z9i8TTPwPx3+IAfDhdG/eCPMmoY5vL8DmsxwtFj1PwoT7cI1NfA/scdjBd188T97E8gbkTP0v5x1fm/Mt98/7UtG/6xX4j8KmSNofWXyv3z0ogH/h9G/cm3v1TxN0b/MERZBKDTovwJVapZwhtG/Sut3U7LR1z/qNuS0ftDXP5AVS1S3Dt0/zCC9u1584j+QGOyMMZWyv3w/jAfLf9G/oAZJgyCF0b9ZLn6Q/NDXPzZ76agcf6C/F6gpdCCM7D8idu8YCYfRvzpqQ28f0dc/JjbsXP+H0b/Kb0vXI9HXP56YedxHiNG/N6wGzTA06L83pqA8V633vzCtQ9bQm/g/vy6gdvAR3z8/PWMqzSOcv522Azp3VM+/LVvYuQKI0b/t6j3vEX7Rv740lg2ch9G/1IQ+dSIT7b/djurEN43mvxZaKLNYiNG/2v+Ajkqu1z/0K6Uj+1XRv/YdSOhFhtG/8ghEHiuG0b+Jk0glYdXXP+BTQ0FvVf2/WhZKcCAOtL8FGPYSjzm8vzJF0p0/qrK/EwfWG0F/0b+BSp+jC4jRv3slyKa0iNG/4eaagV5n2j/uuL+cQ4fRvxHLEYmM++k/QiKbIRKi9b8VtEBXZYjRv1D1rrZ0guI/fqFz0tGc9b8wT5rtOmnIv7ulaGru086/GdLPXzmqsr+5IrhF1HzRv3nwFughaci/WyiOjxE/8D+qmrcSJ+DXPw9SLkGY1Nc/0XC/ovm01z+ZV1Xc/YfRvzEB6k2xf9G/5LIu8uqG0b9YUjJKC1X9v4lMuUywPLy/zil1708usr/9h99+8A/kv+3O/8iNprK/23eAehYO6b+uj0SmPTu8v3LW4gg0p7K/sNyQyJmhsr/An3gvL62yv266bw6ENOi/410gkjAK2D/BydmvsNTXPzqk8Kvwh9G/Q8usYWdR37/Yfif2XUHiP/oQjEk5f9G/Vpuig+o7vL8GulcJxBHkv4GYOmLUprK/OUAOuCppyL8ZTDbFTPXXP/RKGlOoAf0/VfHUdz379j/vLOw6SUX6vxtFGGrtQdg/zZc81P+E0b+JndZNfljiPw5wUZbDm/g/Kgme+RpM0b/H5TMg+Jz1v/8v9fDWgtG/UX29MjxoyL+/4VmJqIjRv04J72N2mPW/1HdK+BWD0b8DMvBuGtHXP50xhuZjaMi/gjROSi1l0b//lERin2rgv/HkUdTZVP2/Sz9BYpnH3D8IRAumYIR+P5gpYhGkiNG/oQ5p/dHR1z+yUMEkziHQvxr6njKInN8/bR70U7uI0b+Qg94jN6qyv7FHsLPq5rG/BTG10rE8vL/WWNJCG/DwP8OhjmDuM+i/7ri/JGaK4z+JdlxodqWyv7vQECxmM+Y/MjicLiQ06L8MeEfouHD2v2DCUjclgdG/8DMj7r1/0b957AkKFJz1v8e++QV7M/A/ANlOjINlyL/mQl/EzSz5PyxlrbRsaeI/x3tNEf1Y0b/a4ThwOzTov41GtoY/qrK/S0nN9bS8AkCk2cIIU4HRv38NeR+FEf0/E3dqtKxX4j+rRQFJw6eqv2HUi7LEhdG/1r6ACXdX4j9ZQ20JOeWav3NpMMNK4fA/lw8BSJ/S1z+0zbLd9pr1vw40NMACM+i/oSIBfPZq8z+hHBYJo4LRv4c24q9ufem/ytkbL+oEvL9nQhw9fCLyv3WIvVYAWOI//U9K1B/8+L92UosxxxLtv7hdf4EIiNG/doRWThE06L9r18jYTTK8v6WsF51SW+I/HFMLpc5g4j+7NOJPgeTwP4OEEjSUKLy/wYr6WruI0b+q9UJmMsnrv9GN1Lj/GNg/yTvXFbbS1z+Y+Wl2pNTXP+KaK6ePnP6//OpYzA806L/WN3edOE/9vy6ELS8pbA1Ay8ObKXs1vL/dtHZmVdTXP7kDGY8kovY/1CthbqhX4j9Cccwn1KuyvzFpnlpBPLy/8ssygt3R1z/igNeHTvLcP6f0QFEa0dc/mCW6LJmB0b95dR3fAJ31vz8nAWW1q7K/rVVB4izp6T+x946ZrIfRv/sXKfqQJuE/Sn3KqtIR7b9ynCqPEtHXP/W2FW2uY7u/T0gk3uf24D8AYdr6eRLtv5GHPM1anv6/sPn/RGiHzb+oXcjyqw3tv6AuQfxwTOA/TVY6r48z8D8OWzUh3XzxPwjmE9M61/G/ONlRFGY4vL95laHdkR3Qv2it2IfTK+i/5N0cgkHcyL+JMgW+JDy8v2pZ3lc/Eu2/wUWVG33S1z+gddjjoNLXPwArwPpmMOi/dlKLMccS7b9sKo69/TO8v2OS/1OiV+I/PIFIzEjS1z8c3SbB91v2P8gyiIkc0tc/JTjLw7zo1z/y5/IW9zu8v+GWiY8+ovY/64J3RVTW1z+NtofUsn30v11P/96S0dc/sjzw0jjR1z+8A9tby8Dxv4wLql1i6+Q/oISm6KeI0b/OCjVZR6L2P9UR4h1kieM/QHRTEkDj1z8w8awxqFfiPzsZHNdZO7y/95jD79HR1z+0vulm6Rvhv8YL0r/m0dc/Gh1ZDmNa9T/2ZJS6dpz1vzUVrc3OzuI/aHihcqKI0b+IWl6TP57+vxBBu3lcIui/3Ew/v9N88T/oWPR6e/TXP7DEMzs3hdG/7OVuO5WJ4z+5ddibqJz1vzW3vvoJxvI/JkZhVjQuvL9Rddg/GxgCQBHqXQMgLby/1tHKXXf30L8zb+RuLhHtv/Zx4Yw8Lry/qjmwLLc22j8P1wKZDgztvwYP7Th79Lu/tugVzN7R1z+P2vaOJNLXP3MREgBx9dc/1qwafJp477/+Kc/V8Da8v0FFIH97h9G/5viPat2K9b9mGYLH50axv+8Z2p+XEu2/Tfe2SubU1z9LhHBiYeqyv/DvFRDJY/K/UQeJhyaG0b8sQ7ajBMjrv6JLjHGlWfU/O5mwa6hBBECnXAK3bcf7P6F4SYfNN/k/Uo4Jtarr9z8+htXTybP2P+SUUCLM4/A/ngaDG7cy6L8gGsVWyOTwP1s3zKKpHNA/SKXREhKI0b/r4PrE9mbIv6E8eYgIhtG/2UZrCXAz6L/KKMBSLDTov0oKQm5J4d4/NmjLfoqi9j/lWTmixWfIvxJPF0bDDuO/0Cf9K3d8xD9DVNz8qnXmP1D+Mgka0/i/ZMdwq5Yg6L+tXT+unxzQPxxjn5M8qrK/9t5I7Vo7vL/mpKgfz5z1v4PJhzITIvM/hrzlmTYL0L9yjne9AxLtv8z+fX/5EdK/rJKHRgmI0b9zVoHUt4XRv+2fkbkmhdG/aKnX/CaF0b9GI6PZ1tLXP8Dy/dRA0dc/OX/Z89ui9j/MJiwsy1L0v6r1UZuayOS/+I7t0co4vL90r/3RMTryPw92EAKgQvA/XX3GxxsV6L9mB8/erNHXP8wqJV9Co9c/PwHiNkI14L/94wRr3HzxP3RMeE0JL9s/AYn3owxZ4j9wY5doee7wP1c9c3V37O0/ZLntexps8z+R3WGd3dHXPypAypM9pOM/2LBrRDeF0b8NSPsGEYDqv/RiCVeg0dc/yxMSMgAW8r/GhlCFPS7ov6gEWUXpo9c/I7v1ut418D/VbQ+dbqPXP0feG7rnJ7y/Dbg6x93T8b9GdWyXbO3xPxKnXaYxWsi/bhsAlS7f3D9Dp7gFodjXP7UJHiuYofk/Zuuzkyqi9j8Oqm0vDI7wP7tqd8GQWuW/gqBSIMDA8b+qgdOhjyrovwQgp8auYfU/6XA4x0Dl3j/qnzsTjNbXP/zh6hHf1tC/TMm9QZg1vL9C/4FdIU3+PwCbn1UoNOi/bd9Cpwmj1z+evQg02L/xv07i5MAptNc/OHAKw3iG0b8rba61PfHXPwWZVWM/0dc/7o/4m9dU/b+NW/34GTTovwjZ5r1dqrK/DQZR+EaQ+D+VarW0V8nrv4l/dVLjdrC/5/d49CETxD8Fk6pczggNQGG28/7p0tu/Dkf5Pk/Z1z+13Uz0EqX2P1SOGhP6JtC/4W3OCJNr8z9wMxHCilPiP0mIryMql/6/mTa15Y/6+b9iavJLJKK6P6aLCedPh9G/OPJBiJnzzb+echZHiCvovxwngrdacwFADclDwE0Q9r9YJJ47EDm8v96ScXwhfda/S3SJp9eb9b8ERapGwgL8v25b9G1RbvA/MnYwcx6r9j+EN9qW/ofRvzKtvjAIr+g/4HYYkSjk8D8nCUF+NtHXP9CL4gNJ0dc/31PGC0t98T8GmoUUfJj1v45e9UD1++A/ZuRaYc+Ewr8lQRMlixHtv0bEzG8v0tc/TMLY/dN2BcCdoZKytjLov9Qksy8wpOM/nbEKB68R7b+9PjSXN6L2PxFqeUH+RQDAiony8t+J2D+hnYj6tjXaP5VBKHGvieM/Up5NlJFM+r8BJtRsJ1jkv2JdRV68nPW/rObTPbX24D+VGQIhgaf2P8hZJU29/vU/jwEYAKkf/T9htbP+9DnZPwbFbJmQnPW/oYJyZzto5z8jU+KUxozfP2ZxdvgAq/Y/N7lD4iLU1z9DjW1O6eb/v0GgdaRU0wHAO4+MIga78b+lQUQftGTyv/umLGD/pcY/27VLqdei7r+81OcqqEHrP46qztgiNOi/FdrwJKjp0781xsAxvcDxv37Q91i2oOM/3Rn0sJ4D9b9eSFr73nbzP6GQRhgJwPG/eHzqp/OH0b/CdrLLb/XXP6OEJk+aaPU/0BbSJNa09D+G9LOxxujvv0okCi5Icfw/pxjBc4lU/b++YtAaijW8vxesPmygmvW/PLtRKVIP7b8xyvMfDISxv8ZMegO9Z/U/NPfs5B9U/b/FtLs+EDTov54SXFkoXto/dVHfJ9prAUDQXSlsbaHuv2ZiuceqL/e/W2xD+7LA8T871i2WTpgAwM0lGUkK+OA/UWDZkjyqsr+kFPRNSUnlP22voAwpWf2/KuDR1AHr9j/8NjXxlaHjP1hc9QILf/o/O3J9V1B++j91L32JcbaQPxJPDwqyHe8/kTOIU22E0b+o6EiD2tHXP43c0JsNf/E/dpyjafWg4z+Jga7r8nzxP7a+Vp/OwPG/gK2Kc8Yo4T+ubq9qiGx/P1GB42faVP2/YFp4JCPU1z+ZMds5VW3Wv+71v/z/HuA/Kor/krP/u79r3MhGHqSyv4G2iNsqx+q/onh3QyCVsr+yyPZqazi8v1QiubR+z/G//fw+VzW63D8lq4DCAOGsv2aCna6ePby/G47fCvYv2D+2jxBkXtjXP0cH9Eisvfo/oredcg7T1z9tmCQsaWXyvzPLlm0Y0dc/KnoIbbD1u7/Z5CdDKmXRv0x/JVe0Tdk/Yxs+Kx9S4j+9EkylPK27v44/2RU0p7K/JgQdl5fR1z95ZaQljxjFvz3hfGhA39c/g9cUNn+M7D9/eBWnOh+8vxAabrbR1tc/o9yGXvgS7b9QjPeqk4jRv+L2LAg1gtG/aOF+MEjp8j/xRcIHJlniP12/G1jq1vG/UqUcNXBE9b/lfd2Ww9vXP7YHKNmUP/A/V0Eym8LH3D9vtA5MGGnIv6YVYBMO6/A/jSXGjJXY8b/PbqnLizPwP4qXx82b2PG/HIB+kcFc8r8LHS1SO5n0v9XT4736Eu2/2X+Dgj0t6b+dGuUgIh3mv5gfpqFrgAPAEslgtSza1z8i8Zfria72PwT8vwbdfPE/y/t/I/Sc9b8=\",\"dtype\":\"float64\",\"order\":\"little\",\"shape\":[532]},\"ProofType\":[\"PoW/PoS\",\"PoW/PoS\",\"PoW/PoS\",\"PoW\",\"PoW\",\"PoW\",\"PoW/PoS\",\"PoW\",\"PoW\",\"PoW\",\"PoS\",\"PoW\",\"PoW/PoS\",\"PoS\",\"PoW\",\"PoW/PoS\",\"PoW\",\"PoW\",\"PoW/PoS\",\"PoW/PoS\",\"PoW\",\"PoW\",\"PoW\",\"PoW\",\"PoW\",\"PoW/PoS\",\"PoW\",\"PoW\",\"PoW\",\"PoW/PoS\",\"PoW\",\"PoW/PoS\",\"PoW\",\"PoW\",\"PoC\",\"PoW/PoS\",\"PoW\",\"PoW\",\"PoW\",\"PoW\",\"PoW\",\"PoW\",\"PoS\",\"PoS/PoW/PoT\",\"PoW\",\"PoW\",\"PoW\",\"PoW\",\"PoW\",\"PoW/PoS\",\"PoS\",\"PoW\",\"PoW/PoS\",\"PoW\",\"PoW\",\"PoW\",\"PoW\",\"PoW/PoS\",\"PoW\",\"PoW\",\"PoS\",\"PoW\",\"PoW/PoS\",\"PoS\",\"PoW/PoS\",\"PoW\",\"PoW\",\"PoW\",\"PoW/PoS\",\"PoW/PoS\",\"PoW/PoS\",\"PoW/PoS\",\"PoW/PoS\",\"PoW\",\"PoW\",\"PoW\",\"PoS\",\"PoW/PoS\",\"PoW\",\"PoS\",\"PoW\",\"PoS\",\"PoW/PoS\",\"PoW\",\"PoW\",\"PoW\",\"PoW\",\"PoW/PoS\",\"PoW/PoS\",\"PoW\",\"PoST\",\"PoW\",\"PoW\",\"PoW/PoS\",\"PoS\",\"PoW\",\"PoW/PoS\",\"PoW/PoS\",\"PoW\",\"PoW\",\"PoC\",\"PoS\",\"PoW\",\"PoW/PoS\",\"PoW/PoS\",\"PoW\",\"PoS\",\"PoW\",\"PoW/PoS\",\"PoW\",\"PoS\",\"PoW\",\"PoW/PoS\",\"PoW/PoS\",\"PoW\",\"PoW\",\"PoS\",\"PoW\",\"PoW\",\"PoW\",\"PoW/PoS\",\"PoW\",\"PoW\",\"PoW\",\"PoW\",\"PoW\",\"PoW/PoS\",\"PoW/nPoS\",\"PoW\",\"PoW\",\"PoW\",\"PoW/PoS\",\"PoW\",\"PoS/PoW\",\"PoW\",\"PoW\",\"PoS\",\"PoW\",\"PoW/PoS\",\"PoW\",\"PoW/PoS\",\"PoW/PoS\",\"PoW\",\"PoW\",\"PoW/PoS\",\"PoW\",\"PoW\",\"PoW/PoS\",\"PoW/PoS\",\"PoW\",\"PoW/PoS\",\"PoW\",\"PoW/PoS\",\"PoW/PoS\",\"PoS\",\"PoW\",\"PoW\",\"PoW\",\"PoW\",\"PoW/PoS\",\"PoS\",\"PoW/PoS\",\"PoC\",\"PoS\",\"PoW\",\"PoW\",\"PoW/PoS\",\"PoW/PoS\",\"PoW/PoS\",\"PoW/PoS\",\"PoW/PoS\",\"PoW\",\"PoS\",\"PoW/PoS\",\"PoW/PoS\",\"PoW/PoS\",\"PoS\",\"PoW\",\"PoS\",\"dPoW/PoW\",\"PoW/PoS\",\"PoW/PoS\",\"PoW\",\"PoW/PoS\",\"PoW\",\"PoW/PoS\",\"PoW/PoS\",\"PoW\",\"PoW/PoS\",\"PoW\",\"PoS\",\"PoW\",\"PoW/PoW\",\"PoW\",\"PoW/PoS\",\"PoS\",\"PoW/PoS\",\"PoW/PoS\",\"PoW\",\"PoS\",\"PoS\",\"PoW/PoS\",\"PoS\",\"PoW/PoS\",\"PoW\",\"PoW\",\"DPoS\",\"PoW/PoS\",\"PoW\",\"PoW\",\"PoW/PoS\",\"PoW/PoS\",\"PoS\",\"PoW/PoS\",\"PoW/PoS\",\"PoW\",\"PoS\",\"PoW/PoS\",\"PoW/PoS\",\"PoW/PoS\",\"TPoS\",\"PoW/PoS\",\"PoW/PoS\",\"PoW/PoS\",\"PoW\",\"PoW/PoS\",\"PoS\",\"PoW/PoS\",\"PoW/PoS\",\"PoS\",\"PoW/PoS\",\"PoW\",\"PoW\",\"PoW\",\"PoW/PoS\",\"PoW/PoS\",\"PoW/PoS\",\"PoW/PoS\",\"PoW\",\"PoW/PoS\",\"PoW\",\"PoS\",\"PoW/PoS \",\"PoW\",\"PoS\",\"PoW\",\"PoW\",\"PoW/PoS\",\"PoW\",\"PoW\",\"PoS\",\"PoW\",\"PoW/PoS\",\"PoW/PoS\",\"PoW/PoS\",\"PoW\",\"PoS\",\"PoW/PoS\",\"PoW\",\"PoS\",\"PoW/PoS\",\"PoW/PoS\",\"PoW/PoS\",\"PoW/PoS\",\"PoS\",\"PoW/PoS\",\"PoW\",\"PoS\",\"PoW\",\"PoS\",\"PoW/PoS\",\"PoW/PoS\",\"PoS\",\"PoW\",\"PoS\",\"PoW\",\"PoW/PoS\",\"PoW\",\"PoW\",\"PoW\",\"PoW\",\"PoW/PoS\",\"PoW\",\"PoW/PoS\",\"PoW/PoS\",\"PoW\",\"PoW/PoS\",\"PoW\",\"PoW\",\"PoW\",\"PoW/PoS\",\"PoW\",\"PoW/PoS\",\"PoW\",\"PoW\",\"PoW\",\"PoS\",\"PoW\",\"PoW/PoS\",\"PoW\",\"PoW/PoS\",\"PoS\",\"Proof of Authority\",\"PoW\",\"PoS\",\"PoW\",\"PoW\",\"PoW\",\"PoW\",\"PoW\",\"PoW/PoS\",\"PoW/PoS\",\"PoW\",\"PoS\",\"PoS\",\"PoW/PoS\",\"PoW\",\"PoW/PoS\",\"PoW\",\"PoW/PoS\",\"PoW\",\"PoS\",\"PoW\",\"PoW/PoS\",\"PoW/PoS\",\"PoW/PoS\",\"PoW/PoS\",\"PoW\",\"PoW/PoS\",\"PoW/PoS\",\"PoW\",\"PoS\",\"PoW/PoS\",\"PoS\",\"PoW\",\"PoW\",\"PoW\",\"PoW\",\"PoW/PoS\",\"DPoS\",\"PoW/PoS\",\"PoW/PoS\",\"PoW\",\"PoW/PoS\",\"PoW\",\"PoW\",\"PoW\",\"PoS\",\"PoS\",\"PoW\",\"PoW\",\"PoW/PoS\",\"PoW/PoS\",\"PoW\",\"PoW/PoS\",\"PoW\",\"PoW\",\"PoW\",\"PoS\",\"PoW\",\"PoW\",\"PoW/PoS\",\"PoW/PoS\",\"PoS\",\"PoW\",\"PoW\",\"PoW\",\"PoS\",\"PoS\",\"PoW and PoS\",\"PoW\",\"PoW\",\"PoW/PoS\",\"PoW\",\"PoW\",\"PoW\",\"PoW\",\"PoS\",\"POBh\",\"PoW + Hive\",\"PoW\",\"PoW\",\"PoW\",\"PoW/PoS\",\"PoA\",\"PoW/PoS\",\"PoW/PoS\",\"PoS\",\"PoS\",\"PoW\",\"PoW\",\"PoW\",\"PoW\",\"PoW/PoS\",\"PoW/PoS\",\"PoW/PoS\",\"PoW\",\"PoS\",\"PoW\",\"PoS\",\"PoS\",\"PoW/PoS\",\"DPoS\",\"PoW\",\"PoW/PoS\",\"PoS\",\"PoW\",\"PoS\",\"PoW/PoS\",\"PoW\",\"PoW\",\"PoS/PoW\",\"PoW\",\"PoS\",\"PoW\",\"PoW\",\"PoW\",\"PoW\",\"PoW/PoS\",\"PoS\",\"PoW\",\"PoW/PoS\",\"PoW\",\"PoW/PoS\",\"PoS\",\"HPoW\",\"PoS\",\"PoS\",\"PoS\",\"PoW\",\"PoW\",\"PoW\",\"PoW/PoS\",\"PoS\",\"PoW/PoS\",\"PoS\",\"PoW/PoS\",\"PoS\",\"PoW\",\"PoW/PoS\",\"PoW\",\"PoW\",\"PoW\",\"PoW\",\"PoS\",\"PoW/PoS\",\"PoS\",\"PoS\",\"PoW\",\"PoW/PoS\",\"PoS\",\"PoW\",\"PoW/PoS\",\"Zero-Knowledge Proof\",\"PoW\",\"DPOS\",\"PoW\",\"PoS\",\"PoW\",\"PoW\",\"Pos\",\"PoS\",\"PoW\",\"PoW/PoS\",\"PoW\",\"PoW\",\"PoS\",\"PoW\",\"PoW\",\"PoW/PoS\",\"PoW\",\"PoW/PoS\",\"PoW\",\"PoS\",\"PoW/PoS\",\"PoW\",\"PoS\",\"PoW/PoS\",\"PoW/PoS\",\"PoW/PoS\",\"PoW/PoS\",\"PoW\",\"PoW\",\"PoW\",\"PoW/PoS\",\"DPoS\",\"PoW/PoS\",\"PoW\",\"PoW/PoS\",\"PoW\",\"PoW/PoS\",\"PoW\",\"PoW/PoS\",\"PoS\",\"PoW/PoS\",\"PoW/PoS\",\"PoW\",\"PoW/PoS\",\"PoW/PoS\",\"PoW/PoS\",\"PoW\",\"PoW/PoS\",\"PoW\",\"PoW/PoS\",\"PoW\",\"PoW/PoS\",\"PoW/PoS\",\"PoS\",\"PoW\",\"PoW\",\"Proof of Trust\",\"PoW/PoS\",\"DPoS\",\"PoS\",\"PoW/PoS\",\"PoW/PoS\",\"PoW\",\"PoW/PoS\",\"PoW\",\"DPoS\",\"PoW\",\"DPoS\",\"PoS\",\"LPoS\",\"PoS\",\"DPoS\",\"PoS/LPoS\",\"DPoS\",\"PoW/PoS\",\"PoW\",\"PoW\",\"PoS\"],\"TotalCoinSupply\":[\"42\",\"532000000\",\"314159265359\",\"21000000\",\"0\",\"84000000\",\"22000000\",\"0\",\"210000000\",\"21000000\",\"3600570502\",\"21000000000\",\"22000000\",\"12500000\",\"21000000\",\"350000000\",\"20000000\",\"64000000\",\"16768584\",\"0\",\"2000000000\",\"384000000000\",\"169795588\",\"250000000\",\"100000000\",\"0\",\"247000000\",\"84000000\",\"48166000\",\"500000\",\"21000000 \",\"1000000\",\"13140000\",\"18000000\",\"40000000000\",\"4380000\",\"16555000000\",\"21000000000\",\"13500000000\",\"21000000 \",\"299792458\",\"32000000\",\"0\",\"0\",\"11235813\",\"336000000\",\"1420609614\",\"70000000\",\"72245700\",\"120000000\",\"0\",\"90600000000\",\"22000000\",\"21000000\",\"265420800\",\"20000000\",\"1350000\",\"100000000\",\"42000000\",\"200000000\",\"0\",\"10000000\",\"2419200000\",\"16180000\",\"0\",\"15000000000\",\"21000000\",\"337000000\",\"0\",\"3770000\",\"420000000\",\"98000000\",\"0\",\"21000000\",\"250000000\",\"51200000\",\"0\",\"1000\",\"888000000\",\"100000000\",\"47011968\",\"2300000000\",\"10000000\",\"42000000\",\"80000000\",\"250000\",\"0\",\"1600000000\",\"100000000\",\"23000000\",\"0\",\"84000000\",\"265420800\",\"5500000\",\"0\",\"45000000\",\"0\",\"1000000000\",\"184467440735\",\"10000000000\",\"2158812800\",\"500000000\",\"105120000\",\"68000000\",\"0\",\"1680000000\",\"0\",\"166386000\",\"12000000\",\"2628000\",\"500000000\",\"160000000\",\"0\",\"10000000\",\"1000000000\",\"1000000000\",\"20000000\",\"0\",\"0\",\"3371337\",\"20000000\",\"10000000000\",\"1840000000\",\"619478\",\"21000000\",\"92000000000\",\"0\",\"78000000\",\"33000000\",\"65789100\",\"53760000\",\"5060000\",\"21000000\",\"0\",\"210240000\",\"250000000\",\"100000000\",\"16906397\",\"50000000\",\"0\",\"1000000000\",\"26298000\",\"16000000\",\"21000000\",\"21000000\",\"210000000\",\"81962100\",\"22000000\",\"26550000000\",\"84000000\",\"10500000\",\"21626280000 \",\"0\",\"42000000\",\"221052632\",\"84000000\",\"30000000\",\"168351300\",\"24000000\",\"384000000\",\" 99000000000\",\"40000000\",\"2147483647\",\"20000000\",\"20000000\",\"25000000\",\"75000000\",\"222725000\",\"525000000\",\"90000000\",\"139000000\",\"616448\",\"33500000\",\"2000000000\",\"44333333\",\"100000000\",\"200000000\",\"25000000\",\"657000000\",\"200000000\",\"50000000\",\"90000000\",\"10000000\",\"21000000\",\"9736000\",\"3000000\",\"21000000\",\"1200000000\",\"0\",\"200000000\",\"0\",\"10638298\",\"3100000000\",\"30000000\",\"20000000000\",\"74000000\",\"0\",\"1500000000\",\"21400000\",\"39999898\",\"2500124\",\"100000000\",\"301000000\",\"7506000000\",\"26205539\",\"21000000\",\"125000000\",\"30000000\",\"10000000000\",\"500000000\",\"850000000\",\"3853326.77707314\",\"50000000\",\"38540000 \",\"42000000\",\"228000000\",\"20000000\",\"60000000\",\"20000000\",\"33000000\",\"76500000\",\"28000000\",\"650659833\",\"5000000\",\"21000000\",\"144000000\",\"32514916898\",\"13000000\",\"3315789\",\"15000000\",\"78835200\",\"2714286\",\"25000000\",\"9999999\",\"500000000\",\"21000000\",\"9354000\",\"20000000\",\"100000000000\",\"21933333\",\"185000000\",\"55000000\",\"110000000\",\"3360000\",\"14524851.4827\",\"1000000000\",\"17000000\",\"1000000000\",\"100000000 \",\"21000000\",\"34426423\",\"2232901\",\"100000000\",\"36900000\",\"110000000\",\"4000000000\",\"110290030\",\"100000000\",\"48252000\",\"400000000\",\"500000000\",\"21212121\",\"28600000\",\"1000000000\",\"75000000000\",\"40000000\",\"35520400\",\"2000000000\",\"2500000000\",\"30000000\",\"105000000\",\"90000000000\",\"200084200\",\"72000000\",\"100000000\",\"105000000\",\"50000000000\",\"0\",\"340282367\",\"30000000\",\"2000000000\",\"10000000\",\"100000000\",\"120000000\",\"100000000\",\"19276800\",\"30000000\",\" 75000000\",\"60000000\",\"18900000\",\"50000000000\",\"54000000\",\"18898187.6216583\",\"21000000\",\"200000000000\",\"5000000000\",\"137500000\",\"1100000000\",\"100000000\",\"21000000\",\"9507271\",\"17405891.19707116\",\"86712634466\",\"10500000000\",\"61599965\",\"0\",\"20000000\",\"84000000\",\"100000000\",\"100000000\",\"48252000\",\"4200000\",\"88888888\",\"91388946\",\"45000000000\",\"27000000\",\"21000000000\",\"400000000\",\"1800000000\",\"15733333\",\"27000000\",\"24000000\",\"21000000\",\"25000000000\",\"100000000\",\"1200000000\",\"60000000\",\"156306732.71\",\"21000000\",\"200000000\",\"100000000\",\"21000000\",\"14788275.991\",\"9000000000\",\"350000000\",\"45000000\",\"280000000\",\"31800000\",\"144000000\",\"500000000\",\"30000000000\",\"210000000\",\"660000000\",\"210000000\",\"85000000000\",\"12500000\",\"10000000000\",\"27716121\",\"20000000\",\"550000000\",\"999481516\",\"50000000000\",\"150000000\",\"4999999999\",\"50000000\",\" 90000000000\",\"19800000\",\"21000000\",\"120000000\",\"500000000\",\"64000000\",\"900000000\",\"4000000\",\"21000000\",\"23000000\",\"20166000\",\"23000000\",\"25000000\",\"1618033\",\"30000000\",\"1000000000000\",\"16600000\",\"232000000\",\"336000000\",\"10000000000\",\"100000000\",\"1100000000\",\"800000000\",\"5200000000\",\"840000000\",\"40000000\",\"18406979840\",\"500000000\",\"19340594\",\"252460800\",\"25000000\",\"60000000\",\"124000000\",\"1000000000\",\"6500000000\",\"1000000000\",\"21000000\",\"25000000\",\"50000000\",\"3000000\",\"5000000\",\"70000000\",\"500000000\",\"300000000\",\"21000000\",\"88000000\",\"30000000\",\"100000000\",\"100000000\",\"200000000\",\"80000000\",\"18400000\",\"45000000\",\"5121951220\",\"21000000\",\"26280000\",\"21000000\",\"18000000\",\"26000000\",\"10500000\",\"600000518\",\"150000000\",\"184000000000\",\"10200000000\",\"44000000\",\"168000000\",\"100000000\",\"1000000000\",\"84000000\",\"90000000\",\"92000000000\",\"650000000 \",\"100262205\",\"18081806 \",\"22075700\",\"21000000\",\"21000000\",\"82546564\",\"21000000\",\"5151000\",\"16880000000\",\"52500000\",\"100000000\",\"22105263\",\"1000000000\",\"1750000000\",\"88188888\",\"210000000\",\"184470000000\",\"55000000\",\"50000000\",\"260000000\",\"210000000\",\"2100000000\",\"366000000\",\"100000000\",\"25000000\",\"18000000000\",\"1000000000\",\"100000000\",\"1000000000\",\"7600000000\",\"50000000\",\"84000000\",\"21000000\",\"70000000000\",\"0\",\"8080000000\",\"54000000\",\"105120001.44\",\"25228800\",\"105000000\",\"21000000\",\"120000000\",\"21000000\",\"262800000\",\"19035999\",\"30886000\",\"13370000\",\"74800000000\",\"100000000\",\"19700000\",\"84000000\",\"500000000\",\"5000000000\",\"420000000\",\"64000000\",\"2100000\",\"168000000\",\"30000000\",\"1000000000\",\"35000000000\",\"98100000000\",\"0\",\"4000000000\",\"200000000\",\"7000000000\",\"54256119\",\"21000000\",\"0\",\"500000000\",\"1000000000\",\"10500000000\",\"190000000\",\"1000000000\",\"42000000\",\"15000000\",\"50000000000\",\"400000000\",\"105000000\",\"208000000\",\"160000000\",\"9000000\",\"5000000\",\"182000000\",\"16504333\",\"105000000\",\"159918400\",\"10008835635\",\"300000000\",\"60168145\",\"2800000\",\"120000\",\"2100000000\",\"0\",\"24487944\",\"0\",\"1000000000\",\"100000000\",\"8634140\",\"990000000000\",\"1000000000\",\"2000000000\",\"250000000\",\"1400222610\",\"21000000\",\"1000000\"],\"TotalCoinsMined\":{\"__ndarray__\":\"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\",\"dtype\":\"float64\",\"order\":\"little\",\"shape\":[532]}},\"selected\":{\"id\":\"1241\"},\"selection_policy\":{\"id\":\"1290\"}},\"id\":\"1240\",\"type\":\"ColumnDataSource\"},{\"attributes\":{},\"id\":\"1278\",\"type\":\"StringEditor\"},{\"attributes\":{},\"id\":\"1290\",\"type\":\"UnionRenderers\"},{\"attributes\":{},\"id\":\"1273\",\"type\":\"NumberEditor\"},{\"attributes\":{},\"id\":\"1277\",\"type\":\"StringFormatter\"},{\"attributes\":{\"format\":\"0,0.0[00000]\"},\"id\":\"1252\",\"type\":\"NumberFormatter\"},{\"attributes\":{\"editor\":{\"id\":\"1248\"},\"field\":\"ProofType\",\"formatter\":{\"id\":\"1247\"},\"title\":\"ProofType\"},\"id\":\"1249\",\"type\":\"TableColumn\"},{\"attributes\":{\"editor\":{\"id\":\"1253\"},\"field\":\"TotalCoinsMined\",\"formatter\":{\"id\":\"1252\"},\"title\":\"TotalCoinsMined\"},\"id\":\"1254\",\"type\":\"TableColumn\"},{\"attributes\":{},\"id\":\"1283\",\"type\":\"IntEditor\"},{\"attributes\":{\"editor\":{\"id\":\"1278\"},\"field\":\"CoinName\",\"formatter\":{\"id\":\"1277\"},\"title\":\"CoinName\"},\"id\":\"1279\",\"type\":\"TableColumn\"},{\"attributes\":{},\"id\":\"1257\",\"type\":\"StringFormatter\"},{\"attributes\":{},\"id\":\"1241\",\"type\":\"Selection\"},{\"attributes\":{},\"id\":\"1253\",\"type\":\"NumberEditor\"},{\"attributes\":{},\"id\":\"1282\",\"type\":\"NumberFormatter\"},{\"attributes\":{\"editor\":{\"id\":\"1243\"},\"field\":\"Algorithm\",\"formatter\":{\"id\":\"1242\"},\"title\":\"Algorithm\"},\"id\":\"1244\",\"type\":\"TableColumn\"},{\"attributes\":{\"source\":{\"id\":\"1240\"}},\"id\":\"1289\",\"type\":\"CDSView\"},{\"attributes\":{\"editor\":{\"id\":\"1283\"},\"field\":\"Class\",\"formatter\":{\"id\":\"1282\"},\"title\":\"Class\"},\"id\":\"1284\",\"type\":\"TableColumn\"}],\"root_ids\":[\"1238\"]},\"title\":\"Bokeh Application\",\"version\":\"2.4.2\"}};\n",
       "    var render_items = [{\"docid\":\"15580e22-92a6-45b5-8da1-b2587250d529\",\"root_ids\":[\"1238\"],\"roots\":{\"1238\":\"c211ddff-610f-43da-a015-f892cc20414c\"}}];\n",
       "    root.Bokeh.embed.embed_items_notebook(docs_json, render_items);\n",
       "  }\n",
       "  if (root.Bokeh !== undefined && root.Bokeh.Panel !== undefined) {\n",
       "    embed_document(root);\n",
       "  } else {\n",
       "    var attempts = 0;\n",
       "    var timer = setInterval(function(root) {\n",
       "      if (root.Bokeh !== undefined && root.Bokeh.Panel !== undefined) {\n",
       "        clearInterval(timer);\n",
       "        embed_document(root);\n",
       "      } else if (document.readyState == \"complete\") {\n",
       "        attempts++;\n",
       "        if (attempts > 200) {\n",
       "          clearInterval(timer);\n",
       "          console.log(\"Bokeh: ERROR: Unable to run BokehJS code because BokehJS library is missing\");\n",
       "        }\n",
       "      }\n",
       "    }, 25, root)\n",
       "  }\n",
       "})(window);</script>"
      ],
      "text/plain": [
       ":Table   [Algorithm,ProofType,TotalCoinsMined,TotalCoinSupply,PC 1,PC 2,PC 3,CoinName,Class]"
      ]
     },
     "execution_count": 75,
     "metadata": {
      "application/vnd.holoviews_exec.v0+json": {
       "id": "1238"
      }
     },
     "output_type": "execute_result"
    }
   ],
   "source": [
    "# Create a table with tradable cryptocurrencies.\n",
    "clustered_df.hvplot.table(sortable=True, selectable=True)"
   ]
  },
  {
   "cell_type": "code",
   "execution_count": 76,
   "metadata": {},
   "outputs": [
    {
     "name": "stdout",
     "output_type": "stream",
     "text": [
      "There are 532 tradable cryptocurrencies.\n"
     ]
    }
   ],
   "source": [
    "# Print the total number of tradable cryptocurrencies.\n",
    "index = clustered_df.index\n",
    "print(f\"There are {len(index)} tradable cryptocurrencies.\")"
   ]
  },
  {
   "cell_type": "code",
   "execution_count": 77,
   "metadata": {},
   "outputs": [
    {
     "data": {
      "text/plain": [
       "array([[4.20000000e-11, 0.00000000e+00],\n",
       "       [5.32000000e-04, 1.06585544e-03],\n",
       "       [3.14159265e-01, 2.95755135e-02],\n",
       "       ...,\n",
       "       [1.40022261e-03, 9.90135079e-04],\n",
       "       [2.10000000e-05, 7.37028150e-06],\n",
       "       [1.00000000e-06, 1.29582282e-07]])"
      ]
     },
     "execution_count": 77,
     "metadata": {},
     "output_type": "execute_result"
    }
   ],
   "source": [
    "# Scaling data to create the scatter plot with tradable cryptocurrencies.\n",
    "mms = MinMaxScaler()\n",
    "clustered_df_scaled = mms.fit_transform(clustered_df[['TotalCoinSupply','TotalCoinsMined']])\n",
    "clustered_df_scaled"
   ]
  },
  {
   "cell_type": "code",
   "execution_count": 78,
   "metadata": {},
   "outputs": [
    {
     "data": {
      "text/html": [
       "<div>\n",
       "<style scoped>\n",
       "    .dataframe tbody tr th:only-of-type {\n",
       "        vertical-align: middle;\n",
       "    }\n",
       "\n",
       "    .dataframe tbody tr th {\n",
       "        vertical-align: top;\n",
       "    }\n",
       "\n",
       "    .dataframe thead th {\n",
       "        text-align: right;\n",
       "    }\n",
       "</style>\n",
       "<table border=\"1\" class=\"dataframe\">\n",
       "  <thead>\n",
       "    <tr style=\"text-align: right;\">\n",
       "      <th></th>\n",
       "      <th>TotalCoinSupply</th>\n",
       "      <th>TotalCoinsMined</th>\n",
       "      <th>CoinName</th>\n",
       "      <th>Class</th>\n",
       "    </tr>\n",
       "  </thead>\n",
       "  <tbody>\n",
       "    <tr>\n",
       "      <th>42</th>\n",
       "      <td>4.200000e-11</td>\n",
       "      <td>0.000000</td>\n",
       "      <td>42 Coin</td>\n",
       "      <td>0</td>\n",
       "    </tr>\n",
       "    <tr>\n",
       "      <th>404</th>\n",
       "      <td>5.320000e-04</td>\n",
       "      <td>0.001066</td>\n",
       "      <td>404Coin</td>\n",
       "      <td>0</td>\n",
       "    </tr>\n",
       "    <tr>\n",
       "      <th>1337</th>\n",
       "      <td>3.141593e-01</td>\n",
       "      <td>0.029576</td>\n",
       "      <td>EliteCoin</td>\n",
       "      <td>0</td>\n",
       "    </tr>\n",
       "    <tr>\n",
       "      <th>BTC</th>\n",
       "      <td>2.100000e-05</td>\n",
       "      <td>0.000018</td>\n",
       "      <td>Bitcoin</td>\n",
       "      <td>0</td>\n",
       "    </tr>\n",
       "    <tr>\n",
       "      <th>ETH</th>\n",
       "      <td>0.000000e+00</td>\n",
       "      <td>0.000109</td>\n",
       "      <td>Ethereum</td>\n",
       "      <td>3</td>\n",
       "    </tr>\n",
       "    <tr>\n",
       "      <th>LTC</th>\n",
       "      <td>8.400000e-05</td>\n",
       "      <td>0.000064</td>\n",
       "      <td>Litecoin</td>\n",
       "      <td>0</td>\n",
       "    </tr>\n",
       "    <tr>\n",
       "      <th>DASH</th>\n",
       "      <td>2.200000e-05</td>\n",
       "      <td>0.000009</td>\n",
       "      <td>Dash</td>\n",
       "      <td>0</td>\n",
       "    </tr>\n",
       "    <tr>\n",
       "      <th>XMR</th>\n",
       "      <td>0.000000e+00</td>\n",
       "      <td>0.000017</td>\n",
       "      <td>Monero</td>\n",
       "      <td>3</td>\n",
       "    </tr>\n",
       "    <tr>\n",
       "      <th>ETC</th>\n",
       "      <td>2.100000e-04</td>\n",
       "      <td>0.000115</td>\n",
       "      <td>Ethereum Classic</td>\n",
       "      <td>3</td>\n",
       "    </tr>\n",
       "    <tr>\n",
       "      <th>ZEC</th>\n",
       "      <td>2.100000e-05</td>\n",
       "      <td>0.000007</td>\n",
       "      <td>ZCash</td>\n",
       "      <td>3</td>\n",
       "    </tr>\n",
       "  </tbody>\n",
       "</table>\n",
       "</div>"
      ],
      "text/plain": [
       "      TotalCoinSupply  TotalCoinsMined          CoinName  Class\n",
       "42       4.200000e-11         0.000000           42 Coin      0\n",
       "404      5.320000e-04         0.001066           404Coin      0\n",
       "1337     3.141593e-01         0.029576         EliteCoin      0\n",
       "BTC      2.100000e-05         0.000018           Bitcoin      0\n",
       "ETH      0.000000e+00         0.000109          Ethereum      3\n",
       "LTC      8.400000e-05         0.000064          Litecoin      0\n",
       "DASH     2.200000e-05         0.000009              Dash      0\n",
       "XMR      0.000000e+00         0.000017            Monero      3\n",
       "ETC      2.100000e-04         0.000115  Ethereum Classic      3\n",
       "ZEC      2.100000e-05         0.000007             ZCash      3"
      ]
     },
     "execution_count": 78,
     "metadata": {},
     "output_type": "execute_result"
    }
   ],
   "source": [
    "# Create a new DataFrame that has the scaled data with the clustered_df DataFrame index.\n",
    "plot_df=pd.DataFrame(\n",
    "data=clustered_df_scaled, columns=['TotalCoinSupply','TotalCoinsMined'], index = clustered_df.index)\n",
    "\n",
    "# Add the \"CoinName\" column from the clustered_df DataFrame to the new DataFrame.\n",
    "plot_df['CoinName'] = clustered_df['CoinName']\n",
    "\n",
    "# Add the \"Class\" column from the clustered_df DataFrame to the new DataFrame. \n",
    "plot_df['Class'] = clustered_df['Class'] \n",
    "\n",
    "plot_df.head(10)"
   ]
  },
  {
   "cell_type": "code",
   "execution_count": 79,
   "metadata": {},
   "outputs": [
    {
     "data": {},
     "metadata": {},
     "output_type": "display_data"
    },
    {
     "data": {
      "application/vnd.holoviews_exec.v0+json": "",
      "text/html": [
       "<div id='1306'>\n",
       "\n",
       "\n",
       "\n",
       "\n",
       "\n",
       "  <div class=\"bk-root\" id=\"c90eee5c-d990-44f3-8d77-bd3a8e4182a3\" data-root-id=\"1306\"></div>\n",
       "</div>\n",
       "<script type=\"application/javascript\">(function(root) {\n",
       "  function embed_document(root) {\n",
       "    var docs_json = {\"f63cee1a-43d5-46a8-8b0b-9d2fe71a51eb\":{\"defs\":[{\"extends\":null,\"module\":null,\"name\":\"ReactiveHTML1\",\"overrides\":[],\"properties\":[]},{\"extends\":null,\"module\":null,\"name\":\"FlexBox1\",\"overrides\":[],\"properties\":[{\"default\":\"flex-start\",\"kind\":null,\"name\":\"align_content\"},{\"default\":\"flex-start\",\"kind\":null,\"name\":\"align_items\"},{\"default\":\"row\",\"kind\":null,\"name\":\"flex_direction\"},{\"default\":\"wrap\",\"kind\":null,\"name\":\"flex_wrap\"},{\"default\":\"flex-start\",\"kind\":null,\"name\":\"justify_content\"}]},{\"extends\":null,\"module\":null,\"name\":\"GridStack1\",\"overrides\":[],\"properties\":[{\"default\":\"warn\",\"kind\":null,\"name\":\"mode\"},{\"default\":null,\"kind\":null,\"name\":\"ncols\"},{\"default\":null,\"kind\":null,\"name\":\"nrows\"},{\"default\":true,\"kind\":null,\"name\":\"allow_resize\"},{\"default\":true,\"kind\":null,\"name\":\"allow_drag\"},{\"default\":[],\"kind\":null,\"name\":\"state\"}]},{\"extends\":null,\"module\":null,\"name\":\"click1\",\"overrides\":[],\"properties\":[{\"default\":\"\",\"kind\":null,\"name\":\"terminal_output\"},{\"default\":\"\",\"kind\":null,\"name\":\"debug_name\"},{\"default\":0,\"kind\":null,\"name\":\"clears\"}]},{\"extends\":null,\"module\":null,\"name\":\"TemplateActions1\",\"overrides\":[],\"properties\":[{\"default\":0,\"kind\":null,\"name\":\"open_modal\"},{\"default\":0,\"kind\":null,\"name\":\"close_modal\"}]},{\"extends\":null,\"module\":null,\"name\":\"MaterialTemplateActions1\",\"overrides\":[],\"properties\":[{\"default\":0,\"kind\":null,\"name\":\"open_modal\"},{\"default\":0,\"kind\":null,\"name\":\"close_modal\"}]}],\"roots\":{\"references\":[{\"attributes\":{\"fill_alpha\":{\"value\":0.1},\"fill_color\":{\"value\":\"#30a2da\"},\"hatch_alpha\":{\"value\":0.1},\"hatch_color\":{\"value\":\"#30a2da\"},\"line_alpha\":{\"value\":0.1},\"line_color\":{\"value\":\"#30a2da\"},\"size\":{\"value\":5.477225575051661},\"x\":{\"field\":\"TotalCoinsMined\"},\"y\":{\"field\":\"TotalCoinSupply\"}},\"id\":\"1354\",\"type\":\"Scatter\"},{\"attributes\":{},\"id\":\"1351\",\"type\":\"Selection\"},{\"attributes\":{\"angle\":{\"value\":0.0},\"fill_alpha\":{\"value\":1.0},\"fill_color\":{\"value\":\"#6d904f\"},\"hatch_alpha\":{\"value\":1.0},\"hatch_color\":{\"value\":\"#6d904f\"},\"hatch_scale\":{\"value\":12.0},\"hatch_weight\":{\"value\":1.0},\"line_alpha\":{\"value\":1.0},\"line_cap\":{\"value\":\"butt\"},\"line_color\":{\"value\":\"#6d904f\"},\"line_dash\":{\"value\":[]},\"line_dash_offset\":{\"value\":0},\"line_join\":{\"value\":\"bevel\"},\"line_width\":{\"value\":1},\"marker\":{\"value\":\"circle\"},\"size\":{\"value\":5.477225575051661},\"x\":{\"field\":\"TotalCoinsMined\"},\"y\":{\"field\":\"TotalCoinSupply\"}},\"id\":\"1442\",\"type\":\"Scatter\"},{\"attributes\":{\"tools\":[{\"id\":\"1310\"},{\"id\":\"1331\"},{\"id\":\"1332\"},{\"id\":\"1333\"},{\"id\":\"1334\"},{\"id\":\"1335\"}]},\"id\":\"1337\",\"type\":\"Toolbar\"},{\"attributes\":{\"axis\":{\"id\":\"1323\"},\"coordinates\":null,\"grid_line_color\":null,\"group\":null,\"ticker\":null},\"id\":\"1326\",\"type\":\"Grid\"},{\"attributes\":{\"click_policy\":\"mute\",\"coordinates\":null,\"group\":null,\"items\":[{\"id\":\"1369\"},{\"id\":\"1391\"},{\"id\":\"1415\"},{\"id\":\"1441\"}],\"location\":[0,0],\"title\":\"Class\"},\"id\":\"1368\",\"type\":\"Legend\"},{\"attributes\":{\"margin\":[5,5,5,5],\"name\":\"HSpacer02175\",\"sizing_mode\":\"stretch_width\"},\"id\":\"1307\",\"type\":\"Spacer\"},{\"attributes\":{},\"id\":\"1412\",\"type\":\"UnionRenderers\"},{\"attributes\":{\"coordinates\":null,\"data_source\":{\"id\":\"1371\"},\"glyph\":{\"id\":\"1374\"},\"group\":null,\"hover_glyph\":null,\"muted_glyph\":{\"id\":\"1376\"},\"nonselection_glyph\":{\"id\":\"1375\"},\"selection_glyph\":{\"id\":\"1392\"},\"view\":{\"id\":\"1378\"}},\"id\":\"1377\",\"type\":\"GlyphRenderer\"},{\"attributes\":{\"fill_color\":{\"value\":\"#30a2da\"},\"hatch_color\":{\"value\":\"#30a2da\"},\"line_color\":{\"value\":\"#30a2da\"},\"size\":{\"value\":5.477225575051661},\"x\":{\"field\":\"TotalCoinsMined\"},\"y\":{\"field\":\"TotalCoinSupply\"}},\"id\":\"1353\",\"type\":\"Scatter\"},{\"attributes\":{\"source\":{\"id\":\"1371\"}},\"id\":\"1378\",\"type\":\"CDSView\"},{\"attributes\":{\"coordinates\":null,\"data_source\":{\"id\":\"1417\"},\"glyph\":{\"id\":\"1420\"},\"group\":null,\"hover_glyph\":null,\"muted_glyph\":{\"id\":\"1422\"},\"nonselection_glyph\":{\"id\":\"1421\"},\"selection_glyph\":{\"id\":\"1442\"},\"view\":{\"id\":\"1424\"}},\"id\":\"1423\",\"type\":\"GlyphRenderer\"},{\"attributes\":{\"data\":{\"Class\":[3,3,3,3,3,3,3,3,3,3,3,3,3,3,3,3,3,3,3,3,3,3,3,3,3,3,3,3,3,3,3,3,3,3,3,3,3,3,3,3,3,3,3,3,3,3,3,3,3,3,3,3,3,3,3,3,3,3,3,3,3,3,3,3,3,3,3,3,3,3,3,3,3,3,3,3,3,3,3,3,3,3,3,3,3,3,3,3,3,3,3,3,3,3,3,3,3,3,3,3,3,3,3,3,3,3,3,3],\"CoinName\":[\"Ethereum\",\"Monero\",\"Ethereum Classic\",\"ZCash\",\"DigiByte\",\"MyriadCoin\",\"Riecoin\",\"Diamond\",\"Verge\",\"FeatherCoin\",\"MediterraneanCoin\",\"Vertcoin\",\"ByteCoin\",\"DigitalNote \",\"StorjCoin\",\"FairCoin\",\"Unitus\",\"Cryptonite\",\"Crypto\",\"Expanse\",\"Siacoin\",\"Decred\",\"HOdlcoin\",\"SoilCoin\",\"Komodo\",\"Karbo\",\"Circuits of Value\",\"ZCoin\",\"Elementrem\",\"ZClassic\",\"Cannabis Industry Coin\",\"Bikercoins\",\"HexxCoin\",\"Citadel\",\"Zero\",\"Zoin\",\"DubaiCoin\",\"TajCoin\",\"Coinonat\",\"Quantum Resistant Ledger\",\"Espers\",\"Dynamic\",\"Nano\",\"ChanCoin\",\"Dinastycoin\",\"LeviarCoin\",\"SmartCash\",\"Sumokoin\",\"BitcoinZ\",\"VIVO Coin\",\"Bitcoin Gold\",\"Pirl\",\"Innova\",\"Ellaism\",\"GoByte\",\"SHIELD\",\"UltraNote\",\"BitCoal\",\"DaxxCoin\",\"Lethean\",\"Photon\",\"SparksPay\",\"GunCoin\",\"Interzone\",\"1717 Masonic Commemorative Token\",\"TurtleCoin\",\"Niobio Cash\",\"Travelflex\",\"KREDS\",\"Stipend\",\"Callisto Network\",\"BitTube\",\"Aidos Kuneen\",\"Bitrolium\",\"Alpenschillling\",\"Monero Classic\",\"Jumpcoin\",\"Infinex\",\"GINcoin\",\"PlatinCoin\",\"Loki\",\"Newton Coin\",\"MassGrid\",\"PluraCoin\",\"Muse\",\"PlusOneCoin\",\"Absolute Coin\",\"Webchain\",\"Ryo\",\"Qwertycoin\",\"XDNA\",\"CrypticCoin\",\"Actinium\",\"FREDEnergy\",\"Universal Molecule\",\"Lithium\",\"PirateCash\",\"Exosis\",\"Beam\",\"Bithereum\",\"UFO Coin\",\"BlakeCoin\",\"Groestlcoin\",\"JoinCoin\",\"Vollar\",\"Reality Clash\",\"Beldex\",\"Horizen\"],\"TotalCoinSupply\":{\"__ndarray__\":\"AAAAAAAAAAAAAAAAAAAAALx5qkNuhis/ycfuAiUF9j4bL90kBoGVP/yp8dJNYmA/ycfuAiUFFj/1h387/V7SPqRTVz7L85A/ycfuAiUFNj8sQxzr4jYqP8nH7gIlBRY/OBuRDKGcxz97FK5H4XqEP/yp8dJNYkA/AAAAAAAAAAAAAAAAAAAAANrmxvSEJV4/lEK5IQg/ET+vYF3BRrrxPgAAAAAAAAAAycfuAiUF9j42oPInYnwVP2kdVU0Qdf8+LEMc6+I2Kj/waOOItfjkPmEyVTAqqVM/hrpZzYRw9j5ocXvtfnr7PsnH7gIlBfY+ycfuAiUF9j4sQxzr4jb6Pu41tGW1+OQ+VvFG5pE/KD9mTMEaZ9PxPsnH7gIlBfY+EXF8Th67wj5U/IRYolgDP8rwgRhGTAk/vHmqQ26GGz+ZmZmZmZmpPwAAAAAAAAAANV8+o/1MNj9pHVVNEHX/Pvyp8dJNYmA/3gAz38FPDD97FK5H4Xp0P2CLvnc7TRc/Gy/dJAaBlT/eADPfwU/8PsnH7gIlBfY+L4g6nMh8JD8O1v85zJcHP9L7xteeWTI/3jAbrh+sAD84hCo1e6BFP8L1KFyPwrU/LEMc6+I26j57FK5H4XqEPzK1JRshYFA/CtejcD0Ktz/Jx+4CJQX2Pvyp8dJNYkA/e4UF9wMe+D59+P0YZiW7PgAAAAAAAPA/ycfuAiUFNj8sQxzr4jYaPy9uowG8BVI/KIbbf7NH9D45tMh2vp96P/yp8dJNYlA/LEMc6+I2+j7S+8bXnlkSP2EyVTAqqTM//J03XzZL8z7Jx+4CJQX2PvBLP9l7jvs+ycfuAiUF5j48NxtNK6lDP2EyVTAqqSM/WmQ730+Nxz/Jx+4CJQUmP/yp8dJNYlA/HckrP8z18j7Jx+4CJQX2Prx5qkNuhgs/eekmMQisXD8twS+PQR4XP1vri4S2nMc/oBnEB3b8Nz/FjzF3LSF/P8nH7gIlBRY/znADPj+MgD+ul5Tfe44bPzgBR+9NdPo+vHmqQ26GGz/Jx+4CJQX2PnaPx2cNOTE/insV4XIxAD/8qfHSTWJwP3npJjEIrHw/vHmqQ26GGz9fGWVH9HzHPhWMSuoENGE/Nnixsm6t+T753kqU9fBWP8nH7gIlBfY+\",\"dtype\":\"float64\",\"order\":\"little\",\"shape\":[108]},\"TotalCoinsMined\":{\"__ndarray__\":\"b4rWT6SDHD8IECcwFDjyPvAMQlVeBB4/AW9zJJ5H3z5Lp6Q/npiHPwjjJ6Co8Fs/EG8kTYs9Cj9vGB4QAQDMPsxlih8PepA/4fJtu5OgKz/EN/Ari2kFPzXfW1HfGQs/WFBP3X7Mxz8SQ1RVUZN8P5OnqTHLGQs/ibYLlr8rDD9F7aCJ3T0RP2iQg1h8c0c/0L1ZHKoc7T6pIsEbkTvmPi7peHQhHqE/fuesSPH05T63afQdvkDoPsgfzWVlKNg+8FkqM3GwHj+LagAvFZLgPnpDQwW4jFA/2DMeo0EI4D5jADv2nsH7PoUw/kBpyNc+tcMN/maTsD4McAKMU9LjPsb/dMFKy78+0p/hlqM85z7ziPBDLlPdPtaj38qrpPM+y6MlnoTrwj6/xleSd8/pPoGHiPbJceU+/1QSxMZHEj88BPu50pWXP2Eqf0B79PQ+tYeKh0ikIT8vjfwBHn/zPoSsKiM08l0/CdfFZ+z/7T6BzRtQQ4tiP7gWTFi/8+I+KbqbvfiPdT+41qr3XKbRPtsdILtoOPI+XtPFhsf/AT/aXBqSjwLbPi7JbWbBBes+PdU3xKy12D54mM3V0+M/P+WDv4u68ZM/LVBTnacQ0z6ZH0xtvj1BP7+wa/LPNT0/wKP4upcfnz9U9mHEoZ/gPjPTG1aj2DM/mKoz5Vc+6T5uceIZfmu7Pq1f7GWUe6s/DdRa8Xi7IT/Z8QcfT2scP1Ay2BUqT0U/5zpHmZTV5z7YL9a/QWQwPxWp9R5TMhU/B3K8ML16+j73YJbAAeUSP1ld1rdd9fw+ypskKPb28D7608Uz8VD2PvZNHrfomNU+yzphbmeZ3T6Pmy8IuNh2PhjZ6gl/SfQ+g1nCOEpbpT+RgAu44vwhP4LOT27aiUI/wKsguotF8z4f5SubYVDiPjmttaFBPuw+6vBgVo+A8D7RgN8kn7jUPriw3DhKvrk/7om/ZcPL0z5Pq/yKvoVxP1or9CUo4uw+rhUfyy/mXj+0RLaqCL+6PnZqj8zTyPA+mEbyFfiL7D5qzDKsbYabPpubDoNU5gI/cW/NA6Cj+j6w2CDJDqZvP5cn8MEuvfg+7ARGD7NoEz8gMXRQrz3MPvtFfmC/eho/gseFIuXv+T6pGh9y7ThQP37YbI3H6d4+\",\"dtype\":\"float64\",\"order\":\"little\",\"shape\":[108]}},\"selected\":{\"id\":\"1418\"},\"selection_policy\":{\"id\":\"1438\"}},\"id\":\"1417\",\"type\":\"ColumnDataSource\"},{\"attributes\":{\"label\":{\"value\":\"0\"},\"renderers\":[{\"id\":\"1356\"}]},\"id\":\"1369\",\"type\":\"LegendItem\"},{\"attributes\":{},\"id\":\"1319\",\"type\":\"LinearScale\"},{\"attributes\":{\"fill_alpha\":{\"value\":0.2},\"fill_color\":{\"value\":\"#fc4f30\"},\"hatch_alpha\":{\"value\":0.2},\"hatch_color\":{\"value\":\"#fc4f30\"},\"line_alpha\":{\"value\":0.2},\"line_color\":{\"value\":\"#fc4f30\"},\"size\":{\"value\":5.477225575051661},\"x\":{\"field\":\"TotalCoinsMined\"},\"y\":{\"field\":\"TotalCoinSupply\"}},\"id\":\"1376\",\"type\":\"Scatter\"},{\"attributes\":{\"fill_alpha\":{\"value\":0.1},\"fill_color\":{\"value\":\"#fc4f30\"},\"hatch_alpha\":{\"value\":0.1},\"hatch_color\":{\"value\":\"#fc4f30\"},\"line_alpha\":{\"value\":0.1},\"line_color\":{\"value\":\"#fc4f30\"},\"size\":{\"value\":5.477225575051661},\"x\":{\"field\":\"TotalCoinsMined\"},\"y\":{\"field\":\"TotalCoinSupply\"}},\"id\":\"1375\",\"type\":\"Scatter\"},{\"attributes\":{},\"id\":\"1324\",\"type\":\"BasicTicker\"},{\"attributes\":{},\"id\":\"1388\",\"type\":\"UnionRenderers\"},{\"attributes\":{\"fill_alpha\":{\"value\":0.2},\"fill_color\":{\"value\":\"#e5ae38\"},\"hatch_alpha\":{\"value\":0.2},\"hatch_color\":{\"value\":\"#e5ae38\"},\"line_alpha\":{\"value\":0.2},\"line_color\":{\"value\":\"#e5ae38\"},\"size\":{\"value\":5.477225575051661},\"x\":{\"field\":\"TotalCoinsMined\"},\"y\":{\"field\":\"TotalCoinSupply\"}},\"id\":\"1398\",\"type\":\"Scatter\"},{\"attributes\":{\"data\":{\"Class\":[2,2,2,2,2,2,2,2,2,2,2,2,2,2,2,2,2,2,2,2,2,2,2,2,2,2,2,2,2,2,2,2,2,2,2,2,2,2,2,2,2,2,2,2,2,2,2,2,2,2,2,2,2,2,2,2,2,2,2,2,2,2,2,2,2,2,2,2,2,2,2,2,2,2,2,2,2,2,2,2,2,2,2,2,2,2,2,2,2,2,2,2,2,2,2,2,2,2,2,2,2],\"CoinName\":[\"Bitshares\",\"PayCoin\",\"CasinoCoin\",\"Exclusive Coin\",\"HyperStake\",\"MintCoin\",\"Nautilus Coin\",\"SuperCoin\",\"TeslaCoin\",\"TittieCoin\",\"Crypti\",\"BurstCoin\",\"RubyCoin\",\"Dnotes\",\"Ucoin\",\"Squall Coin\",\"Diggits\",\"GPU Coin\",\"ZeitCoin\",\"SafeExchangeCoin\",\"Nebuchadnezzar\",\"Let it Ride\",\"MudraCoin\",\"Lutetium Coin\",\"BitCurrency\",\"Opair\",\"CoffeeCoin\",\"RoyalCoin\",\"TeamUP\",\"ARK\",\"FreeCoin\",\"Creatio\",\"PandaCoin\",\"Allsafe\",\"Zilbercoin\",\"FindCoin\",\"RenosCoin\",\"Atmos\",\"MacronCoin\",\"ProCurrency\",\"GrowthCoin\",\"Phreak\",\"Ultimate Secure Cash\",\"QTUM\",\"Signatum\",\"Draftcoin\",\"Stakecoin\",\"Obsidian\",\"Cardano\",\"Rupee\",\"KekCoin\",\"Infinity Economics\",\"Lamden Tau\",\"Bulwark\",\"Kalkulus\",\"Digiwage\",\"Monkey Project\",\"TokenPay\",\"Tokyo Coin\",\"BiblePay\",\"Poa Network\",\"Velox\",\"Ontology\",\"MedicCoin\",\"Bitcoin Green\",\"Deviant Coin\",\"Semux\",\"Zealium\",\"Proton\",\"Bitcoin Incognito\",\"HollyWoodCoin\",\"Xt3ch\",\"Dekado\",\"Lynx\",\"Poseidon Quark\",\"BitcoinWSpectrum\",\"Dystem\",\"Peony Coin\",\"Vitae\",\"ARENON\",\"MMOCoin\",\"Ketan\",\"PAXEX\",\"Acute Angle Cloud\",\"Bettex coin\",\"Junson Ming Chan Coin\",\"Crypto Sports\",\"Dash Platinum\",\"ALAX\",\"NeosCoin\",\"Radium\",\"Lisk\",\"HiCoin\",\"EOS\",\"Oxycoin\",\"TigerCash\",\"Waves\",\"Particl\",\"Nxt\",\"ZEPHYR\",\"BitcoinPlus\"],\"TotalCoinSupply\":{\"__ndarray__\":\"zHCykfF+bT8sQxzr4jbqPnsUrkfheqQ/AAAAAAAAAAAAAAAAAAAAAAAAAAAAAAAAydoyIkn38D4AAAAAAAAAACxDHOviNho/SFD8GHPXYj8AAAAAAAAAAFBV+ctbr2E/AAAAAAAAAAD8qfHSTWJAP/Bo44i1+PQ+AAAAAAAAAAAsQxzr4jYaP/UOeKZL+Sw/8tJNYhBYuT/eugqBmZdhP/Bo44i1+PQ+sHQ+PEuQAT8sQxzr4jYqP1RzucFQh0U/AAAAAAAAAACrWtJRDmYTPzTUrwey+AQ/gj1WtPn4xD5P6PUn8bkzP/yp8dJNYiA/LEMc6+I2Cj/waOOItfj0Pu4Ka5HLpaA/aR1VTRB17z5LsDic+dUMP/MyGmP4de4+4j8h46IMAj+Sq6ZJcOkcPyxDHOviNjo/MzMzMzMzsz/8qfHSTWJgP2kdVU0Qdf8+KVfeMLY5Kj8sQxzr4jYaPy9uowG8BSI/Wy41vFtA8j5HAidX5yUQP3nYGyMC9Rc/CtejcD0Kpz9U5BBxcyr5PsnH7gIlBfY+O99PjZdugj/8qfHSTWJAP23BD1X9D/0+8GjjiLX49D5pHVVNEHUfP8nH7gIlBfY+LEMc6+I2+j4sQxzr4jZKP5T2Bl+YTHU/hFoo4ZaLMD8hPrDjv0AgP/yp8dJNYlA//Knx0k1iQD/Jx+4CJQX2PqIm+nyUERc/LEMc6+I2Gj/waOOItfgUPw7W/znMlwc/ycfuAiUF9j4FoidlUkP7PqIm+nyUEQc/Dtb/OcyXFz9aZDvfT423P5T2Bl+YTEU/CVblkHtIGj/Jx+4CJQX2Pn5v05/9SJE/LEMc6+I2Gj9LsDic+dUMP0PFOH8TCjE/vHmqQ26GKz8sQxzr4jYaP/yp8dJNYlA/LEMc6+I2Cj8AAAAAAAAAABbj0872Cew+4zITsS2o9D78qfHSTWJQP8nH7gIlBfY+P6vMlNbf4j7zNZeY+PUkP0VzyS2Df4Q/AAAAAAAAAAAAAAAAAAAAAPyp8dJNYlA/LEMc6+I2Gj9TVG0qaxviPvyp8dJNYlA//Knx0k1iYD+N7bWg98awPg==\",\"dtype\":\"float64\",\"order\":\"little\",\"shape\":[101]},\"TotalCoinsMined\":{\"__ndarray__\":\"q7iVeqGvZj9bs+U3DGnpPj3HXP3lr6Q/ye+KsSkQ2D5inLP0asdbP9P/Zw6GBpY/vHgiJTIj8T7xOIGbr9oKP0OS6FanQBU/dL+NX1fZWj/7RX5gv3oaPy/396lQAV4/O+kaShDL/D5j1BshaR8nP0rkrkGmysY+9tXcrxNQlj77RX5gv3oaP+M/h2urbwU/7L0e6OUeoz/5/xJuJMVhP5EAUiv9LvU+ObDN1M5vBD/CsEps9C7VPlS9UGUMv0U/T/4f/1R0Jj9BXEdrkJoTP/40hsiRsCM/Wt3Yni0vxT7QJpJKht/yPoyfDBK/phw/qVTopb56Cj+RAFIr/S71PqoI1U/GfKE/gWG4BsRH5j75z9m7pMPIPqCFXv7NxO4+wOPA2IUXAz9HFGw/nm0dP/WgsIfWkjo/B3WXBL6fGj8ypmSan4kzP1eTWKvlIOg+ANsHOQzp5T77RX5gv3oaP0ym0ZMzlxw/OtFFwIrE8z6Y71vOWvLQPgdyvDC9evo+e/z7ZVvRmj+8wUDJlmv5PsQ04FD5Huo+SDE8EU+egj+6ihEDPBIzP2ulizrsD+w+x4lPZ4v18T5y9oQbTOr8PuGmB20PrNI+u9zKYeKn9T7u50V4sX0uP49YDZHaU10/nBkleI8SKz/QEgJQTBX7PhibEdXsikU/uGecINyxMT/aDqH1hMTkPudS3lPTK/c+mhHUuAbdtD6ib5N/FnbnPsNzqfNQqNI+khOeM70Z5z6hJAmaq38EP/TH2vq5KeA+cjI/RMYJAD98JpgkCCO0PyvK//sHBMc+Nkl3o7idDj816e99hAHePkaEeyF8qLE+h6Fq6Z99ET9WbQyj6mj0Ppv6hHEKiRw/xGg1vBTC4z6LmxGrrxXTPnpDQwW4jFA/j6T3FZPB3D6rIOPFGc2RPwfZcP2pZMA+4tbNEUVBqD56Q0MFuIxQP39hyEvMm9I+S/YcU3ow0D4y4x8SUscfP/Gwxj8HsIQ/RW+UnMLjUD8RwmraN5NSP3pDQwW4jFA/+0V+YL96Gj+zRUkYOarjPnpDQwW4jFA/BxxxCriMYD9CDuXNaWSBPg==\",\"dtype\":\"float64\",\"order\":\"little\",\"shape\":[101]}},\"selected\":{\"id\":\"1394\"},\"selection_policy\":{\"id\":\"1412\"}},\"id\":\"1393\",\"type\":\"ColumnDataSource\"},{\"attributes\":{},\"id\":\"1349\",\"type\":\"AllLabels\"},{\"attributes\":{\"end\":1.042857142857143,\"reset_end\":1.042857142857143,\"reset_start\":-0.04285714285714286,\"start\":-0.04285714285714286,\"tags\":[[[\"TotalCoinsMined\",\"TotalCoinsMined\",null]]]},\"id\":\"1308\",\"type\":\"Range1d\"},{\"attributes\":{\"fill_alpha\":{\"value\":0.1},\"fill_color\":{\"value\":\"#e5ae38\"},\"hatch_alpha\":{\"value\":0.1},\"hatch_color\":{\"value\":\"#e5ae38\"},\"line_alpha\":{\"value\":0.1},\"line_color\":{\"value\":\"#e5ae38\"},\"size\":{\"value\":5.477225575051661},\"x\":{\"field\":\"TotalCoinsMined\"},\"y\":{\"field\":\"TotalCoinSupply\"}},\"id\":\"1397\",\"type\":\"Scatter\"},{\"attributes\":{\"fill_color\":{\"value\":\"#e5ae38\"},\"hatch_color\":{\"value\":\"#e5ae38\"},\"line_color\":{\"value\":\"#e5ae38\"},\"size\":{\"value\":5.477225575051661},\"x\":{\"field\":\"TotalCoinsMined\"},\"y\":{\"field\":\"TotalCoinSupply\"}},\"id\":\"1396\",\"type\":\"Scatter\"},{\"attributes\":{},\"id\":\"1348\",\"type\":\"BasicTickFormatter\"},{\"attributes\":{\"source\":{\"id\":\"1393\"}},\"id\":\"1400\",\"type\":\"CDSView\"},{\"attributes\":{\"coordinates\":null,\"group\":null,\"text_color\":\"black\",\"text_font_size\":\"12pt\"},\"id\":\"1315\",\"type\":\"Title\"},{\"attributes\":{},\"id\":\"1328\",\"type\":\"BasicTicker\"},{\"attributes\":{},\"id\":\"1321\",\"type\":\"LinearScale\"},{\"attributes\":{\"fill_alpha\":{\"value\":0.2},\"fill_color\":{\"value\":\"#30a2da\"},\"hatch_alpha\":{\"value\":0.2},\"hatch_color\":{\"value\":\"#30a2da\"},\"line_alpha\":{\"value\":0.2},\"line_color\":{\"value\":\"#30a2da\"},\"size\":{\"value\":5.477225575051661},\"x\":{\"field\":\"TotalCoinsMined\"},\"y\":{\"field\":\"TotalCoinSupply\"}},\"id\":\"1355\",\"type\":\"Scatter\"},{\"attributes\":{\"angle\":{\"value\":0.0},\"fill_alpha\":{\"value\":1.0},\"fill_color\":{\"value\":\"#fc4f30\"},\"hatch_alpha\":{\"value\":1.0},\"hatch_color\":{\"value\":\"#fc4f30\"},\"hatch_scale\":{\"value\":12.0},\"hatch_weight\":{\"value\":1.0},\"line_alpha\":{\"value\":1.0},\"line_cap\":{\"value\":\"butt\"},\"line_color\":{\"value\":\"#fc4f30\"},\"line_dash\":{\"value\":[]},\"line_dash_offset\":{\"value\":0},\"line_join\":{\"value\":\"bevel\"},\"line_width\":{\"value\":1},\"marker\":{\"value\":\"circle\"},\"size\":{\"value\":5.477225575051661},\"x\":{\"field\":\"TotalCoinsMined\"},\"y\":{\"field\":\"TotalCoinSupply\"}},\"id\":\"1392\",\"type\":\"Scatter\"},{\"attributes\":{\"axis_label\":\"TotalCoinSupply\",\"coordinates\":null,\"formatter\":{\"id\":\"1348\"},\"group\":null,\"major_label_policy\":{\"id\":\"1349\"},\"ticker\":{\"id\":\"1328\"}},\"id\":\"1327\",\"type\":\"LinearAxis\"},{\"attributes\":{\"fill_color\":{\"value\":\"#6d904f\"},\"hatch_color\":{\"value\":\"#6d904f\"},\"line_color\":{\"value\":\"#6d904f\"},\"size\":{\"value\":5.477225575051661},\"x\":{\"field\":\"TotalCoinsMined\"},\"y\":{\"field\":\"TotalCoinSupply\"}},\"id\":\"1420\",\"type\":\"Scatter\"},{\"attributes\":{\"coordinates\":null,\"data_source\":{\"id\":\"1393\"},\"glyph\":{\"id\":\"1396\"},\"group\":null,\"hover_glyph\":null,\"muted_glyph\":{\"id\":\"1398\"},\"nonselection_glyph\":{\"id\":\"1397\"},\"selection_glyph\":{\"id\":\"1416\"},\"view\":{\"id\":\"1400\"}},\"id\":\"1399\",\"type\":\"GlyphRenderer\"},{\"attributes\":{\"axis_label\":\"TotalCoinsMined\",\"coordinates\":null,\"formatter\":{\"id\":\"1345\"},\"group\":null,\"major_label_policy\":{\"id\":\"1346\"},\"ticker\":{\"id\":\"1324\"}},\"id\":\"1323\",\"type\":\"LinearAxis\"},{\"attributes\":{\"label\":{\"value\":\"2\"},\"renderers\":[{\"id\":\"1399\"}]},\"id\":\"1415\",\"type\":\"LegendItem\"},{\"attributes\":{\"angle\":{\"value\":0.0},\"fill_alpha\":{\"value\":1.0},\"fill_color\":{\"value\":\"#30a2da\"},\"hatch_alpha\":{\"value\":1.0},\"hatch_color\":{\"value\":\"#30a2da\"},\"hatch_scale\":{\"value\":12.0},\"hatch_weight\":{\"value\":1.0},\"line_alpha\":{\"value\":1.0},\"line_cap\":{\"value\":\"butt\"},\"line_color\":{\"value\":\"#30a2da\"},\"line_dash\":{\"value\":[]},\"line_dash_offset\":{\"value\":0},\"line_join\":{\"value\":\"bevel\"},\"line_width\":{\"value\":1},\"marker\":{\"value\":\"circle\"},\"size\":{\"value\":5.477225575051661},\"x\":{\"field\":\"TotalCoinsMined\"},\"y\":{\"field\":\"TotalCoinSupply\"}},\"id\":\"1370\",\"type\":\"Scatter\"},{\"attributes\":{\"axis\":{\"id\":\"1327\"},\"coordinates\":null,\"dimension\":1,\"grid_line_color\":null,\"group\":null,\"ticker\":null},\"id\":\"1330\",\"type\":\"Grid\"},{\"attributes\":{\"data\":{\"Class\":[1],\"CoinName\":[\"BitTorrent\"],\"TotalCoinSupply\":{\"__ndarray__\":\"rkfhehSu7z8=\",\"dtype\":\"float64\",\"order\":\"little\",\"shape\":[1]},\"TotalCoinsMined\":{\"__ndarray__\":\"AAAAAAAA8D8=\",\"dtype\":\"float64\",\"order\":\"little\",\"shape\":[1]}},\"selected\":{\"id\":\"1372\"},\"selection_policy\":{\"id\":\"1388\"}},\"id\":\"1371\",\"type\":\"ColumnDataSource\"},{\"attributes\":{\"fill_alpha\":{\"value\":0.1},\"fill_color\":{\"value\":\"#6d904f\"},\"hatch_alpha\":{\"value\":0.1},\"hatch_color\":{\"value\":\"#6d904f\"},\"line_alpha\":{\"value\":0.1},\"line_color\":{\"value\":\"#6d904f\"},\"size\":{\"value\":5.477225575051661},\"x\":{\"field\":\"TotalCoinsMined\"},\"y\":{\"field\":\"TotalCoinSupply\"}},\"id\":\"1421\",\"type\":\"Scatter\"},{\"attributes\":{\"fill_alpha\":{\"value\":0.2},\"fill_color\":{\"value\":\"#6d904f\"},\"hatch_alpha\":{\"value\":0.2},\"hatch_color\":{\"value\":\"#6d904f\"},\"line_alpha\":{\"value\":0.2},\"line_color\":{\"value\":\"#6d904f\"},\"size\":{\"value\":5.477225575051661},\"x\":{\"field\":\"TotalCoinsMined\"},\"y\":{\"field\":\"TotalCoinSupply\"}},\"id\":\"1422\",\"type\":\"Scatter\"},{\"attributes\":{\"label\":{\"value\":\"1\"},\"renderers\":[{\"id\":\"1377\"}]},\"id\":\"1391\",\"type\":\"LegendItem\"},{\"attributes\":{\"label\":{\"value\":\"3\"},\"renderers\":[{\"id\":\"1423\"}]},\"id\":\"1441\",\"type\":\"LegendItem\"},{\"attributes\":{},\"id\":\"1418\",\"type\":\"Selection\"},{\"attributes\":{},\"id\":\"1394\",\"type\":\"Selection\"},{\"attributes\":{\"fill_color\":{\"value\":\"#fc4f30\"},\"hatch_color\":{\"value\":\"#fc4f30\"},\"line_color\":{\"value\":\"#fc4f30\"},\"size\":{\"value\":5.477225575051661},\"x\":{\"field\":\"TotalCoinsMined\"},\"y\":{\"field\":\"TotalCoinSupply\"}},\"id\":\"1374\",\"type\":\"Scatter\"},{\"attributes\":{\"source\":{\"id\":\"1417\"}},\"id\":\"1424\",\"type\":\"CDSView\"},{\"attributes\":{\"margin\":[5,5,5,5],\"name\":\"HSpacer02176\",\"sizing_mode\":\"stretch_width\"},\"id\":\"1587\",\"type\":\"Spacer\"},{\"attributes\":{\"source\":{\"id\":\"1350\"}},\"id\":\"1357\",\"type\":\"CDSView\"},{\"attributes\":{},\"id\":\"1438\",\"type\":\"UnionRenderers\"},{\"attributes\":{},\"id\":\"1331\",\"type\":\"SaveTool\"},{\"attributes\":{},\"id\":\"1332\",\"type\":\"PanTool\"},{\"attributes\":{},\"id\":\"1346\",\"type\":\"AllLabels\"},{\"attributes\":{},\"id\":\"1335\",\"type\":\"ResetTool\"},{\"attributes\":{},\"id\":\"1333\",\"type\":\"WheelZoomTool\"},{\"attributes\":{},\"id\":\"1365\",\"type\":\"UnionRenderers\"},{\"attributes\":{},\"id\":\"1345\",\"type\":\"BasicTickFormatter\"},{\"attributes\":{\"coordinates\":null,\"data_source\":{\"id\":\"1350\"},\"glyph\":{\"id\":\"1353\"},\"group\":null,\"hover_glyph\":null,\"muted_glyph\":{\"id\":\"1355\"},\"nonselection_glyph\":{\"id\":\"1354\"},\"selection_glyph\":{\"id\":\"1370\"},\"view\":{\"id\":\"1357\"}},\"id\":\"1356\",\"type\":\"GlyphRenderer\"},{\"attributes\":{\"angle\":{\"value\":0.0},\"fill_alpha\":{\"value\":1.0},\"fill_color\":{\"value\":\"#e5ae38\"},\"hatch_alpha\":{\"value\":1.0},\"hatch_color\":{\"value\":\"#e5ae38\"},\"hatch_scale\":{\"value\":12.0},\"hatch_weight\":{\"value\":1.0},\"line_alpha\":{\"value\":1.0},\"line_cap\":{\"value\":\"butt\"},\"line_color\":{\"value\":\"#e5ae38\"},\"line_dash\":{\"value\":[]},\"line_dash_offset\":{\"value\":0},\"line_join\":{\"value\":\"bevel\"},\"line_width\":{\"value\":1},\"marker\":{\"value\":\"circle\"},\"size\":{\"value\":5.477225575051661},\"x\":{\"field\":\"TotalCoinsMined\"},\"y\":{\"field\":\"TotalCoinSupply\"}},\"id\":\"1416\",\"type\":\"Scatter\"},{\"attributes\":{\"overlay\":{\"id\":\"1336\"}},\"id\":\"1334\",\"type\":\"BoxZoomTool\"},{\"attributes\":{\"children\":[{\"id\":\"1307\"},{\"id\":\"1314\"},{\"id\":\"1587\"}],\"margin\":[0,0,0,0],\"name\":\"Row02171\",\"tags\":[\"embedded\"]},\"id\":\"1306\",\"type\":\"Row\"},{\"attributes\":{\"callback\":null,\"renderers\":[{\"id\":\"1356\"},{\"id\":\"1377\"},{\"id\":\"1399\"},{\"id\":\"1423\"}],\"tags\":[\"hv_created\"],\"tooltips\":[[\"Class\",\"@{Class}\"],[\"TotalCoinsMined\",\"@{TotalCoinsMined}\"],[\"TotalCoinSupply\",\"@{TotalCoinSupply}\"],[\"CoinName\",\"@{CoinName}\"]]},\"id\":\"1310\",\"type\":\"HoverTool\"},{\"attributes\":{\"below\":[{\"id\":\"1323\"}],\"center\":[{\"id\":\"1326\"},{\"id\":\"1330\"}],\"height\":300,\"left\":[{\"id\":\"1327\"}],\"margin\":[5,5,5,5],\"min_border_bottom\":10,\"min_border_left\":10,\"min_border_right\":10,\"min_border_top\":10,\"renderers\":[{\"id\":\"1356\"},{\"id\":\"1377\"},{\"id\":\"1399\"},{\"id\":\"1423\"}],\"right\":[{\"id\":\"1368\"}],\"sizing_mode\":\"fixed\",\"title\":{\"id\":\"1315\"},\"toolbar\":{\"id\":\"1337\"},\"width\":700,\"x_range\":{\"id\":\"1308\"},\"x_scale\":{\"id\":\"1319\"},\"y_range\":{\"id\":\"1309\"},\"y_scale\":{\"id\":\"1321\"}},\"id\":\"1314\",\"subtype\":\"Figure\",\"type\":\"Plot\"},{\"attributes\":{\"end\":1.1,\"reset_end\":1.1,\"reset_start\":-0.1,\"start\":-0.1,\"tags\":[[[\"TotalCoinSupply\",\"TotalCoinSupply\",null]]]},\"id\":\"1309\",\"type\":\"Range1d\"},{\"attributes\":{\"data\":{\"Class\":[0,0,0,0,0,0,0,0,0,0,0,0,0,0,0,0,0,0,0,0,0,0,0,0,0,0,0,0,0,0,0,0,0,0,0,0,0,0,0,0,0,0,0,0,0,0,0,0,0,0,0,0,0,0,0,0,0,0,0,0,0,0,0,0,0,0,0,0,0,0,0,0,0,0,0,0,0,0,0,0,0,0,0,0,0,0,0,0,0,0,0,0,0,0,0,0,0,0,0,0,0,0,0,0,0,0,0,0,0,0,0,0,0,0,0,0,0,0,0,0,0,0,0,0,0,0,0,0,0,0,0,0,0,0,0,0,0,0,0,0,0,0,0,0,0,0,0,0,0,0,0,0,0,0,0,0,0,0,0,0,0,0,0,0,0,0,0,0,0,0,0,0,0,0,0,0,0,0,0,0,0,0,0,0,0,0,0,0,0,0,0,0,0,0,0,0,0,0,0,0,0,0,0,0,0,0,0,0,0,0,0,0,0,0,0,0,0,0,0,0,0,0,0,0,0,0,0,0,0,0,0,0,0,0,0,0,0,0,0,0,0,0,0,0,0,0,0,0,0,0,0,0,0,0,0,0,0,0,0,0,0,0,0,0,0,0,0,0,0,0,0,0,0,0,0,0,0,0,0,0,0,0,0,0,0,0,0,0,0,0,0,0,0,0,0,0,0,0,0,0,0,0,0,0,0,0,0,0,0,0,0,0,0,0,0,0,0,0,0,0,0,0],\"CoinName\":[\"42 Coin\",\"404Coin\",\"EliteCoin\",\"Bitcoin\",\"Litecoin\",\"Dash\",\"BitcoinDark\",\"ProsperCoin\",\"KoboCoin\",\"Spreadcoin\",\"Argentum\",\"Aurora Coin\",\"BlueCoin\",\"MoonCoin\",\"ZetaCoin\",\"SexCoin\",\"Quatloo\",\"EnergyCoin\",\"QuarkCoin\",\"Digitalcoin \",\"BitBar\",\"Catcoin\",\"CryptoBullion\",\"CannaCoin\",\"CryptCoin\",\"DevCoin\",\"EarthCoin\",\"E-Gulden\",\"Einsteinium\",\"Emerald\",\"FlutterCoin\",\"Franko\",\"GrandCoin\",\"GlobalCoin\",\"GoldCoin\",\"HoboNickels\",\"Infinite Coin\",\"IOCoin\",\"IXcoin\",\"KrugerCoin\",\"LuckyCoin\",\"Litebar \",\"MaxCoin\",\"MegaCoin\",\"MinCoin\",\"MazaCoin\",\"NavCoin\",\"NobleCoin\",\"Namecoin\",\"NyanCoin\",\"OpalCoin\",\"Orbitcoin\",\"PotCoin\",\"PhoenixCoin\",\"Reddcoin\",\"RonPaulCoin\",\"StableCoin\",\"SmartCoin\",\"SyncCoin\",\"SysCoin\",\"TigerCoin\",\"TorCoin\",\"TerraCoin\",\"UnbreakableCoin\",\"Unobtanium\",\"UroCoin\",\"UnitaryStatus Dollar\",\"UltraCoin\",\"ViaCoin\",\"VeriCoin\",\"WorldCoin\",\"X11 Coin\",\"JouleCoin\",\"StealthCoin\",\"ZCC Coin\",\"MonaCoin\",\"Neutron\",\"Gulden\",\"PesetaCoin\",\"Kore\",\"Wild Beast Coin\",\"Flo\",\"8BIT Coin\",\"Sativa Coin\",\"ArtByte\",\"Folding Coin\",\"CypherPunkCoin\",\"OmniCron\",\"Vtorrent\",\"GreenCoin\",\"MasterCoin\",\"SoonCoin\",\"1Credit\",\"IslaCoin\",\"Nexus\",\"MarsCoin \",\"Anarchists Prime\",\"Droidz\",\"BowsCoin\",\"Song Coin\",\"BitZeny\",\"Paycon\",\"Emercoin\",\"EverGreenCoin\",\"MindCoin\",\"I0coin\",\"Revolution VR\",\"EDRCoin\",\"Hitcoin\",\"Gamecredits\",\"DubaiCoin\",\"CarpeDiemCoin\",\"PWR Coin\",\"BillaryCoin\",\"Adzcoin\",\"YoCoin\",\"SibCoin\",\"EuropeCoin\",\"SwingCoin\",\"Francs\",\"BolivarCoin\",\"Ratecoin\",\"Revenu\",\"Clockcoin\",\"VIP Tokens\",\"BitSend\",\"Omni\",\"PutinCoin\",\"iBankCoin\",\"Frankywillcoin\",\"PizzaCoin\",\"GoldBlocks\",\"CarterCoin\",\"BitTokens\",\"ZayedCoin\",\"MustangCoin\",\"ZoneCoin\",\"RootCoin\",\"DopeCoin\",\"DollarCoin\",\"Swiscoin\",\"Shilling\",\"BuzzCoin\",\"PesoBit\",\"Halloween Coin\",\"GanjaCoin V2\",\"LanaCoin\",\"InsaneCoin\",\"KiloCoin\",\"ArtexCoin\",\"EmberCoin\",\"XenixCoin\",\"PLNCoin\",\"AquariusCoin\",\"Kurrent\",\"Eternity\",\"Eurocoin\",\"BitcoinFast\",\"Stakenet\",\"BitConnect Coin\",\"MoneyCoin\",\"Enigma\",\"Russiacoin\",\"GameUnits\",\"GAKHcoin\",\"LiteCreed\",\"OsmiumCoin\",\"Klingon Empire Darsek\",\"Internet of People\",\"KushCoin\",\"Printerium\",\"PacCoin\",\"Impeach\",\"FirstCoin\",\"BeaverCoin\",\"VaultCoin\",\"OpenChat\",\"Canada eCoin\",\"VirtacoinPlus\",\"Impact\",\"EB3coin\",\"HappyCoin\",\"Condensate\",\"Independent Money System\",\"ArgusCoin\",\"LomoCoin\",\"GoldReserve\",\"BenjiRolls\",\"ILCoin\",\"Degas Coin\",\"HTML5 Coin\",\"EquiTrader\",\"Denarius\",\"DigitalPrice\",\"Virta Unique Coin\",\"Bitcoin Planet\",\"Unify\",\"BritCoin\",\"SocialCoin\",\"ArcticCoin\",\"DAS\",\"Linda\",\"DeepOnion\",\"Bitcore\",\"gCn Coin\",\"Onix\",\"Cream\",\"Bitcoin Cash\",\"Monoeci\",\"Vechain\",\"Sojourn Coin\",\"NewYorkCoin\",\"FrazCoin\",\"Kronecoin\",\"AdCoin\",\"Linx\",\"CoinonatX\",\"Ethereum Dark\",\"Regalcoin\",\"TrezarCoin\",\"Elements\",\"TerraNovaCoin\",\"WomenCoin\",\"Theresa May Coin\",\"NamoCoin\",\"LUXCoin\",\"Xios\",\"Bitcloud 2.0\",\"eBoost\",\"BlackholeCoin\",\"Pura\",\"Magnet\",\"Electra\",\"Bitcoin Diamond\",\"Cash & Back Coin\",\"AC3\",\"GermanCoin\",\"LiteCoin Ultra\",\"PopularCoin\",\"PhantomX\",\"Sucre\",\"IrishCoin\",\"Trollcoin\",\"Litecoin Plus\",\"Pioneer Coin\",\"UnitedBitcoin\",\"My Big Coin\",\"MUNcoin\",\"Unified Society USDEX\",\"ShareChain\",\"LitecoinCash\",\"BitFlip\",\"LottoCoin\",\"Crypto Improvement Fund\",\"Pushi\",\"Ellerium\",\"Poseidon\",\"Bitspace\",\"Briacoin\",\"Ignition\",\"Abjcoin\",\"FuturoCoin\",\"Carebit\",\"iDealCash\",\"KEYCO\",\"Swisscoin\",\"TheVig\",\"EmaratCoin\",\"Motion\",\"Axe\",\"Trivechain\",\"Giant\",\"HexCoin\",\"TPCash\",\"Urals Coin\",\"EUNO\",\"Project Pai\",\"Azart\",\"ThunderStake\",\"Kcash\",\"Xchange\",\"Bitcoin SV\",\"BitMoney\",\"HerbCoin\",\"Block-Logic\",\"Oduwa\",\"Galilel\",\"Credit\",\"SLICE\",\"Nasdacoin\",\"Beetle Coin\",\"Titan Coin\",\"Award\",\"BLAST\",\"Bitcoin Rhodium\",\"GlobalToken\",\"Insane Coin\",\"LiteDoge\",\"SolarCoin\",\"TruckCoin\",\"OrangeCoin\",\"BitstarCoin\",\"HyperCoin\",\"PinkCoin\",\"Crypto Escudo\",\"AudioCoin\",\"IncaKoin\",\"Piggy Coin\",\"Crown Coin\",\"Genstake\",\"SmileyCoin\",\"XiaoMiCoin\",\"CapriCoin\",\" ClubCoin\",\"Bata\",\"Pakcoin\",\"Creditbit \",\"OKCash\",\"WhiteCoin\",\"FriendshipCoin\",\"Triangles Coin\",\"Gapcoin\"],\"TotalCoinSupply\":{\"__ndarray__\":\"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\",\"dtype\":\"float64\",\"order\":\"little\",\"shape\":[322]},\"TotalCoinsMined\":{\"__ndarray__\":\"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\",\"dtype\":\"float64\",\"order\":\"little\",\"shape\":[322]}},\"selected\":{\"id\":\"1351\"},\"selection_policy\":{\"id\":\"1365\"}},\"id\":\"1350\",\"type\":\"ColumnDataSource\"},{\"attributes\":{},\"id\":\"1372\",\"type\":\"Selection\"},{\"attributes\":{\"bottom_units\":\"screen\",\"coordinates\":null,\"fill_alpha\":0.5,\"fill_color\":\"lightgrey\",\"group\":null,\"left_units\":\"screen\",\"level\":\"overlay\",\"line_alpha\":1.0,\"line_color\":\"black\",\"line_dash\":[4,4],\"line_width\":2,\"right_units\":\"screen\",\"syncable\":false,\"top_units\":\"screen\"},\"id\":\"1336\",\"type\":\"BoxAnnotation\"}],\"root_ids\":[\"1306\"]},\"title\":\"Bokeh Application\",\"version\":\"2.4.2\"}};\n",
       "    var render_items = [{\"docid\":\"f63cee1a-43d5-46a8-8b0b-9d2fe71a51eb\",\"root_ids\":[\"1306\"],\"roots\":{\"1306\":\"c90eee5c-d990-44f3-8d77-bd3a8e4182a3\"}}];\n",
       "    root.Bokeh.embed.embed_items_notebook(docs_json, render_items);\n",
       "  }\n",
       "  if (root.Bokeh !== undefined && root.Bokeh.Panel !== undefined) {\n",
       "    embed_document(root);\n",
       "  } else {\n",
       "    var attempts = 0;\n",
       "    var timer = setInterval(function(root) {\n",
       "      if (root.Bokeh !== undefined && root.Bokeh.Panel !== undefined) {\n",
       "        clearInterval(timer);\n",
       "        embed_document(root);\n",
       "      } else if (document.readyState == \"complete\") {\n",
       "        attempts++;\n",
       "        if (attempts > 200) {\n",
       "          clearInterval(timer);\n",
       "          console.log(\"Bokeh: ERROR: Unable to run BokehJS code because BokehJS library is missing\");\n",
       "        }\n",
       "      }\n",
       "    }, 25, root)\n",
       "  }\n",
       "})(window);</script>"
      ],
      "text/plain": [
       ":NdOverlay   [Class]\n",
       "   :Scatter   [TotalCoinsMined]   (TotalCoinSupply,CoinName)"
      ]
     },
     "execution_count": 79,
     "metadata": {
      "application/vnd.holoviews_exec.v0+json": {
       "id": "1306"
      }
     },
     "output_type": "execute_result"
    }
   ],
   "source": [
    "# Create a hvplot.scatter plot using x=\"TotalCoinsMined\" and y=\"TotalCoinSupply\".\n",
    "plot_df.hvplot.scatter(x=\"TotalCoinsMined\", y=\"TotalCoinSupply\", by=\"Class\", hover_cols=[\"CoinName\"])\\"
   ]
  },
  {
   "cell_type": "code",
   "execution_count": null,
   "metadata": {},
   "outputs": [],
   "source": []
  }
 ],
 "metadata": {
  "file_extension": ".py",
  "kernelspec": {
   "display_name": "mlenv",
   "language": "python",
   "name": "mlenv"
  },
  "language_info": {
   "codemirror_mode": {
    "name": "ipython",
    "version": 3
   },
   "file_extension": ".py",
   "mimetype": "text/x-python",
   "name": "python",
   "nbconvert_exporter": "python",
   "pygments_lexer": "ipython3",
   "version": "3.7.13"
  },
  "latex_envs": {
   "LaTeX_envs_menu_present": true,
   "autoclose": false,
   "autocomplete": true,
   "bibliofile": "biblio.bib",
   "cite_by": "apalike",
   "current_citInitial": 1,
   "eqLabelWithNumbers": true,
   "eqNumInitial": 1,
   "hotkeys": {
    "equation": "Ctrl-E",
    "itemize": "Ctrl-I"
   },
   "labels_anchors": false,
   "latex_user_defs": false,
   "report_style_numbering": false,
   "user_envs_cfg": false
  },
  "mimetype": "text/x-python",
  "name": "python",
  "npconvert_exporter": "python",
  "pygments_lexer": "ipython3",
  "version": 3
 },
 "nbformat": 4,
 "nbformat_minor": 2
}
